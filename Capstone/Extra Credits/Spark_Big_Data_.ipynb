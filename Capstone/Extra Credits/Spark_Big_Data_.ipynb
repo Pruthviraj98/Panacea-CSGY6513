{
  "cells": [
    {
      "cell_type": "markdown",
      "source": [
        "# **Reproducibility Feedback Report**\n",
        "**Evaluation performed by Team - 7:**\n",
        "1. Jain, Swathi (sp6180)\n",
        "2. Patil, Pruthviraj (prp7650)\n",
        "3. Shathish, Nithya (nss9899)\n",
        "**Evaluation of the work of Team - 16:**\n",
        "\n",
        "https://github.com/shubhamgundawarNYU/Big-Data-Project-Group-16\n",
        "1. Gundawar, Shubham (ssg9763)\n",
        "2. Lakkad, Akshita (acl10003)\n",
        "3. Limbachiya, Yash (yvl208)\n",
        "\n",
        "### This notebook is not reproducible due to the following issues:\n",
        "1. Hard Coded Paths\n",
        "2. Download link is not in right format\n",
        "3. Unable to fetch dependency (Not Found Error)\n",
        "4. Connection Error\n",
        "\n",
        "Note: In the Notebook. we have mentioned our comments and suggestions after the code module. every comment of ours includes heading - **EXTRA CREDIT COMMENTS**"
      ],
      "metadata": {
        "id": "uNnvnmXZPVzX"
      }
    },
    {
      "cell_type": "markdown",
      "source": [
        "**"
      ],
      "metadata": {
        "id": "GUdmYSFS6chA"
      }
    },
    {
      "cell_type": "markdown",
      "source": [
        "**"
      ],
      "metadata": {
        "id": "eaC2gxlh6caq"
      }
    },
    {
      "cell_type": "markdown",
      "source": [
        "**"
      ],
      "metadata": {
        "id": "h-Nq6PjF6cUq"
      }
    },
    {
      "cell_type": "markdown",
      "metadata": {
        "id": "NOr5I8ODTUn1"
      },
      "source": [
        "<a href=\"https://colab.research.google.com/github/shubhamgundawarNYU/Big-Data-Project-Group-16/blob/main/NYPD_Complaint_Data_Historic.ipynb\" target=\"_parent\"><img src=\"https://colab.research.google.com/assets/colab-badge.svg\" alt=\"Open In Colab\"/></a>"
      ]
    },
    {
      "cell_type": "markdown",
      "metadata": {
        "id": "7-dJg3ZWVPHJ"
      },
      "source": [
        "##**BIG DATA PROJECT**\n",
        "\n",
        "### NYPD COMPLAINTS DATA HISTORIC \n",
        "Link to Dataset (https://data.cityofnewyork.us/Public-Safety/NYPD-Complaint-Data-Historic/qgea-i56i)\n",
        "\n",
        "### DATA CLEANING AT SCALE"
      ]
    },
    {
      "cell_type": "markdown",
      "metadata": {
        "id": "dZWscsxWG6BD"
      },
      "source": [
        "#### Mounting Google Drive to Google Collab Notebook to Load the Data Set\n",
        "\n",
        "Make sure you have the dataset in your Google Drive and you mount your drive to the Colab.\n",
        "\n",
        "The file should be at the following path: `gdrive/My Drive/NYPD_Complaint_Data_Historic.csv`\n"
      ]
    },
    {
      "cell_type": "code",
      "execution_count": null,
      "metadata": {
        "colab": {
          "base_uri": "https://localhost:8080/"
        },
        "id": "wSt7ZZI_zSt2",
        "outputId": "3188bd61-c0ca-4953-f86b-bffbea0194c3"
      },
      "outputs": [
        {
          "output_type": "stream",
          "name": "stdout",
          "text": [
            "Mounted at /content/gdrive\n"
          ]
        }
      ],
      "source": [
        "from google.colab import drive \n",
        "drive.mount('/content/gdrive')"
      ]
    },
    {
      "cell_type": "markdown",
      "metadata": {
        "id": "5XTa8wVQHjVm"
      },
      "source": [
        "#### Importing required and Necessary Libraries for cleaning the data present in the data set\n",
        "\n",
        "\n",
        "\n",
        "\n"
      ]
    },
    {
      "cell_type": "code",
      "execution_count": null,
      "metadata": {
        "id": "IglUIuU9ntFm"
      },
      "outputs": [],
      "source": [
        "import numpy as np\n",
        "import pandas as pd\n",
        "import io"
      ]
    },
    {
      "cell_type": "code",
      "execution_count": null,
      "metadata": {
        "colab": {
          "base_uri": "https://localhost:8080/"
        },
        "id": "a6CbM0l_UnFq",
        "outputId": "a196d210-3a89-41e6-e28f-46d29087bd82"
      },
      "outputs": [
        {
          "output_type": "stream",
          "name": "stdout",
          "text": [
            "Collecting pyspark\n",
            "  Downloading pyspark-3.2.0.tar.gz (281.3 MB)\n",
            "\u001b[K     |████████████████████████████████| 281.3 MB 37 kB/s \n",
            "\u001b[?25hCollecting py4j==0.10.9.2\n",
            "  Downloading py4j-0.10.9.2-py2.py3-none-any.whl (198 kB)\n",
            "\u001b[K     |████████████████████████████████| 198 kB 55.9 MB/s \n",
            "\u001b[?25hBuilding wheels for collected packages: pyspark\n",
            "  Building wheel for pyspark (setup.py) ... \u001b[?25l\u001b[?25hdone\n",
            "  Created wheel for pyspark: filename=pyspark-3.2.0-py2.py3-none-any.whl size=281805912 sha256=aeeb2a6316ccf20aeb27e2ab447b05d71f4124bfe4dcc0134a4e2a49d88709cd\n",
            "  Stored in directory: /root/.cache/pip/wheels/0b/de/d2/9be5d59d7331c6c2a7c1b6d1a4f463ce107332b1ecd4e80718\n",
            "Successfully built pyspark\n",
            "Installing collected packages: py4j, pyspark\n",
            "Successfully installed py4j-0.10.9.2 pyspark-3.2.0\n"
          ]
        }
      ],
      "source": [
        "!pip install pyspark"
      ]
    },
    {
      "cell_type": "markdown",
      "metadata": {
        "id": "J94HTiO28t4l"
      },
      "source": [
        "#### Installing and importing openclean python library for data profiling and statistical inference"
      ]
    },
    {
      "cell_type": "code",
      "execution_count": null,
      "metadata": {
        "colab": {
          "base_uri": "https://localhost:8080/"
        },
        "id": "QdTSm9Vb8XAl",
        "outputId": "f811d3a2-7f72-47eb-b283-e985506afd2a"
      },
      "outputs": [
        {
          "output_type": "stream",
          "name": "stdout",
          "text": [
            "Collecting openclean\n",
            "  Downloading openclean-0.2.1-py3-none-any.whl (5.2 kB)\n",
            "Collecting humanfriendly\n",
            "  Downloading humanfriendly-10.0-py2.py3-none-any.whl (86 kB)\n",
            "\u001b[K     |████████████████████████████████| 86 kB 2.8 MB/s \n",
            "\u001b[?25hCollecting openclean-core==0.4.1\n",
            "  Downloading openclean_core-0.4.1-py3-none-any.whl (267 kB)\n",
            "\u001b[K     |████████████████████████████████| 267 kB 21.3 MB/s \n",
            "\u001b[?25hCollecting refdata>=0.2.0\n",
            "  Downloading refdata-0.2.0-py3-none-any.whl (37 kB)\n",
            "Requirement already satisfied: dill in /usr/local/lib/python3.7/dist-packages (from openclean-core==0.4.1->openclean) (0.3.4)\n",
            "Requirement already satisfied: scikit-learn in /usr/local/lib/python3.7/dist-packages (from openclean-core==0.4.1->openclean) (1.0.1)\n",
            "Requirement already satisfied: scipy in /usr/local/lib/python3.7/dist-packages (from openclean-core==0.4.1->openclean) (1.4.1)\n",
            "Collecting flowserv-core>=0.8.0\n",
            "  Downloading flowserv_core-0.9.2-py3-none-any.whl (260 kB)\n",
            "\u001b[K     |████████████████████████████████| 260 kB 52.4 MB/s \n",
            "\u001b[?25hCollecting jellyfish\n",
            "  Downloading jellyfish-0.8.9.tar.gz (137 kB)\n",
            "\u001b[K     |████████████████████████████████| 137 kB 58.0 MB/s \n",
            "\u001b[?25hRequirement already satisfied: future in /usr/local/lib/python3.7/dist-packages (from openclean-core==0.4.1->openclean) (0.16.0)\n",
            "Requirement already satisfied: requests in /usr/local/lib/python3.7/dist-packages (from openclean-core==0.4.1->openclean) (2.23.0)\n",
            "Requirement already satisfied: pandas>=1.0.0 in /usr/local/lib/python3.7/dist-packages (from openclean-core==0.4.1->openclean) (1.1.5)\n",
            "Collecting histore>=0.4.0\n",
            "  Downloading histore-0.4.1-py3-none-any.whl (109 kB)\n",
            "\u001b[K     |████████████████████████████████| 109 kB 30.6 MB/s \n",
            "\u001b[?25hCollecting jsonschema>=3.2.0\n",
            "  Downloading jsonschema-4.3.1-py3-none-any.whl (71 kB)\n",
            "\u001b[K     |████████████████████████████████| 71 kB 6.3 MB/s \n",
            "\u001b[?25hRequirement already satisfied: python-dateutil in /usr/local/lib/python3.7/dist-packages (from openclean-core==0.4.1->openclean) (2.8.2)\n",
            "Requirement already satisfied: appdirs>=1.4.4 in /usr/local/lib/python3.7/dist-packages (from openclean-core==0.4.1->openclean) (1.4.4)\n",
            "Collecting passlib\n",
            "  Downloading passlib-1.7.4-py2.py3-none-any.whl (525 kB)\n",
            "\u001b[K     |████████████████████████████████| 525 kB 28.8 MB/s \n",
            "\u001b[?25hCollecting gitpython\n",
            "  Downloading GitPython-3.1.24-py3-none-any.whl (180 kB)\n",
            "\u001b[K     |████████████████████████████████| 180 kB 43.6 MB/s \n",
            "\u001b[?25hRequirement already satisfied: Click in /usr/local/lib/python3.7/dist-packages (from flowserv-core>=0.8.0->openclean-core==0.4.1->openclean) (7.1.2)\n",
            "Collecting pyyaml-include\n",
            "  Downloading pyyaml_include-1.2.post2-py3-none-any.whl (20 kB)\n",
            "Collecting pyyaml>=5.1\n",
            "  Downloading PyYAML-6.0-cp37-cp37m-manylinux_2_5_x86_64.manylinux1_x86_64.manylinux_2_12_x86_64.manylinux2010_x86_64.whl (596 kB)\n",
            "\u001b[K     |████████████████████████████████| 596 kB 41.2 MB/s \n",
            "\u001b[?25hCollecting paramiko\n",
            "  Downloading paramiko-2.8.1-py2.py3-none-any.whl (206 kB)\n",
            "\u001b[K     |████████████████████████████████| 206 kB 43.2 MB/s \n",
            "\u001b[?25hRequirement already satisfied: SQLAlchemy>=1.3.18 in /usr/local/lib/python3.7/dist-packages (from flowserv-core>=0.8.0->openclean-core==0.4.1->openclean) (1.4.27)\n",
            "Requirement already satisfied: psutil in /usr/local/lib/python3.7/dist-packages (from histore>=0.4.0->openclean-core==0.4.1->openclean) (5.4.8)\n",
            "Requirement already satisfied: importlib-metadata in /usr/local/lib/python3.7/dist-packages (from jsonschema>=3.2.0->openclean-core==0.4.1->openclean) (4.8.2)\n",
            "Requirement already satisfied: pyrsistent!=0.17.0,!=0.17.1,!=0.17.2,>=0.14.0 in /usr/local/lib/python3.7/dist-packages (from jsonschema>=3.2.0->openclean-core==0.4.1->openclean) (0.18.0)\n",
            "Requirement already satisfied: attrs>=17.4.0 in /usr/local/lib/python3.7/dist-packages (from jsonschema>=3.2.0->openclean-core==0.4.1->openclean) (21.2.0)\n",
            "Requirement already satisfied: importlib-resources>=1.4.0 in /usr/local/lib/python3.7/dist-packages (from jsonschema>=3.2.0->openclean-core==0.4.1->openclean) (5.4.0)\n",
            "Requirement already satisfied: typing-extensions in /usr/local/lib/python3.7/dist-packages (from jsonschema>=3.2.0->openclean-core==0.4.1->openclean) (3.10.0.2)\n",
            "Requirement already satisfied: zipp>=3.1.0 in /usr/local/lib/python3.7/dist-packages (from importlib-resources>=1.4.0->jsonschema>=3.2.0->openclean-core==0.4.1->openclean) (3.6.0)\n",
            "Requirement already satisfied: pytz>=2017.2 in /usr/local/lib/python3.7/dist-packages (from pandas>=1.0.0->openclean-core==0.4.1->openclean) (2018.9)\n",
            "Requirement already satisfied: numpy>=1.15.4 in /usr/local/lib/python3.7/dist-packages (from pandas>=1.0.0->openclean-core==0.4.1->openclean) (1.19.5)\n",
            "Requirement already satisfied: six>=1.5 in /usr/local/lib/python3.7/dist-packages (from python-dateutil->openclean-core==0.4.1->openclean) (1.15.0)\n",
            "Collecting tableprint\n",
            "  Downloading tableprint-0.9.1-py3-none-any.whl (6.8 kB)\n",
            "Collecting datasize>=1.0.0\n",
            "  Downloading datasize-1.0.0.tar.gz (149 kB)\n",
            "\u001b[K     |████████████████████████████████| 149 kB 41.8 MB/s \n",
            "\u001b[?25hRequirement already satisfied: pooch>=1.3.0 in /usr/local/lib/python3.7/dist-packages (from refdata>=0.2.0->openclean-core==0.4.1->openclean) (1.5.2)\n",
            "Requirement already satisfied: packaging in /usr/local/lib/python3.7/dist-packages (from pooch>=1.3.0->refdata>=0.2.0->openclean-core==0.4.1->openclean) (21.3)\n",
            "Requirement already satisfied: greenlet!=0.4.17 in /usr/local/lib/python3.7/dist-packages (from SQLAlchemy>=1.3.18->flowserv-core>=0.8.0->openclean-core==0.4.1->openclean) (1.1.2)\n",
            "Collecting gitdb<5,>=4.0.1\n",
            "  Downloading gitdb-4.0.9-py3-none-any.whl (63 kB)\n",
            "\u001b[K     |████████████████████████████████| 63 kB 1.1 MB/s \n",
            "\u001b[?25hCollecting smmap<6,>=3.0.1\n",
            "  Downloading smmap-5.0.0-py3-none-any.whl (24 kB)\n",
            "Requirement already satisfied: pyparsing!=3.0.5,>=2.0.2 in /usr/local/lib/python3.7/dist-packages (from packaging->pooch>=1.3.0->refdata>=0.2.0->openclean-core==0.4.1->openclean) (3.0.6)\n",
            "Collecting bcrypt>=3.1.3\n",
            "  Downloading bcrypt-3.2.0-cp36-abi3-manylinux2010_x86_64.whl (63 kB)\n",
            "\u001b[K     |████████████████████████████████| 63 kB 1.9 MB/s \n",
            "\u001b[?25hCollecting pynacl>=1.0.1\n",
            "  Downloading PyNaCl-1.4.0-cp35-abi3-manylinux1_x86_64.whl (961 kB)\n",
            "\u001b[K     |████████████████████████████████| 961 kB 42.1 MB/s \n",
            "\u001b[?25hCollecting cryptography>=2.5\n",
            "  Downloading cryptography-36.0.1-cp36-abi3-manylinux_2_24_x86_64.whl (3.6 MB)\n",
            "\u001b[K     |████████████████████████████████| 3.6 MB 41.9 MB/s \n",
            "\u001b[?25hRequirement already satisfied: cffi>=1.1 in /usr/local/lib/python3.7/dist-packages (from bcrypt>=3.1.3->paramiko->flowserv-core>=0.8.0->openclean-core==0.4.1->openclean) (1.15.0)\n",
            "Requirement already satisfied: pycparser in /usr/local/lib/python3.7/dist-packages (from cffi>=1.1->bcrypt>=3.1.3->paramiko->flowserv-core>=0.8.0->openclean-core==0.4.1->openclean) (2.21)\n",
            "Collecting pyyaml>=5.1\n",
            "  Downloading PyYAML-5.4.1-cp37-cp37m-manylinux1_x86_64.whl (636 kB)\n",
            "\u001b[K     |████████████████████████████████| 636 kB 66.9 MB/s \n",
            "\u001b[?25hRequirement already satisfied: idna<3,>=2.5 in /usr/local/lib/python3.7/dist-packages (from requests->openclean-core==0.4.1->openclean) (2.10)\n",
            "Requirement already satisfied: certifi>=2017.4.17 in /usr/local/lib/python3.7/dist-packages (from requests->openclean-core==0.4.1->openclean) (2021.10.8)\n",
            "Requirement already satisfied: urllib3!=1.25.0,!=1.25.1,<1.26,>=1.21.1 in /usr/local/lib/python3.7/dist-packages (from requests->openclean-core==0.4.1->openclean) (1.24.3)\n",
            "Requirement already satisfied: chardet<4,>=3.0.2 in /usr/local/lib/python3.7/dist-packages (from requests->openclean-core==0.4.1->openclean) (3.0.4)\n",
            "Requirement already satisfied: joblib>=0.11 in /usr/local/lib/python3.7/dist-packages (from scikit-learn->openclean-core==0.4.1->openclean) (1.1.0)\n",
            "Requirement already satisfied: threadpoolctl>=2.0.0 in /usr/local/lib/python3.7/dist-packages (from scikit-learn->openclean-core==0.4.1->openclean) (3.0.0)\n",
            "Requirement already satisfied: wcwidth in /usr/local/lib/python3.7/dist-packages (from tableprint->refdata>=0.2.0->openclean-core==0.4.1->openclean) (0.2.5)\n",
            "Building wheels for collected packages: datasize, jellyfish\n",
            "  Building wheel for datasize (setup.py) ... \u001b[?25l\u001b[?25hdone\n",
            "  Created wheel for datasize: filename=datasize-1.0.0-py2.py3-none-any.whl size=155047 sha256=43bea778cc2e4680791b882ce303507bbffdbaa246ec8b2b6f848c867904d545\n",
            "  Stored in directory: /root/.cache/pip/wheels/f7/b5/32/d8836896da6aca7f9c5748670ea6110d1385c262bf3abcca30\n",
            "  Building wheel for jellyfish (setup.py) ... \u001b[?25l\u001b[?25hdone\n",
            "  Created wheel for jellyfish: filename=jellyfish-0.8.9-cp37-cp37m-linux_x86_64.whl size=73232 sha256=c8eb860d149f40bcb903d101429e59e7ea98cd4bfaf1c11eccdf375389213d9c\n",
            "  Stored in directory: /root/.cache/pip/wheels/32/a9/ef/5d8742e72deaf0d1de327a180d008c2c0299367581800ea73f\n",
            "Successfully built datasize jellyfish\n",
            "Installing collected packages: smmap, pyyaml, pynacl, gitdb, cryptography, bcrypt, tableprint, pyyaml-include, passlib, paramiko, jsonschema, gitpython, datasize, refdata, jellyfish, histore, flowserv-core, openclean-core, openclean, humanfriendly\n",
            "  Attempting uninstall: pyyaml\n",
            "    Found existing installation: PyYAML 3.13\n",
            "    Uninstalling PyYAML-3.13:\n",
            "      Successfully uninstalled PyYAML-3.13\n",
            "  Attempting uninstall: jsonschema\n",
            "    Found existing installation: jsonschema 2.6.0\n",
            "    Uninstalling jsonschema-2.6.0:\n",
            "      Successfully uninstalled jsonschema-2.6.0\n",
            "\u001b[31mERROR: pip's dependency resolver does not currently take into account all the packages that are installed. This behaviour is the source of the following dependency conflicts.\n",
            "nbclient 0.5.9 requires jupyter-client>=6.1.5, but you have jupyter-client 5.3.5 which is incompatible.\u001b[0m\n",
            "Successfully installed bcrypt-3.2.0 cryptography-36.0.1 datasize-1.0.0 flowserv-core-0.9.2 gitdb-4.0.9 gitpython-3.1.24 histore-0.4.1 humanfriendly-10.0 jellyfish-0.8.9 jsonschema-4.3.1 openclean-0.2.1 openclean-core-0.4.1 paramiko-2.8.1 passlib-1.7.4 pynacl-1.4.0 pyyaml-5.4.1 pyyaml-include-1.2.post2 refdata-0.2.0 smmap-5.0.0 tableprint-0.9.1\n"
          ]
        }
      ],
      "source": [
        "pip install openclean humanfriendly"
      ]
    },
    {
      "cell_type": "markdown",
      "metadata": {
        "id": "sq8U3BtmhtRx"
      },
      "source": [
        "\n",
        "# **Running Pyspark in Colab**\n",
        "\n",
        "To run spark in Colab, we need to first install all the dependencies in Colab environment i.e. Apache Spark 2.3.2 with hadoop 2.7, Java 8 and Findspark to locate the spark in the system. The tools installation can be carried out inside the Jupyter Notebook of the Colab. One important note is that if you are new in Spark, it is better to avoid Spark 2.4.0 version since some people have already complained about its compatibility issue with python. \n",
        "Follow the steps to install the dependencies:"
      ]
    },
    {
      "cell_type": "code",
      "execution_count": null,
      "metadata": {
        "id": "lh5NCoc8fsSO"
      },
      "outputs": [],
      "source": [
        "# !apt-get install openjdk-8-jdk-headless -qq > /dev/null\n",
        "# !wget -q https://dlcdn.apache.org/spark/spark-3.2.0/spark-3.2.0-bin-hadoop3.2.tgz\n",
        "# !tar xf spark-3.2.0-bin-hadoop3.2.tgz\n",
        "# !pip install -q findspark"
      ]
    },
    {
      "cell_type": "markdown",
      "metadata": {
        "id": "ILheUROOhprv"
      },
      "source": [
        "Now that you installed Spark and Java in Colab, it is time to set the environment path which enables you to run Pyspark in your Colab environment. Set the location of Java and Spark by running the following code:"
      ]
    },
    {
      "cell_type": "code",
      "execution_count": null,
      "metadata": {
        "id": "v1b8k_OVf2QF"
      },
      "outputs": [],
      "source": [
        "import os\n",
        "# os.environ[\"JAVA_HOME\"] = \"/usr/lib/jvm/java-8-openjdk-amd64\"\n",
        "# os.environ[\"SPARK_HOME\"] = \"/content/spark-3.2.0-bin-hadoop3.2\""
      ]
    },
    {
      "cell_type": "markdown",
      "metadata": {
        "id": "KwrqMk3HiMiE"
      },
      "source": [
        "Run a local spark session to test your installation:"
      ]
    },
    {
      "cell_type": "code",
      "execution_count": null,
      "metadata": {
        "id": "9_Uz1NL4gHFx"
      },
      "outputs": [],
      "source": [
        "# import findspark\n",
        "# findspark.init()\n",
        "from pyspark.sql import SparkSession\n",
        "from pyspark.sql.functions import *\n",
        "from pyspark.sql.types import *\n",
        "spark = SparkSession.builder.getOrCreate()"
      ]
    },
    {
      "cell_type": "markdown",
      "source": [
        "-----------------------------------------------------------------------\n",
        "# 1. EXTRA CREDIT COMMENT:\n",
        "\n",
        "After running the previous cell, got the error type: \n",
        "#### **Run time error:**\n",
        "\n",
        "    Java gateway process exited before sending its port number\n",
        "\n",
        "**Our Action:**\n",
        "\n",
        "To continue to check the notebook, we commented out the previous two blocks as only \"pip install pyspark\" was enough to install pyspark on colab. Now we can continue to next step \n",
        "\n",
        "------------------------------------------------------------------------\n"
      ],
      "metadata": {
        "id": "NWyZGfysQNSt"
      }
    },
    {
      "cell_type": "markdown",
      "source": [
        "**"
      ],
      "metadata": {
        "id": "jWKvjLprXAiO"
      }
    },
    {
      "cell_type": "markdown",
      "source": [
        "**"
      ],
      "metadata": {
        "id": "6W2IpPjFXAaG"
      }
    },
    {
      "cell_type": "markdown",
      "metadata": {
        "id": "Z1n1HPiEIOXF"
      },
      "source": [
        "#### Reading the Data Set CSV File using `spark.read.csv()` Function"
      ]
    },
    {
      "cell_type": "code",
      "execution_count": null,
      "metadata": {
        "id": "NNL-wR74W52g"
      },
      "outputs": [],
      "source": [
        "df = spark.read.csv(\"/content/gdrive/MyDrive/Colab Notebooks/NYPD_Complaint_Data_Historic.csv\", inferSchema=True, header =True)\n",
        "#/content/gdrive/MyDrive/Colab Notebooks//content/gdrive/MyDrive/Colab Notebooks/NYPD_Complaint_Data_Historic.csv.csv"
      ]
    },
    {
      "cell_type": "markdown",
      "source": [
        "-----------------------------------------------------------------------\n",
        "# 2.  EXTRA CREDIT COMMENT:\n",
        "\n",
        "After running the previous cell, got the error type: \n",
        "#### **Run time error:**\n",
        "\n",
        "    Path does not exist\n",
        "\n",
        "**Our Action:**\n",
        "\n",
        "To continue to check the notebook, we made sure to download the data from the link given and uploaded it to the drive.\n",
        "\n",
        "------------------------------------------------------------------------\n"
      ],
      "metadata": {
        "id": "HHBJSrokWiy-"
      }
    },
    {
      "cell_type": "markdown",
      "source": [
        "**"
      ],
      "metadata": {
        "id": "CnxyfJyzW6XN"
      }
    },
    {
      "cell_type": "markdown",
      "source": [
        "  **"
      ],
      "metadata": {
        "id": "Vgg_b7RDW6NN"
      }
    },
    {
      "cell_type": "markdown",
      "metadata": {
        "id": "rUHvjAzy-fSF"
      },
      "source": [
        "### In order to find similar datasets to 'NYPD Complaint Data Historic', we use openclean python library's easy integration with Socrata NYC Open Data engine and find out all the datasets that have similar column structure as our original dataset."
      ]
    },
    {
      "cell_type": "code",
      "execution_count": null,
      "metadata": {
        "id": "fgmnBEKd-ekS",
        "colab": {
          "base_uri": "https://localhost:8080/"
        },
        "outputId": "54b4f3c4-1875-4d9d-fd66-9f9084bcadb8"
      },
      "outputs": [
        {
          "output_type": "stream",
          "name": "stdout",
          "text": [
            "qgea-i56i\tdata.cityofnewyork.us\tNYPD Complaint Data Historic\n",
            "uip8-fykc\tdata.cityofnewyork.us\tNYPD Arrest Data (Year to Date)\n",
            "eabe-havv\tdata.cityofnewyork.us\tDOB Complaints Received\n",
            "5uac-w243\tdata.cityofnewyork.us\tNYPD Complaint Data Current (Year To Date)\n",
            "8h9b-rp9u\tdata.cityofnewyork.us\tNYPD Arrests Data (Historic)\n",
            "833y-fsy8\tdata.cityofnewyork.us\tNYPD Shooting Incident Data (Historic)\n",
            "5ucz-vwe8\tdata.cityofnewyork.us\tNYPD Shooting Incident Data (Year To Date)\n",
            "uwyv-629c\tdata.cityofnewyork.us\tHousing Maintenance Code Complaints\n",
            "a2nx-4u46\tdata.cityofnewyork.us\tComplaint Problems\n",
            "bqiq-cu78\tdata.cityofnewyork.us\tNYPD Hate Crimes\n",
            "sv2w-rv3k\tdata.cityofnewyork.us\tNYPD Criminal Court Summons (Historic)\n",
            "nre2-6m2s\tdata.cityofnewyork.us\tConsumer Services Mediated Complaints\n",
            "mv4k-y93f\tdata.cityofnewyork.us\tNYPD Criminal Court Summons Incident Level Data (Year To Date)\n",
            "6v9u-ndjg\tdata.cityofnewyork.us\tBuilding Complaint Disposition Codes\n",
            "9jgj-bmct\tdata.cityofnewyork.us\tDOHMH Indoor Environmental Complaints\n",
            "n2zq-pubd\tdata.cityofnewyork.us\tNYPD Calls for Service (Year to Date)\n",
            "kwvk-z7i9\tdata.cityofnewyork.us\t2017 - 2018 Schools NYPD Crime Data Report\n",
            "63nx-cpi9\tdata.cityofnewyork.us\tCivilian Complaint Review Board (CCRB) - Complaints Received\n",
            "ck4n-5h6x\tdata.cityofnewyork.us\tLandmarks Complaints\n",
            "f4tj-796d\tdata.cityofnewyork.us\tNYPD Use of Force Incidents\n",
            "fx4z-5xg2\tdata.cityofnewyork.us\tCivilian Complaint Review Board (CCRB) - Complaints Closed\n",
            "pq5i-thsu\tdata.cityofnewyork.us\tDerelict Vehicles Dispositions - Complaints\n",
            "xyq2-jjkn\tdata.cityofnewyork.us\tCivilian Complaint Review Board (CCRB) - Allegations Closed\n",
            "5vr7-5fki\tdata.cityofnewyork.us\tNYPD Personnel Demographics\n",
            "d6zx-ckhd\tdata.cityofnewyork.us\tNYPD Calls for Service (Historic)\n",
            "cwy2-px8b\tdata.cityofnewyork.us\tLocal Law 8 of 2020 – Complaints of Illegal Parking of Vehicles Operated on Behalf of the City\n",
            "p2d7-vcsb\tdata.cityofnewyork.us\tBIC Complaints Inquiries\n",
            "57p3-pdcj\tdata.cityofnewyork.us\tNYPD B Summons (Year to Date)\n",
            "9y7k-h295\tdata.cityofnewyork.us\tLocal Law 8 of 2020 Report – Monthly Complaints of Illegal Parking of Vehicles Operated on Behalf of the City\n",
            "arhf-esqb\tdata.cityofnewyork.us\tDOP Adult Probationers Rearrested As A Percentage Of NYPD Arrest Report (Monthly Average)\n",
            "7m8q-jgtg\tdata.cityofnewyork.us\tDOP Juvenile Probationers Rearrested As A Percentage Of NYPD Arrest Report (Monthly Average)\n",
            "dfwh-7sqg\tdata.cityofnewyork.us\t2015-2016 Suspension Report NYPD Contacts - SWD\n",
            "bme5-7ty4\tdata.cityofnewyork.us\tNYPD B Summons (Historic)\n",
            "tre2-h8i2\tdata.cityofnewyork.us\t2015-2016 Suspension Report NYPD Contacts - Race\n",
            "8ufi-zgz6\tdata.cityofnewyork.us\t2015-2016 Suspension Report NYPD Contacts - STH\n",
            "fsmu-8tsy\tdata.cityofnewyork.us\t2015-2016 Suspension Report NYPD Contacts - Grade Level\n",
            "hafw-ruje\tdata.cityofnewyork.us\t2015-2016 Suspension Report NYPD Contacts - Date Of Birth\n",
            "fjb8-yxzv\tdata.cityofnewyork.us\t2015-2016 Suspension Report NYPD Contacts - Gender\n",
            "vacq-ce69\tdata.cityofnewyork.us\t2015-2016 Suspension Report NYPD Contacts - ELL\n",
            "dufe-vxb7\tdata.cityofnewyork.us\tNYPD Use of Force: Subjects\n",
            "v5jd-6wqn\tdata.cityofnewyork.us\tNYPD Use of Force: Members of Service\n",
            "2qb3-8eu4\tdata.cityofnewyork.us\t2017-2018 Suspension Report NYPD Contacts - RACE\n",
            "6ayi-8khd\tdata.cityofnewyork.us\tPre-Complaint Resolutions\n",
            "byvd-5eau\tdata.cityofnewyork.us\t2017-2018 Suspension Report NYPD Contacts - GENDER\n",
            "c5d8-ajrd\tdata.cityofnewyork.us\t2017-2018 Suspension Report NYPD Contacts - DOB\n",
            "wq7m-7i29\tdata.cityofnewyork.us\t2017-2018 Suspension Report NYPD Contacts - GRADE\n",
            "dsif-42wj\tdata.cityofnewyork.us\t2017-2018 Suspension Report NYPD Contacts - ELL\n",
            "eevf-vb98\tdata.cityofnewyork.us\t2017-2018 Suspension Report NYPD Contacts - STH\n",
            "gmhi-8qzt\tdata.cityofnewyork.us\t2017-2018 Suspension Report NYPD Contacts - SWD\n",
            "2eq2-nywg\tdata.cityofnewyork.us\t2020-2021 Suspension Report NYPD Contacts - All\n"
          ]
        }
      ],
      "source": [
        "import openclean\n",
        "from openclean.data.source.socrata import Socrata\n",
        "\n",
        "for dataset in Socrata().catalog(domain='data.cityofnewyork.us'):\n",
        "    if 'complaint' in dataset.name.lower() or 'NYPD' in dataset.name or 'Crime' in dataset.name.lower():\n",
        "        print(f'{dataset.identifier}\\t{dataset.domain}\\t{dataset.name}')"
      ]
    },
    {
      "cell_type": "markdown",
      "metadata": {
        "id": "0-Gke24P_jyo"
      },
      "source": [
        "#### From the above list we select 10 datasets that have maximum overlapping columns with 'NYPD Complaint Data Historic'"
      ]
    },
    {
      "cell_type": "markdown",
      "metadata": {
        "id": "Vx8Gr3z3BXZf"
      },
      "source": [
        "# **Data Profiling**"
      ]
    },
    {
      "cell_type": "code",
      "execution_count": null,
      "metadata": {
        "id": "IMecwoTS6upe",
        "colab": {
          "base_uri": "https://localhost:8080/"
        },
        "outputId": "7ed96607-f63f-4eea-d92d-eecf4f6e3c80"
      },
      "outputs": [
        {
          "output_type": "execute_result",
          "data": {
            "text/plain": [
              "7375993"
            ]
          },
          "metadata": {},
          "execution_count": 14
        }
      ],
      "source": [
        "df.count()"
      ]
    },
    {
      "cell_type": "markdown",
      "metadata": {
        "id": "ZLKtS1rNIjRD"
      },
      "source": [
        "#### Get Data Type for each column present in the Data Set\n",
        "\n",
        "\n"
      ]
    },
    {
      "cell_type": "code",
      "execution_count": null,
      "metadata": {
        "id": "tYDkaV6r75y6",
        "colab": {
          "base_uri": "https://localhost:8080/"
        },
        "outputId": "81849efe-7cc7-4a0f-af54-5f2465903659"
      },
      "outputs": [
        {
          "output_type": "stream",
          "name": "stdout",
          "text": [
            "root\n",
            " |-- CMPLNT_NUM: integer (nullable = true)\n",
            " |-- CMPLNT_FR_DT: string (nullable = true)\n",
            " |-- CMPLNT_FR_TM: string (nullable = true)\n",
            " |-- CMPLNT_TO_DT: string (nullable = true)\n",
            " |-- CMPLNT_TO_TM: string (nullable = true)\n",
            " |-- ADDR_PCT_CD: integer (nullable = true)\n",
            " |-- RPT_DT: string (nullable = true)\n",
            " |-- KY_CD: integer (nullable = true)\n",
            " |-- OFNS_DESC: string (nullable = true)\n",
            " |-- PD_CD: integer (nullable = true)\n",
            " |-- PD_DESC: string (nullable = true)\n",
            " |-- CRM_ATPT_CPTD_CD: string (nullable = true)\n",
            " |-- LAW_CAT_CD: string (nullable = true)\n",
            " |-- BORO_NM: string (nullable = true)\n",
            " |-- LOC_OF_OCCUR_DESC: string (nullable = true)\n",
            " |-- PREM_TYP_DESC: string (nullable = true)\n",
            " |-- JURIS_DESC: string (nullable = true)\n",
            " |-- JURISDICTION_CODE: integer (nullable = true)\n",
            " |-- PARKS_NM: string (nullable = true)\n",
            " |-- HADEVELOPT: string (nullable = true)\n",
            " |-- HOUSING_PSA: string (nullable = true)\n",
            " |-- X_COORD_CD: integer (nullable = true)\n",
            " |-- Y_COORD_CD: integer (nullable = true)\n",
            " |-- SUSP_AGE_GROUP: string (nullable = true)\n",
            " |-- SUSP_RACE: string (nullable = true)\n",
            " |-- SUSP_SEX: string (nullable = true)\n",
            " |-- TRANSIT_DISTRICT: integer (nullable = true)\n",
            " |-- Latitude: double (nullable = true)\n",
            " |-- Longitude: double (nullable = true)\n",
            " |-- Lat_Lon: string (nullable = true)\n",
            " |-- PATROL_BORO: string (nullable = true)\n",
            " |-- STATION_NAME: string (nullable = true)\n",
            " |-- VIC_AGE_GROUP: string (nullable = true)\n",
            " |-- VIC_RACE: string (nullable = true)\n",
            " |-- VIC_SEX: string (nullable = true)\n",
            "\n"
          ]
        }
      ],
      "source": [
        "df.printSchema()"
      ]
    },
    {
      "cell_type": "markdown",
      "metadata": {
        "id": "hNCSlJEuJIBS"
      },
      "source": [
        "#### Outputing the List of Columns in the Data Set"
      ]
    },
    {
      "cell_type": "code",
      "execution_count": null,
      "metadata": {
        "id": "hApjoVvG9v9Y",
        "colab": {
          "base_uri": "https://localhost:8080/"
        },
        "outputId": "2dbada51-7b43-4955-a820-847553e14043"
      },
      "outputs": [
        {
          "output_type": "execute_result",
          "data": {
            "text/plain": [
              "['CMPLNT_NUM',\n",
              " 'CMPLNT_FR_DT',\n",
              " 'CMPLNT_FR_TM',\n",
              " 'CMPLNT_TO_DT',\n",
              " 'CMPLNT_TO_TM',\n",
              " 'ADDR_PCT_CD',\n",
              " 'RPT_DT',\n",
              " 'KY_CD',\n",
              " 'OFNS_DESC',\n",
              " 'PD_CD',\n",
              " 'PD_DESC',\n",
              " 'CRM_ATPT_CPTD_CD',\n",
              " 'LAW_CAT_CD',\n",
              " 'BORO_NM',\n",
              " 'LOC_OF_OCCUR_DESC',\n",
              " 'PREM_TYP_DESC',\n",
              " 'JURIS_DESC',\n",
              " 'JURISDICTION_CODE',\n",
              " 'PARKS_NM',\n",
              " 'HADEVELOPT',\n",
              " 'HOUSING_PSA',\n",
              " 'X_COORD_CD',\n",
              " 'Y_COORD_CD',\n",
              " 'SUSP_AGE_GROUP',\n",
              " 'SUSP_RACE',\n",
              " 'SUSP_SEX',\n",
              " 'TRANSIT_DISTRICT',\n",
              " 'Latitude',\n",
              " 'Longitude',\n",
              " 'Lat_Lon',\n",
              " 'PATROL_BORO',\n",
              " 'STATION_NAME',\n",
              " 'VIC_AGE_GROUP',\n",
              " 'VIC_RACE',\n",
              " 'VIC_SEX']"
            ]
          },
          "metadata": {},
          "execution_count": 16
        }
      ],
      "source": [
        "df.columns"
      ]
    },
    {
      "cell_type": "markdown",
      "metadata": {
        "id": "LDnW9Gi7Idy4"
      },
      "source": [
        "#### Get top 10 rows of the complaints dataframe"
      ]
    },
    {
      "cell_type": "code",
      "execution_count": null,
      "metadata": {
        "id": "AOUrvQEG-UcM",
        "colab": {
          "base_uri": "https://localhost:8080/"
        },
        "outputId": "322c9f87-9eba-4a24-bde3-5779b2b8a1ff"
      },
      "outputs": [
        {
          "output_type": "stream",
          "name": "stdout",
          "text": [
            "+----------+------------+------------+------------+------------+-----------+----------+-----+--------------------+-----+--------------------+----------------+-----------+---------+-----------------+--------------------+----------------+-----------------+--------+----------+-----------+----------+----------+--------------+---------+--------+----------------+------------------+------------------+--------------------+--------------------+------------+-------------+--------------+-------+\n",
            "|CMPLNT_NUM|CMPLNT_FR_DT|CMPLNT_FR_TM|CMPLNT_TO_DT|CMPLNT_TO_TM|ADDR_PCT_CD|    RPT_DT|KY_CD|           OFNS_DESC|PD_CD|             PD_DESC|CRM_ATPT_CPTD_CD| LAW_CAT_CD|  BORO_NM|LOC_OF_OCCUR_DESC|       PREM_TYP_DESC|      JURIS_DESC|JURISDICTION_CODE|PARKS_NM|HADEVELOPT|HOUSING_PSA|X_COORD_CD|Y_COORD_CD|SUSP_AGE_GROUP|SUSP_RACE|SUSP_SEX|TRANSIT_DISTRICT|          Latitude|         Longitude|             Lat_Lon|         PATROL_BORO|STATION_NAME|VIC_AGE_GROUP|      VIC_RACE|VIC_SEX|\n",
            "+----------+------------+------------+------------+------------+-----------+----------+-----+--------------------+-----+--------------------+----------------+-----------+---------+-----------------+--------------------+----------------+-----------------+--------+----------+-----------+----------+----------+--------------+---------+--------+----------------+------------------+------------------+--------------------+--------------------+------------+-------------+--------------+-------+\n",
            "| 394506329|  12/31/2019|    17:30:00|        null|        null|         32|12/31/2019|  118|   DANGEROUS WEAPONS|  793|WEAPONS POSSESSION 3|       COMPLETED|     FELONY|MANHATTAN|             null|              STREET|N.Y. POLICE DEPT|                0|    null|      null|       null|    999937|    238365|          null|     null|    null|            null| 40.82092679700002|-73.94332421899996|(40.8209267970000...|PATROL BORO MAN N...|        null|      UNKNOWN|       UNKNOWN|      E|\n",
            "| 968873685|  12/29/2019|    16:31:00|  12/29/2019|    16:54:00|         47|12/29/2019|  113|             FORGERY|  729|FORGERY,ETC.,UNCL...|       COMPLETED|     FELONY|    BRONX|             null|              STREET|N.Y. POLICE DEPT|                0|    null|      null|       null|   1022508|    261990|          null|     null|    null|            null|40.885701406000074|-73.86164032499995|(40.8857014060000...|   PATROL BORO BRONX|        null|      UNKNOWN|       UNKNOWN|      E|\n",
            "| 509837549|  12/15/2019|    18:45:00|        null|        null|        109|12/29/2019|  578|       HARRASSMENT 2|  638|HARASSMENT,SUBD 3...|       COMPLETED|  VIOLATION|   QUEENS|         FRONT OF|              STREET|N.Y. POLICE DEPT|                0|    null|      null|       null|   1034178|    209758|         25-44|  UNKNOWN|       M|            null| 40.74228115600005|      -73.81982408|(40.7422811560000...|PATROL BORO QUEEN...|        null|        25-44|WHITE HISPANIC|      F|\n",
            "| 352454313|  12/28/2019|    01:00:00|        null|        null|         47|12/28/2019|  126|MISCELLANEOUS PEN...|  117|RECKLESS ENDANGER...|       COMPLETED|     FELONY|    BRONX|          REAR OF|              STREET|N.Y. POLICE DEPT|                0|    null|      null|       null|   1026412|    258211|         18-24|    BLACK|       M|            null| 40.87531145100007|-73.84754521099995|(40.8753114510000...|   PATROL BORO BRONX|        null|      UNKNOWN|       UNKNOWN|      E|\n",
            "| 248803469|  09/05/2008|    21:41:00|        null|        null|       null|09/05/2008|  101|MURDER & NON-NEGL...| null|                null|       COMPLETED|     FELONY|     null|          OUTSIDE|                null|N.Y. POLICE DEPT|             null|      NA|      null|         NA|   1001215|    193881|          null|     null|    null|            null|      40.698827283|     -73.938819047|(40.698827283, -7...|                null|        null|        25-44|         BLACK|      M|\n",
            "| 293718737|  12/27/2019|    22:00:00|        null|        null|          9|12/27/2019|  107|            BURGLARY|  223|BURGLARY,RESIDENC...|       ATTEMPTED|     FELONY|MANHATTAN|         FRONT OF|RESIDENCE - APT. ...|N.Y. POLICE DEPT|                0|    null|      null|       null|    989665|    201866|          null|     null|    null|            null| 40.72075882100006|-73.98046642299995|(40.7207588210000...|PATROL BORO MAN S...|        null|      UNKNOWN|       UNKNOWN|      M|\n",
            "| 552685226|  12/27/2019|    20:10:00|  12/27/2019|    20:15:00|         79|12/27/2019|  117|     DANGEROUS DRUGS|  521|CONTROLLED SUBSTA...|       COMPLETED|     FELONY| BROOKLYN|             null|              STREET|N.Y. POLICE DEPT|                0|    null|      null|       null|   1001545|    192836|          null|     null|    null|            null|40.695958362000056|-73.93763162199998|(40.6959583620000...|PATROL BORO BKLYN...|        null|      UNKNOWN|       UNKNOWN|      E|\n",
            "| 134037758|  12/26/2019|    20:00:00|  12/27/2019|    07:15:00|        101|12/27/2019|  341|       PETIT LARCENY|  321|LARCENY,PETIT FRO...|       COMPLETED|MISDEMEANOR|   QUEENS|         FRONT OF|              STREET|N.Y. POLICE DEPT|                0|    null|      null|       null|   1054394|    162186|          null|     null|    null|            null| 40.61157006600007|-73.74736517199995|(40.6115700660000...|PATROL BORO QUEEN...|        null|        25-44|WHITE HISPANIC|      F|\n",
            "| 855385879|  12/26/2019|    19:57:00|        null|        null|         44|12/26/2019|  361|OFF. AGNST PUB OR...|  639|AGGRAVATED HARASS...|       COMPLETED|MISDEMEANOR|    BRONX|             null|              STREET|N.Y. POLICE DEPT|                0|    null|      null|       null|   1007027|    245405|         18-24|    BLACK|       F|            null| 40.84023413800003|-73.91768411399994|(40.8402341380000...|   PATROL BORO BRONX|        null|        18-24|         BLACK|      F|\n",
            "| 241602326|  12/25/2019|    23:00:00|  12/26/2019|    14:25:00|         20|12/26/2019|  341|       PETIT LARCENY|  321|LARCENY,PETIT FRO...|       COMPLETED|MISDEMEANOR|MANHATTAN|             null|              STREET|N.Y. POLICE DEPT|                0|    null|      null|       null|    987147|    220853|          null|     null|    null|            null| 40.77287456000005|-73.98954212299998|(40.7728745600000...|PATROL BORO MAN N...|        null|        45-64|         BLACK|      M|\n",
            "+----------+------------+------------+------------+------------+-----------+----------+-----+--------------------+-----+--------------------+----------------+-----------+---------+-----------------+--------------------+----------------+-----------------+--------+----------+-----------+----------+----------+--------------+---------+--------+----------------+------------------+------------------+--------------------+--------------------+------------+-------------+--------------+-------+\n",
            "only showing top 10 rows\n",
            "\n"
          ]
        }
      ],
      "source": [
        "df.show(n=10)"
      ]
    },
    {
      "cell_type": "markdown",
      "metadata": {
        "id": "YJDJQOKfDMKR"
      },
      "source": [
        "Check for duplicate values in dataset"
      ]
    },
    {
      "cell_type": "code",
      "execution_count": null,
      "metadata": {
        "id": "5BO82obd0N6u",
        "colab": {
          "base_uri": "https://localhost:8080/"
        },
        "outputId": "a71e7626-27e5-444b-deaf-000c87a0d67e"
      },
      "outputs": [
        {
          "output_type": "execute_result",
          "data": {
            "text/plain": [
              "7375993"
            ]
          },
          "metadata": {},
          "execution_count": 18
        }
      ],
      "source": [
        "df.distinct().count()"
      ]
    },
    {
      "cell_type": "code",
      "execution_count": null,
      "metadata": {
        "id": "fcpfFUg4F6_Q",
        "colab": {
          "base_uri": "https://localhost:8080/"
        },
        "outputId": "ee2eb503-9c0b-4a13-9ee0-8323314de339"
      },
      "outputs": [
        {
          "output_type": "stream",
          "name": "stdout",
          "text": [
            "Downloading ...\n",
            "\n",
            "Using 'NYPD Complaint Data Historic' in file ./qgea-i56i.tsv.gz of size 475.48 MB\n"
          ]
        }
      ],
      "source": [
        "# Download the full 'NYPD Complaint Data Historic' dataset.\n",
        "# Note that the downloaded full dataset file is about 380 MB in size! Use the\n",
        "# alternative data file with 10,000 rows that is included in the repository if\n",
        "# you do not want to download the full data file.\n",
        "\n",
        "import gzip\n",
        "import humanfriendly\n",
        "import os\n",
        "\n",
        "dataset = Socrata().dataset('qgea-i56i')\n",
        "\n",
        "# By default, this example uses a small sample of the full dataset that\n",
        "# is included in the 'data' subfolder within this repository.\n",
        "# datafile = './data/qgea-i56i.tsv.gz'\n",
        "\n",
        "# Remove the comment for this line if you want to use the full dataset.\n",
        "datafile = './qgea-i56i.tsv.gz'\n",
        "\n",
        "\n",
        "# Download file only if it does not exist already.\n",
        "if not os.path.isfile(datafile):\n",
        "    with gzip.open(datafile, 'wb') as f:\n",
        "        print('Downloading ...\\n')\n",
        "        dataset.write(f)\n",
        "\n",
        "\n",
        "fsize = humanfriendly.format_size(os.stat(datafile).st_size)\n",
        "print(\"Using '{}' in file {} of size {}\".format(dataset.name, datafile, fsize))"
      ]
    },
    {
      "cell_type": "markdown",
      "source": [
        "-----------------------------------------------------------------------\n",
        "# 3.  EXTRA CREDIT COMMENT:\n",
        "\n",
        "After running the previous cell, got the error type while reading the data for **sample dataset** file: \n",
        "#### **Run time error:**\n",
        "\n",
        "    Path does not exist : './data/qgea-i56i.tsv.gz'\n",
        "\n",
        "**Our Action:**\n",
        "\n",
        "To continue to run the notebook using the main dataset itself. \n",
        "\n",
        "------------------------------------------------------------------------"
      ],
      "metadata": {
        "id": "IqHtWmVGtwow"
      }
    },
    {
      "cell_type": "markdown",
      "source": [
        "**"
      ],
      "metadata": {
        "id": "2i6qMfjfuUyn"
      }
    },
    {
      "cell_type": "markdown",
      "source": [
        "**"
      ],
      "metadata": {
        "id": "flJdwsCjuUnR"
      }
    },
    {
      "cell_type": "code",
      "execution_count": null,
      "metadata": {
        "id": "MPyn2XQRHBxq"
      },
      "outputs": [],
      "source": [
        "# Due to the size of the full dataset file, we make use of openclean's\n",
        "# stream operator to avoid having to load the dataset into main-memory.\n",
        "\n",
        "from openclean.pipeline import stream\n",
        "\n",
        "ds = stream(datafile)"
      ]
    },
    {
      "cell_type": "code",
      "execution_count": null,
      "metadata": {
        "id": "WNA-Uy5LHDqz"
      },
      "outputs": [],
      "source": [
        "# Profile the resulting dataset view using the default data profiler.\n",
        "\n",
        "from openclean.profiling.column import DefaultColumnProfiler\n",
        "\n",
        "profiles = ds.profile(default_profiler=DefaultColumnProfiler)"
      ]
    },
    {
      "cell_type": "code",
      "execution_count": null,
      "metadata": {
        "id": "csBM29OTHD1q",
        "colab": {
          "base_uri": "https://localhost:8080/",
          "height": 1000
        },
        "outputId": "9d385e6d-e8cc-4672-8dad-6f1795e0ea1e"
      },
      "outputs": [
        {
          "output_type": "execute_result",
          "data": {
            "text/html": [
              "\n",
              "  <div id=\"df-39724dfe-ca4b-4666-8047-3ed127311536\">\n",
              "    <div class=\"colab-df-container\">\n",
              "      <div>\n",
              "<style scoped>\n",
              "    .dataframe tbody tr th:only-of-type {\n",
              "        vertical-align: middle;\n",
              "    }\n",
              "\n",
              "    .dataframe tbody tr th {\n",
              "        vertical-align: top;\n",
              "    }\n",
              "\n",
              "    .dataframe thead th {\n",
              "        text-align: right;\n",
              "    }\n",
              "</style>\n",
              "<table border=\"1\" class=\"dataframe\">\n",
              "  <thead>\n",
              "    <tr style=\"text-align: right;\">\n",
              "      <th></th>\n",
              "      <th>total</th>\n",
              "      <th>empty</th>\n",
              "      <th>distinct</th>\n",
              "      <th>uniqueness</th>\n",
              "      <th>entropy</th>\n",
              "    </tr>\n",
              "  </thead>\n",
              "  <tbody>\n",
              "    <tr>\n",
              "      <th>CMPLNT_NUM</th>\n",
              "      <td>7375993</td>\n",
              "      <td>0</td>\n",
              "      <td>7373143</td>\n",
              "      <td>9.996136e-01</td>\n",
              "      <td>22.813633</td>\n",
              "    </tr>\n",
              "    <tr>\n",
              "      <th>CMPLNT_FR_DT</th>\n",
              "      <td>7375993</td>\n",
              "      <td>655</td>\n",
              "      <td>8606</td>\n",
              "      <td>1.166862e-03</td>\n",
              "      <td>12.425578</td>\n",
              "    </tr>\n",
              "    <tr>\n",
              "      <th>CMPLNT_FR_TM</th>\n",
              "      <td>7375993</td>\n",
              "      <td>48</td>\n",
              "      <td>1441</td>\n",
              "      <td>1.953648e-04</td>\n",
              "      <td>8.136466</td>\n",
              "    </tr>\n",
              "    <tr>\n",
              "      <th>CMPLNT_TO_DT</th>\n",
              "      <td>7375993</td>\n",
              "      <td>1704204</td>\n",
              "      <td>6825</td>\n",
              "      <td>1.203324e-03</td>\n",
              "      <td>12.417984</td>\n",
              "    </tr>\n",
              "    <tr>\n",
              "      <th>CMPLNT_TO_TM</th>\n",
              "      <td>7375993</td>\n",
              "      <td>1699541</td>\n",
              "      <td>1441</td>\n",
              "      <td>2.538558e-04</td>\n",
              "      <td>8.862856</td>\n",
              "    </tr>\n",
              "    <tr>\n",
              "      <th>ADDR_PCT_CD</th>\n",
              "      <td>7375993</td>\n",
              "      <td>2166</td>\n",
              "      <td>77</td>\n",
              "      <td>1.044234e-05</td>\n",
              "      <td>6.148690</td>\n",
              "    </tr>\n",
              "    <tr>\n",
              "      <th>RPT_DT</th>\n",
              "      <td>7375993</td>\n",
              "      <td>0</td>\n",
              "      <td>5479</td>\n",
              "      <td>7.428152e-04</td>\n",
              "      <td>12.405384</td>\n",
              "    </tr>\n",
              "    <tr>\n",
              "      <th>KY_CD</th>\n",
              "      <td>7375993</td>\n",
              "      <td>0</td>\n",
              "      <td>74</td>\n",
              "      <td>1.003255e-05</td>\n",
              "      <td>4.170727</td>\n",
              "    </tr>\n",
              "    <tr>\n",
              "      <th>OFNS_DESC</th>\n",
              "      <td>7375993</td>\n",
              "      <td>18823</td>\n",
              "      <td>71</td>\n",
              "      <td>9.650450e-06</td>\n",
              "      <td>4.006583</td>\n",
              "    </tr>\n",
              "    <tr>\n",
              "      <th>PD_CD</th>\n",
              "      <td>7375993</td>\n",
              "      <td>6278</td>\n",
              "      <td>432</td>\n",
              "      <td>5.861828e-05</td>\n",
              "      <td>5.913459</td>\n",
              "    </tr>\n",
              "    <tr>\n",
              "      <th>PD_DESC</th>\n",
              "      <td>7375993</td>\n",
              "      <td>6278</td>\n",
              "      <td>422</td>\n",
              "      <td>5.726137e-05</td>\n",
              "      <td>5.904814</td>\n",
              "    </tr>\n",
              "    <tr>\n",
              "      <th>CRM_ATPT_CPTD_CD</th>\n",
              "      <td>7375993</td>\n",
              "      <td>7</td>\n",
              "      <td>2</td>\n",
              "      <td>2.711502e-07</td>\n",
              "      <td>0.124481</td>\n",
              "    </tr>\n",
              "    <tr>\n",
              "      <th>LAW_CAT_CD</th>\n",
              "      <td>7375993</td>\n",
              "      <td>0</td>\n",
              "      <td>3</td>\n",
              "      <td>4.067249e-07</td>\n",
              "      <td>1.373922</td>\n",
              "    </tr>\n",
              "    <tr>\n",
              "      <th>BORO_NM</th>\n",
              "      <td>7375993</td>\n",
              "      <td>11329</td>\n",
              "      <td>5</td>\n",
              "      <td>6.789176e-07</td>\n",
              "      <td>2.162442</td>\n",
              "    </tr>\n",
              "    <tr>\n",
              "      <th>LOC_OF_OCCUR_DESC</th>\n",
              "      <td>7375993</td>\n",
              "      <td>1543800</td>\n",
              "      <td>5</td>\n",
              "      <td>8.573104e-07</td>\n",
              "      <td>1.241785</td>\n",
              "    </tr>\n",
              "    <tr>\n",
              "      <th>PREM_TYP_DESC</th>\n",
              "      <td>7375993</td>\n",
              "      <td>40745</td>\n",
              "      <td>74</td>\n",
              "      <td>1.008828e-05</td>\n",
              "      <td>3.579655</td>\n",
              "    </tr>\n",
              "    <tr>\n",
              "      <th>JURIS_DESC</th>\n",
              "      <td>7375993</td>\n",
              "      <td>0</td>\n",
              "      <td>25</td>\n",
              "      <td>3.389374e-06</td>\n",
              "      <td>0.668693</td>\n",
              "    </tr>\n",
              "    <tr>\n",
              "      <th>JURISDICTION_CODE</th>\n",
              "      <td>7375993</td>\n",
              "      <td>6278</td>\n",
              "      <td>25</td>\n",
              "      <td>3.392261e-06</td>\n",
              "      <td>0.668795</td>\n",
              "    </tr>\n",
              "    <tr>\n",
              "      <th>PARKS_NM</th>\n",
              "      <td>7375993</td>\n",
              "      <td>3229345</td>\n",
              "      <td>1206</td>\n",
              "      <td>2.908373e-04</td>\n",
              "      <td>0.110850</td>\n",
              "    </tr>\n",
              "    <tr>\n",
              "      <th>HADEVELOPT</th>\n",
              "      <td>7375993</td>\n",
              "      <td>7029181</td>\n",
              "      <td>279</td>\n",
              "      <td>8.044704e-04</td>\n",
              "      <td>7.277703</td>\n",
              "    </tr>\n",
              "    <tr>\n",
              "      <th>HOUSING_PSA</th>\n",
              "      <td>7375993</td>\n",
              "      <td>1241432</td>\n",
              "      <td>5103</td>\n",
              "      <td>8.318444e-04</td>\n",
              "      <td>1.216803</td>\n",
              "    </tr>\n",
              "    <tr>\n",
              "      <th>X_COORD_CD</th>\n",
              "      <td>7375993</td>\n",
              "      <td>17339</td>\n",
              "      <td>71343</td>\n",
              "      <td>9.695115e-03</td>\n",
              "      <td>14.595751</td>\n",
              "    </tr>\n",
              "    <tr>\n",
              "      <th>Y_COORD_CD</th>\n",
              "      <td>7375993</td>\n",
              "      <td>17339</td>\n",
              "      <td>73933</td>\n",
              "      <td>1.004708e-02</td>\n",
              "      <td>14.744968</td>\n",
              "    </tr>\n",
              "    <tr>\n",
              "      <th>SUSP_AGE_GROUP</th>\n",
              "      <td>7375993</td>\n",
              "      <td>4795235</td>\n",
              "      <td>111</td>\n",
              "      <td>4.301062e-05</td>\n",
              "      <td>2.113260</td>\n",
              "    </tr>\n",
              "    <tr>\n",
              "      <th>SUSP_RACE</th>\n",
              "      <td>7375993</td>\n",
              "      <td>3426694</td>\n",
              "      <td>8</td>\n",
              "      <td>2.025676e-06</td>\n",
              "      <td>2.224526</td>\n",
              "    </tr>\n",
              "    <tr>\n",
              "      <th>SUSP_SEX</th>\n",
              "      <td>7375993</td>\n",
              "      <td>3560008</td>\n",
              "      <td>3</td>\n",
              "      <td>7.861666e-07</td>\n",
              "      <td>1.323637</td>\n",
              "    </tr>\n",
              "    <tr>\n",
              "      <th>TRANSIT_DISTRICT</th>\n",
              "      <td>7375993</td>\n",
              "      <td>7212494</td>\n",
              "      <td>12</td>\n",
              "      <td>7.339494e-05</td>\n",
              "      <td>3.437520</td>\n",
              "    </tr>\n",
              "    <tr>\n",
              "      <th>Latitude</th>\n",
              "      <td>7375993</td>\n",
              "      <td>17339</td>\n",
              "      <td>205539</td>\n",
              "      <td>2.793160e-02</td>\n",
              "      <td>15.828371</td>\n",
              "    </tr>\n",
              "    <tr>\n",
              "      <th>Longitude</th>\n",
              "      <td>7375993</td>\n",
              "      <td>17339</td>\n",
              "      <td>201311</td>\n",
              "      <td>2.735704e-02</td>\n",
              "      <td>15.797580</td>\n",
              "    </tr>\n",
              "    <tr>\n",
              "      <th>Lat_Lon</th>\n",
              "      <td>7375993</td>\n",
              "      <td>17339</td>\n",
              "      <td>198552</td>\n",
              "      <td>2.698211e-02</td>\n",
              "      <td>15.677861</td>\n",
              "    </tr>\n",
              "    <tr>\n",
              "      <th>PATROL_BORO</th>\n",
              "      <td>7375993</td>\n",
              "      <td>6735</td>\n",
              "      <td>8</td>\n",
              "      <td>1.085591e-06</td>\n",
              "      <td>2.898560</td>\n",
              "    </tr>\n",
              "    <tr>\n",
              "      <th>STATION_NAME</th>\n",
              "      <td>7375993</td>\n",
              "      <td>7212494</td>\n",
              "      <td>372</td>\n",
              "      <td>2.275243e-03</td>\n",
              "      <td>7.617040</td>\n",
              "    </tr>\n",
              "    <tr>\n",
              "      <th>VIC_AGE_GROUP</th>\n",
              "      <td>7375993</td>\n",
              "      <td>1638445</td>\n",
              "      <td>202</td>\n",
              "      <td>3.520668e-05</td>\n",
              "      <td>2.201239</td>\n",
              "    </tr>\n",
              "    <tr>\n",
              "      <th>VIC_RACE</th>\n",
              "      <td>7375993</td>\n",
              "      <td>309</td>\n",
              "      <td>8</td>\n",
              "      <td>1.084645e-06</td>\n",
              "      <td>2.323077</td>\n",
              "    </tr>\n",
              "    <tr>\n",
              "      <th>VIC_SEX</th>\n",
              "      <td>7375993</td>\n",
              "      <td>308</td>\n",
              "      <td>5</td>\n",
              "      <td>6.779031e-07</td>\n",
              "      <td>1.846472</td>\n",
              "    </tr>\n",
              "  </tbody>\n",
              "</table>\n",
              "</div>\n",
              "      <button class=\"colab-df-convert\" onclick=\"convertToInteractive('df-39724dfe-ca4b-4666-8047-3ed127311536')\"\n",
              "              title=\"Convert this dataframe to an interactive table.\"\n",
              "              style=\"display:none;\">\n",
              "        \n",
              "  <svg xmlns=\"http://www.w3.org/2000/svg\" height=\"24px\"viewBox=\"0 0 24 24\"\n",
              "       width=\"24px\">\n",
              "    <path d=\"M0 0h24v24H0V0z\" fill=\"none\"/>\n",
              "    <path d=\"M18.56 5.44l.94 2.06.94-2.06 2.06-.94-2.06-.94-.94-2.06-.94 2.06-2.06.94zm-11 1L8.5 8.5l.94-2.06 2.06-.94-2.06-.94L8.5 2.5l-.94 2.06-2.06.94zm10 10l.94 2.06.94-2.06 2.06-.94-2.06-.94-.94-2.06-.94 2.06-2.06.94z\"/><path d=\"M17.41 7.96l-1.37-1.37c-.4-.4-.92-.59-1.43-.59-.52 0-1.04.2-1.43.59L10.3 9.45l-7.72 7.72c-.78.78-.78 2.05 0 2.83L4 21.41c.39.39.9.59 1.41.59.51 0 1.02-.2 1.41-.59l7.78-7.78 2.81-2.81c.8-.78.8-2.07 0-2.86zM5.41 20L4 18.59l7.72-7.72 1.47 1.35L5.41 20z\"/>\n",
              "  </svg>\n",
              "      </button>\n",
              "      \n",
              "  <style>\n",
              "    .colab-df-container {\n",
              "      display:flex;\n",
              "      flex-wrap:wrap;\n",
              "      gap: 12px;\n",
              "    }\n",
              "\n",
              "    .colab-df-convert {\n",
              "      background-color: #E8F0FE;\n",
              "      border: none;\n",
              "      border-radius: 50%;\n",
              "      cursor: pointer;\n",
              "      display: none;\n",
              "      fill: #1967D2;\n",
              "      height: 32px;\n",
              "      padding: 0 0 0 0;\n",
              "      width: 32px;\n",
              "    }\n",
              "\n",
              "    .colab-df-convert:hover {\n",
              "      background-color: #E2EBFA;\n",
              "      box-shadow: 0px 1px 2px rgba(60, 64, 67, 0.3), 0px 1px 3px 1px rgba(60, 64, 67, 0.15);\n",
              "      fill: #174EA6;\n",
              "    }\n",
              "\n",
              "    [theme=dark] .colab-df-convert {\n",
              "      background-color: #3B4455;\n",
              "      fill: #D2E3FC;\n",
              "    }\n",
              "\n",
              "    [theme=dark] .colab-df-convert:hover {\n",
              "      background-color: #434B5C;\n",
              "      box-shadow: 0px 1px 3px 1px rgba(0, 0, 0, 0.15);\n",
              "      filter: drop-shadow(0px 1px 2px rgba(0, 0, 0, 0.3));\n",
              "      fill: #FFFFFF;\n",
              "    }\n",
              "  </style>\n",
              "\n",
              "      <script>\n",
              "        const buttonEl =\n",
              "          document.querySelector('#df-39724dfe-ca4b-4666-8047-3ed127311536 button.colab-df-convert');\n",
              "        buttonEl.style.display =\n",
              "          google.colab.kernel.accessAllowed ? 'block' : 'none';\n",
              "\n",
              "        async function convertToInteractive(key) {\n",
              "          const element = document.querySelector('#df-39724dfe-ca4b-4666-8047-3ed127311536');\n",
              "          const dataTable =\n",
              "            await google.colab.kernel.invokeFunction('convertToInteractive',\n",
              "                                                     [key], {});\n",
              "          if (!dataTable) return;\n",
              "\n",
              "          const docLinkHtml = 'Like what you see? Visit the ' +\n",
              "            '<a target=\"_blank\" href=https://colab.research.google.com/notebooks/data_table.ipynb>data table notebook</a>'\n",
              "            + ' to learn more about interactive tables.';\n",
              "          element.innerHTML = '';\n",
              "          dataTable['output_type'] = 'display_data';\n",
              "          await google.colab.output.renderOutput(dataTable, element);\n",
              "          const docLink = document.createElement('div');\n",
              "          docLink.innerHTML = docLinkHtml;\n",
              "          element.appendChild(docLink);\n",
              "        }\n",
              "      </script>\n",
              "    </div>\n",
              "  </div>\n",
              "  "
            ],
            "text/plain": [
              "                     total    empty  distinct    uniqueness    entropy\n",
              "CMPLNT_NUM         7375993        0   7373143  9.996136e-01  22.813633\n",
              "CMPLNT_FR_DT       7375993      655      8606  1.166862e-03  12.425578\n",
              "CMPLNT_FR_TM       7375993       48      1441  1.953648e-04   8.136466\n",
              "CMPLNT_TO_DT       7375993  1704204      6825  1.203324e-03  12.417984\n",
              "CMPLNT_TO_TM       7375993  1699541      1441  2.538558e-04   8.862856\n",
              "ADDR_PCT_CD        7375993     2166        77  1.044234e-05   6.148690\n",
              "RPT_DT             7375993        0      5479  7.428152e-04  12.405384\n",
              "KY_CD              7375993        0        74  1.003255e-05   4.170727\n",
              "OFNS_DESC          7375993    18823        71  9.650450e-06   4.006583\n",
              "PD_CD              7375993     6278       432  5.861828e-05   5.913459\n",
              "PD_DESC            7375993     6278       422  5.726137e-05   5.904814\n",
              "CRM_ATPT_CPTD_CD   7375993        7         2  2.711502e-07   0.124481\n",
              "LAW_CAT_CD         7375993        0         3  4.067249e-07   1.373922\n",
              "BORO_NM            7375993    11329         5  6.789176e-07   2.162442\n",
              "LOC_OF_OCCUR_DESC  7375993  1543800         5  8.573104e-07   1.241785\n",
              "PREM_TYP_DESC      7375993    40745        74  1.008828e-05   3.579655\n",
              "JURIS_DESC         7375993        0        25  3.389374e-06   0.668693\n",
              "JURISDICTION_CODE  7375993     6278        25  3.392261e-06   0.668795\n",
              "PARKS_NM           7375993  3229345      1206  2.908373e-04   0.110850\n",
              "HADEVELOPT         7375993  7029181       279  8.044704e-04   7.277703\n",
              "HOUSING_PSA        7375993  1241432      5103  8.318444e-04   1.216803\n",
              "X_COORD_CD         7375993    17339     71343  9.695115e-03  14.595751\n",
              "Y_COORD_CD         7375993    17339     73933  1.004708e-02  14.744968\n",
              "SUSP_AGE_GROUP     7375993  4795235       111  4.301062e-05   2.113260\n",
              "SUSP_RACE          7375993  3426694         8  2.025676e-06   2.224526\n",
              "SUSP_SEX           7375993  3560008         3  7.861666e-07   1.323637\n",
              "TRANSIT_DISTRICT   7375993  7212494        12  7.339494e-05   3.437520\n",
              "Latitude           7375993    17339    205539  2.793160e-02  15.828371\n",
              "Longitude          7375993    17339    201311  2.735704e-02  15.797580\n",
              "Lat_Lon            7375993    17339    198552  2.698211e-02  15.677861\n",
              "PATROL_BORO        7375993     6735         8  1.085591e-06   2.898560\n",
              "STATION_NAME       7375993  7212494       372  2.275243e-03   7.617040\n",
              "VIC_AGE_GROUP      7375993  1638445       202  3.520668e-05   2.201239\n",
              "VIC_RACE           7375993      309         8  1.084645e-06   2.323077\n",
              "VIC_SEX            7375993      308         5  6.779031e-07   1.846472"
            ]
          },
          "metadata": {},
          "execution_count": 25
        }
      ],
      "source": [
        "# Print overview of profiling results.\n",
        "\n",
        "profiles.stats()"
      ]
    },
    {
      "cell_type": "markdown",
      "metadata": {
        "id": "9d390PqSBK68"
      },
      "source": [
        "# **Data Cleaning**"
      ]
    },
    {
      "cell_type": "markdown",
      "metadata": {
        "id": "ygOCZQiaG97V"
      },
      "source": [
        "## We see that the columns `X_COORD_CD`,`Y_COORD_CD`,`Latitude`, `Longitude` conveys the same data as `Lat_Lon`.\n",
        "\n",
        "#### Hence, we drop those columns and keep only `Lat_Lon` column in our cleaned dataset."
      ]
    },
    {
      "cell_type": "code",
      "execution_count": null,
      "metadata": {
        "id": "r51qg2Ji_Ajv"
      },
      "outputs": [],
      "source": [
        "df = df.drop('X_COORD_CD','Y_COORD_CD','Latitude','Longitude')"
      ]
    },
    {
      "cell_type": "code",
      "execution_count": null,
      "metadata": {
        "id": "I52xg3GV_jh0"
      },
      "outputs": [],
      "source": [
        "df.columns"
      ]
    },
    {
      "cell_type": "markdown",
      "metadata": {
        "id": "xdJS_wPiJaUN"
      },
      "source": [
        "#### Removing all the **duplicate** entries"
      ]
    },
    {
      "cell_type": "code",
      "execution_count": null,
      "metadata": {
        "id": "S2iLHt_GAVJh"
      },
      "outputs": [],
      "source": [
        "df = df.drop_duplicates()"
      ]
    },
    {
      "cell_type": "markdown",
      "source": [
        ""
      ],
      "metadata": {
        "id": "uJ3rVP1hpD84"
      }
    },
    {
      "cell_type": "markdown",
      "metadata": {
        "id": "O4zgb1QPJ02z"
      },
      "source": [
        "#### **Checking** if the complaint number is unique or not"
      ]
    },
    {
      "cell_type": "code",
      "execution_count": null,
      "metadata": {
        "id": "R0o2wLm1h4Bo",
        "colab": {
          "base_uri": "https://localhost:8080/"
        },
        "outputId": "ba52b143-b835-483e-f8aa-79872bb44fce"
      },
      "outputs": [
        {
          "output_type": "execute_result",
          "data": {
            "text/plain": [
              "7373143"
            ]
          },
          "metadata": {},
          "execution_count": 29
        }
      ],
      "source": [
        "df.select('CMPLNT_NUM').distinct().count()"
      ]
    },
    {
      "cell_type": "markdown",
      "metadata": {
        "id": "M-_iiUuEJ_5c"
      },
      "source": [
        "#### As we can see `CMPLNT_NUM` should have been unique, but it is not.\n",
        "#### Let's see what are the duplicate values."
      ]
    },
    {
      "cell_type": "code",
      "execution_count": null,
      "metadata": {
        "id": "869tZgVki68U",
        "colab": {
          "base_uri": "https://localhost:8080/"
        },
        "outputId": "ca3b2bb0-a96e-44bc-919a-9426c003a2e8"
      },
      "outputs": [
        {
          "output_type": "execute_result",
          "data": {
            "text/plain": [
              "2850"
            ]
          },
          "metadata": {},
          "execution_count": 30
        }
      ],
      "source": [
        "df1 = df.groupBy('CMPLNT_NUM').count().filter(\"count > 1\")\n",
        "df1.drop('count').count()"
      ]
    },
    {
      "cell_type": "code",
      "execution_count": null,
      "metadata": {
        "id": "WgA4Q88SoGaW",
        "colab": {
          "base_uri": "https://localhost:8080/"
        },
        "outputId": "fbd3e15d-c172-4c89-cf3f-445027022a3f"
      },
      "outputs": [
        {
          "output_type": "stream",
          "name": "stdout",
          "text": [
            "+----------+-----+\n",
            "|CMPLNT_NUM|count|\n",
            "+----------+-----+\n",
            "| 100490719|    2|\n",
            "| 100509703|    2|\n",
            "| 100519696|    2|\n",
            "| 100757966|    2|\n",
            "| 101031690|    2|\n",
            "| 101337283|    2|\n",
            "| 101364555|    2|\n",
            "| 101422279|    2|\n",
            "| 101500555|    2|\n",
            "| 101897138|    2|\n",
            "+----------+-----+\n",
            "only showing top 10 rows\n",
            "\n"
          ]
        }
      ],
      "source": [
        "df1.sort('CMPLNT_NUM').show(n = 10)"
      ]
    },
    {
      "cell_type": "markdown",
      "metadata": {
        "id": "xIXIyTg_LSGf"
      },
      "source": [
        "#### Check for complaint number `100509703`"
      ]
    },
    {
      "cell_type": "code",
      "execution_count": null,
      "metadata": {
        "id": "SuNyl3VjmbXH",
        "colab": {
          "base_uri": "https://localhost:8080/"
        },
        "outputId": "7814d09a-6a4b-4b87-8af2-0ca7ff021df6"
      },
      "outputs": [
        {
          "output_type": "stream",
          "name": "stdout",
          "text": [
            "+----------+------------+------------+------------+------------+-----------+----------+-----+--------------------+-----+--------------------+----------------+-----------+---------+-----------------+-------------+----------------+-----------------+--------+----------+-----------+--------------+--------------+--------+----------------+--------------------+--------------------+------------+-------------+--------------+-------+\n",
            "|CMPLNT_NUM|CMPLNT_FR_DT|CMPLNT_FR_TM|CMPLNT_TO_DT|CMPLNT_TO_TM|ADDR_PCT_CD|    RPT_DT|KY_CD|           OFNS_DESC|PD_CD|             PD_DESC|CRM_ATPT_CPTD_CD| LAW_CAT_CD|  BORO_NM|LOC_OF_OCCUR_DESC|PREM_TYP_DESC|      JURIS_DESC|JURISDICTION_CODE|PARKS_NM|HADEVELOPT|HOUSING_PSA|SUSP_AGE_GROUP|     SUSP_RACE|SUSP_SEX|TRANSIT_DISTRICT|             Lat_Lon|         PATROL_BORO|STATION_NAME|VIC_AGE_GROUP|      VIC_RACE|VIC_SEX|\n",
            "+----------+------------+------------+------------+------------+-----------+----------+-----+--------------------+-----+--------------------+----------------+-----------+---------+-----------------+-------------+----------------+-----------------+--------+----------+-----------+--------------+--------------+--------+----------------+--------------------+--------------------+------------+-------------+--------------+-------+\n",
            "| 100509703|  06/22/2019|    01:16:00|  06/22/2019|    01:20:00|         83|06/22/2019|  344|ASSAULT 3 & RELAT...|  101|           ASSAULT 3|       COMPLETED|MISDEMEANOR| BROOKLYN|         FRONT OF|       STREET|N.Y. POLICE DEPT|                0|    null|      null|       null|       UNKNOWN|       UNKNOWN|       U|            null|(40.6966214540000...|PATROL BORO BKLYN...|        null|        25-44|WHITE HISPANIC|      M|\n",
            "| 100509703|  01/29/2016|    03:00:00|  01/29/2016|    03:10:00|         32|03/02/2016|  578|       HARRASSMENT 2|  638|HARASSMENT,SUBD 3...|       COMPLETED|  VIOLATION|MANHATTAN|         FRONT OF|       STREET|N.Y. POLICE DEPT|                0|    null|      null|         NA|         45-64|WHITE HISPANIC|       M|            null|(40.809279354, -7...|PATROL BORO MAN N...|        null|        45-64|WHITE HISPANIC|      M|\n",
            "+----------+------------+------------+------------+------------+-----------+----------+-----+--------------------+-----+--------------------+----------------+-----------+---------+-----------------+-------------+----------------+-----------------+--------+----------+-----------+--------------+--------------+--------+----------------+--------------------+--------------------+------------+-------------+--------------+-------+\n",
            "\n"
          ]
        }
      ],
      "source": [
        "df.filter('CMPLNT_NUM = 100509703').show()"
      ]
    },
    {
      "cell_type": "markdown",
      "metadata": {
        "id": "XG8tNFuBT2YJ"
      },
      "source": [
        "#### We understand, that complaint number is not specifically unique. The dataset has rows with duplicated complaint numbers having unique information for all other columns. Thus, we cannot drop the entries with duplicated complaint numbers."
      ]
    },
    {
      "cell_type": "markdown",
      "metadata": {
        "id": "n96nZ6Pjq9k1"
      },
      "source": [
        "## Find Count of Null, None, NaN of All DataFrame Columns"
      ]
    },
    {
      "cell_type": "code",
      "execution_count": null,
      "metadata": {
        "id": "mxelZ1tgqB74",
        "colab": {
          "base_uri": "https://localhost:8080/"
        },
        "outputId": "8cc4550d-33cf-43ff-ac3a-f662d04348eb"
      },
      "outputs": [
        {
          "output_type": "stream",
          "name": "stdout",
          "text": [
            "+----------+------------+------------+------------+------------+-----------+------+-----+---------+-----+-------+----------------+----------+-------+-----------------+-------------+----------+-----------------+--------+----------+-----------+--------------+---------+--------+----------------+-------+-----------+------------+-------------+--------+-------+\n",
            "|CMPLNT_NUM|CMPLNT_FR_DT|CMPLNT_FR_TM|CMPLNT_TO_DT|CMPLNT_TO_TM|ADDR_PCT_CD|RPT_DT|KY_CD|OFNS_DESC|PD_CD|PD_DESC|CRM_ATPT_CPTD_CD|LAW_CAT_CD|BORO_NM|LOC_OF_OCCUR_DESC|PREM_TYP_DESC|JURIS_DESC|JURISDICTION_CODE|PARKS_NM|HADEVELOPT|HOUSING_PSA|SUSP_AGE_GROUP|SUSP_RACE|SUSP_SEX|TRANSIT_DISTRICT|Lat_Lon|PATROL_BORO|STATION_NAME|VIC_AGE_GROUP|VIC_RACE|VIC_SEX|\n",
            "+----------+------------+------------+------------+------------+-----------+------+-----+---------+-----+-------+----------------+----------+-------+-----------------+-------------+----------+-----------------+--------+----------+-----------+--------------+---------+--------+----------------+-------+-----------+------------+-------------+--------+-------+\n",
            "|         0|         655|          48|     1704204|     1699541|       2166|     0|    0|    18823| 6278|   6278|               7|         0|  11329|          1543800|        40745|         0|             6278| 3229345|   7029181|    1241432|       4795235|  3426694| 3560008|         7212494|  17339|       6735|     7212494|      1638445|     309|    308|\n",
            "+----------+------------+------------+------------+------------+-----------+------+-----+---------+-----+-------+----------------+----------+-------+-----------------+-------------+----------+-----------------+--------+----------+-----------+--------------+---------+--------+----------------+-------+-----------+------------+-------------+--------+-------+\n",
            "\n"
          ]
        }
      ],
      "source": [
        "df.select([count(when(isnan(c) | col(c).isNull(), c)).alias(c) for c in df.columns]\n",
        "   ).show()"
      ]
    },
    {
      "cell_type": "markdown",
      "metadata": {
        "id": "Wt7SOaqwSIfw"
      },
      "source": [
        "#### Get top 5 rows where complaint from Date is NaN"
      ]
    },
    {
      "cell_type": "code",
      "execution_count": null,
      "metadata": {
        "id": "OSBt5ZBcpfv2",
        "colab": {
          "base_uri": "https://localhost:8080/"
        },
        "outputId": "75f46684-52c5-4aa0-e7da-5033e6c09a7d"
      },
      "outputs": [
        {
          "output_type": "stream",
          "name": "stdout",
          "text": [
            "+----------+------------+------------+------------+------------+-----------+----------+-----+--------------------+-----+--------------------+----------------+-----------+---------+-----------------+--------------------+-------------------+-----------------+--------+----------+-----------+--------------+---------+--------+----------------+--------------------+--------------------+------------+-------------+--------+-------+\n",
            "|CMPLNT_NUM|CMPLNT_FR_DT|CMPLNT_FR_TM|CMPLNT_TO_DT|CMPLNT_TO_TM|ADDR_PCT_CD|    RPT_DT|KY_CD|           OFNS_DESC|PD_CD|             PD_DESC|CRM_ATPT_CPTD_CD| LAW_CAT_CD|  BORO_NM|LOC_OF_OCCUR_DESC|       PREM_TYP_DESC|         JURIS_DESC|JURISDICTION_CODE|PARKS_NM|HADEVELOPT|HOUSING_PSA|SUSP_AGE_GROUP|SUSP_RACE|SUSP_SEX|TRANSIT_DISTRICT|             Lat_Lon|         PATROL_BORO|STATION_NAME|VIC_AGE_GROUP|VIC_RACE|VIC_SEX|\n",
            "+----------+------------+------------+------------+------------+-----------+----------+-----+--------------------+-----+--------------------+----------------+-----------+---------+-----------------+--------------------+-------------------+-----------------+--------+----------+-----------+--------------+---------+--------+----------------+--------------------+--------------------+------------+-------------+--------+-------+\n",
            "| 687501677|        null|    21:13:00|  09/11/2014|    21:15:00|         26|09/11/2014|  578|       HARRASSMENT 2|  638|HARASSMENT,SUBD 3...|       COMPLETED|  VIOLATION|MANHATTAN|             null|TRANSIT - NYC SUBWAY|N.Y. TRANSIT POLICE|                1|    null|      null|         NA|          null|    BLACK|       M|               3|(40.810772767, -7...|PATROL BORO MAN N...|  125 STREET|        25-44| UNKNOWN|      F|\n",
            "| 302287732|        null|    22:30:00|  04/14/2012|    22:32:00|        108|04/14/2012|  341|       PETIT LARCENY|  333|LARCENY,PETIT FRO...|       COMPLETED|MISDEMEANOR|   QUEENS|           INSIDE|        LIQUOR STORE|   N.Y. POLICE DEPT|                0|      NA|      null|         NA|          null|    BLACK|       M|            null|(40.743080168, -7...|PATROL BORO QUEEN...|        null|         null| UNKNOWN|      D|\n",
            "| 591588703|        null|    21:00:00|  02/10/2010|    06:20:00|         34|02/10/2012|  351|CRIMINAL MISCHIEF...|  254|MISCHIEF, CRIMINA...|       COMPLETED|MISDEMEANOR|MANHATTAN|             null|              STREET|   N.Y. POLICE DEPT|                0|      NA|      null|         NA|          null|     null|    null|            null|(40.858948423, -7...|PATROL BORO MAN N...|        null|        25-44|   BLACK|      M|\n",
            "| 689168068|        null|    23:00:00|  05/03/2015|    11:00:00|         20|05/03/2015|  109|       GRAND LARCENY|  421|LARCENY,GRAND FRO...|       COMPLETED|     FELONY|MANHATTAN|      OPPOSITE OF|              STREET|   N.Y. POLICE DEPT|                0|    null|      null|         NA|          null|     null|    null|            null|(40.772273324, -7...|PATROL BORO MAN N...|        null|         null| UNKNOWN|      F|\n",
            "| 734591515|        null|    04:50:00|        null|        null|         52|09/06/2013|  110|GRAND LARCENY OF ...|  441|LARCENY,GRAND OF ...|       COMPLETED|     FELONY|    BRONX|             null|              STREET|   N.Y. POLICE DEPT|                0|      NA|      null|         NA|          null|     null|    null|            null|(40.862763361, -7...|   PATROL BORO BRONX|        null|         null| UNKNOWN|      D|\n",
            "+----------+------------+------------+------------+------------+-----------+----------+-----+--------------------+-----+--------------------+----------------+-----------+---------+-----------------+--------------------+-------------------+-----------------+--------+----------+-----------+--------------+---------+--------+----------------+--------------------+--------------------+------------+-------------+--------+-------+\n",
            "only showing top 5 rows\n",
            "\n"
          ]
        }
      ],
      "source": [
        "df.where(col('CMPLNT_FR_DT').isNull()).show(n=5)"
      ]
    },
    {
      "cell_type": "markdown",
      "metadata": {
        "id": "0THJK1JWSgtT"
      },
      "source": [
        "### Get rows where either complaint from date or complaint from time is null"
      ]
    },
    {
      "cell_type": "code",
      "execution_count": null,
      "metadata": {
        "id": "hu_HmwGjTPF9",
        "colab": {
          "base_uri": "https://localhost:8080/"
        },
        "outputId": "b8dbd0f5-a1b4-45f0-a6e7-f3cdfca531bb"
      },
      "outputs": [
        {
          "output_type": "stream",
          "name": "stdout",
          "text": [
            "+----------+------------+------------+------------+------------+-----------+----------+-----+--------------------+-----+--------------------+----------------+-----------+---------+-----------------+--------------------+-------------------+-----------------+--------+----------+-----------+--------------+---------+--------+----------------+--------------------+--------------------+------------+-------------+--------+-------+\n",
            "|CMPLNT_NUM|CMPLNT_FR_DT|CMPLNT_FR_TM|CMPLNT_TO_DT|CMPLNT_TO_TM|ADDR_PCT_CD|    RPT_DT|KY_CD|           OFNS_DESC|PD_CD|             PD_DESC|CRM_ATPT_CPTD_CD| LAW_CAT_CD|  BORO_NM|LOC_OF_OCCUR_DESC|       PREM_TYP_DESC|         JURIS_DESC|JURISDICTION_CODE|PARKS_NM|HADEVELOPT|HOUSING_PSA|SUSP_AGE_GROUP|SUSP_RACE|SUSP_SEX|TRANSIT_DISTRICT|             Lat_Lon|         PATROL_BORO|STATION_NAME|VIC_AGE_GROUP|VIC_RACE|VIC_SEX|\n",
            "+----------+------------+------------+------------+------------+-----------+----------+-----+--------------------+-----+--------------------+----------------+-----------+---------+-----------------+--------------------+-------------------+-----------------+--------+----------+-----------+--------------+---------+--------+----------------+--------------------+--------------------+------------+-------------+--------+-------+\n",
            "| 687501677|        null|    21:13:00|  09/11/2014|    21:15:00|         26|09/11/2014|  578|       HARRASSMENT 2|  638|HARASSMENT,SUBD 3...|       COMPLETED|  VIOLATION|MANHATTAN|             null|TRANSIT - NYC SUBWAY|N.Y. TRANSIT POLICE|                1|    null|      null|         NA|          null|    BLACK|       M|               3|(40.810772767, -7...|PATROL BORO MAN N...|  125 STREET|        25-44| UNKNOWN|      F|\n",
            "| 302287732|        null|    22:30:00|  04/14/2012|    22:32:00|        108|04/14/2012|  341|       PETIT LARCENY|  333|LARCENY,PETIT FRO...|       COMPLETED|MISDEMEANOR|   QUEENS|           INSIDE|        LIQUOR STORE|   N.Y. POLICE DEPT|                0|      NA|      null|         NA|          null|    BLACK|       M|            null|(40.743080168, -7...|PATROL BORO QUEEN...|        null|         null| UNKNOWN|      D|\n",
            "| 591588703|        null|    21:00:00|  02/10/2010|    06:20:00|         34|02/10/2012|  351|CRIMINAL MISCHIEF...|  254|MISCHIEF, CRIMINA...|       COMPLETED|MISDEMEANOR|MANHATTAN|             null|              STREET|   N.Y. POLICE DEPT|                0|      NA|      null|         NA|          null|     null|    null|            null|(40.858948423, -7...|PATROL BORO MAN N...|        null|        25-44|   BLACK|      M|\n",
            "| 689168068|        null|    23:00:00|  05/03/2015|    11:00:00|         20|05/03/2015|  109|       GRAND LARCENY|  421|LARCENY,GRAND FRO...|       COMPLETED|     FELONY|MANHATTAN|      OPPOSITE OF|              STREET|   N.Y. POLICE DEPT|                0|    null|      null|         NA|          null|     null|    null|            null|(40.772273324, -7...|PATROL BORO MAN N...|        null|         null| UNKNOWN|      F|\n",
            "| 734591515|        null|    04:50:00|        null|        null|         52|09/06/2013|  110|GRAND LARCENY OF ...|  441|LARCENY,GRAND OF ...|       COMPLETED|     FELONY|    BRONX|             null|              STREET|   N.Y. POLICE DEPT|                0|      NA|      null|         NA|          null|     null|    null|            null|(40.862763361, -7...|   PATROL BORO BRONX|        null|         null| UNKNOWN|      D|\n",
            "+----------+------------+------------+------------+------------+-----------+----------+-----+--------------------+-----+--------------------+----------------+-----------+---------+-----------------+--------------------+-------------------+-----------------+--------+----------+-----------+--------------+---------+--------+----------------+--------------------+--------------------+------------+-------------+--------+-------+\n",
            "only showing top 5 rows\n",
            "\n"
          ]
        }
      ],
      "source": [
        "df.filter(df.CMPLNT_FR_DT.isNull() | df.CMPLNT_FR_TM.isNull()).show(5)"
      ]
    },
    {
      "cell_type": "markdown",
      "metadata": {
        "id": "6xl4xqaKSoly"
      },
      "source": [
        "1. There maybe null values in the CMPLNT_TO_DT, CMPLNT_TO_TM, LOC_OF_OCCUR_DESC, PREM_TYP_DESC, PARKS_NM and HADEVELOPT columns. \n",
        "\n",
        "2. LOC_OF_OCCUR_DESC, PREM_TYP_DESC, PARKS_NM and HADEVELOPT need not be present for all the fields so cannot be used to eliminate records.\n",
        "\n",
        "3. However, complaint from date and complaint from time columns cannot have null values. We drop the rows where either complaint from date or complaint from time is null."
      ]
    },
    {
      "cell_type": "code",
      "execution_count": null,
      "metadata": {
        "id": "v7i-_-ckTEQ0"
      },
      "outputs": [],
      "source": [
        "df = df.filter(df.CMPLNT_FR_DT.isNotNull() & df.CMPLNT_FR_TM.isNotNull())"
      ]
    },
    {
      "cell_type": "code",
      "execution_count": null,
      "metadata": {
        "id": "bXb7-Kaip25C",
        "colab": {
          "base_uri": "https://localhost:8080/"
        },
        "outputId": "b012e254-2411-4f3e-88f1-7a5cbd20d622"
      },
      "outputs": [
        {
          "output_type": "stream",
          "name": "stdout",
          "text": [
            "+----------+------------+------------+------------+------------+-----------+------+-----+---------+-----+-------+----------------+----------+-------+-----------------+-------------+----------+-----------------+--------+----------+-----------+--------------+---------+--------+----------------+-------+-----------+------------+-------------+--------+-------+\n",
            "|CMPLNT_NUM|CMPLNT_FR_DT|CMPLNT_FR_TM|CMPLNT_TO_DT|CMPLNT_TO_TM|ADDR_PCT_CD|RPT_DT|KY_CD|OFNS_DESC|PD_CD|PD_DESC|CRM_ATPT_CPTD_CD|LAW_CAT_CD|BORO_NM|LOC_OF_OCCUR_DESC|PREM_TYP_DESC|JURIS_DESC|JURISDICTION_CODE|PARKS_NM|HADEVELOPT|HOUSING_PSA|SUSP_AGE_GROUP|SUSP_RACE|SUSP_SEX|TRANSIT_DISTRICT|Lat_Lon|PATROL_BORO|STATION_NAME|VIC_AGE_GROUP|VIC_RACE|VIC_SEX|\n",
            "+----------+------------+------------+------------+------------+-----------+------+-----+---------+-----+-------+----------------+----------+-------+-----------------+-------------+----------+-----------------+--------+----------+-----------+--------------+---------+--------+----------------+-------+-----------+------------+-------------+--------+-------+\n",
            "+----------+------------+------------+------------+------------+-----------+------+-----+---------+-----+-------+----------------+----------+-------+-----------------+-------------+----------+-----------------+--------+----------+-----------+--------------+---------+--------+----------------+-------+-----------+------------+-------------+--------+-------+\n",
            "\n"
          ]
        }
      ],
      "source": [
        "df.where(col('CMPLNT_FR_DT').isNull()).show()"
      ]
    },
    {
      "cell_type": "code",
      "execution_count": null,
      "metadata": {
        "id": "D4R-mfAq1BjU",
        "colab": {
          "base_uri": "https://localhost:8080/"
        },
        "outputId": "e06d8287-fcc8-4569-e6f5-cabb120f8993"
      },
      "outputs": [
        {
          "output_type": "execute_result",
          "data": {
            "text/plain": [
              "1704046"
            ]
          },
          "metadata": {},
          "execution_count": 40
        }
      ],
      "source": [
        "df.where(col('CMPLNT_TO_DT').isNull()).count()"
      ]
    },
    {
      "cell_type": "markdown",
      "metadata": {
        "id": "xQB6VENfU63C"
      },
      "source": [
        "Check if minimum and maximum values of date and time are valid or not. The value of time cannot be 24:00:00. "
      ]
    },
    {
      "cell_type": "code",
      "execution_count": null,
      "metadata": {
        "id": "vVavFmZSuUoz",
        "colab": {
          "base_uri": "https://localhost:8080/"
        },
        "outputId": "3c80ec87-0e25-45ce-f83e-dfd2e6994e62"
      },
      "outputs": [
        {
          "output_type": "stream",
          "name": "stdout",
          "text": [
            "+-----------------+\n",
            "|min(CMPLNT_FR_TM)|\n",
            "+-----------------+\n",
            "|         00:00:00|\n",
            "+-----------------+\n",
            "\n"
          ]
        }
      ],
      "source": [
        "## Minimum value of the column in pyspark\n",
        "df.agg({'CMPLNT_FR_TM': 'min'}).show()"
      ]
    },
    {
      "cell_type": "code",
      "execution_count": null,
      "metadata": {
        "id": "Tono32lCucBj"
      },
      "outputs": [],
      "source": [
        "# ## Maximum value of the column in pyspark\n",
        "df.agg({'CMPLNT_FR_TM': 'max'}).show()"
      ]
    },
    {
      "cell_type": "code",
      "execution_count": null,
      "metadata": {
        "id": "8papMV3_W4Bj"
      },
      "outputs": [],
      "source": [
        "df.agg({'CMPLNT_FR_DT': 'min'}).show()"
      ]
    },
    {
      "cell_type": "code",
      "execution_count": null,
      "metadata": {
        "id": "tPxH9P8RW4OM"
      },
      "outputs": [],
      "source": [
        "df.agg({'CMPLNT_FR_DT': 'max'}).show()"
      ]
    },
    {
      "cell_type": "code",
      "execution_count": null,
      "metadata": {
        "id": "PUzsG3qpozob"
      },
      "outputs": [],
      "source": [
        "df.select('CMPLNT_FR_DT').distinct().orderBy('CMPLNT_FR_DT').show()"
      ]
    },
    {
      "cell_type": "code",
      "execution_count": null,
      "metadata": {
        "id": "s8U82OvtTjKw",
        "colab": {
          "base_uri": "https://localhost:8080/"
        },
        "outputId": "9d94ccdb-a34e-4d13-a022-e1e302e17fe4"
      },
      "outputs": [
        {
          "output_type": "stream",
          "name": "stdout",
          "text": [
            "+----------+------------+------------+------------+------------+-----------+----------+-----+--------------------+-----+--------------------+----------------+-----------+-------------+-----------------+--------------------+-------------------+-----------------+--------+----------+-----------+--------------+--------------------+--------+----------------+--------------------+--------------------+------------+-------------+--------------------+-------+\n",
            "|CMPLNT_NUM|CMPLNT_FR_DT|CMPLNT_FR_TM|CMPLNT_TO_DT|CMPLNT_TO_TM|ADDR_PCT_CD|    RPT_DT|KY_CD|           OFNS_DESC|PD_CD|             PD_DESC|CRM_ATPT_CPTD_CD| LAW_CAT_CD|      BORO_NM|LOC_OF_OCCUR_DESC|       PREM_TYP_DESC|         JURIS_DESC|JURISDICTION_CODE|PARKS_NM|HADEVELOPT|HOUSING_PSA|SUSP_AGE_GROUP|           SUSP_RACE|SUSP_SEX|TRANSIT_DISTRICT|             Lat_Lon|         PATROL_BORO|STATION_NAME|VIC_AGE_GROUP|            VIC_RACE|VIC_SEX|\n",
            "+----------+------------+------------+------------+------------+-----------+----------+-----+--------------------+-----+--------------------+----------------+-----------+-------------+-----------------+--------------------+-------------------+-----------------+--------+----------+-----------+--------------+--------------------+--------+----------------+--------------------+--------------------+------------+-------------+--------------------+-------+\n",
            "| 725376861|  2019-04-12|    00:00:00|  06/11/2019|    23:59:00|        110|06/28/2019|  109|       GRAND LARCENY|  424|LARCENY,GRAND BY ...|       COMPLETED|     FELONY|       QUEENS|           INSIDE|     RESIDENCE-HOUSE|   N.Y. POLICE DEPT|                0|    null|      null|       null|          null|                null|    null|            null|(40.7405001150000...|PATROL BORO QUEEN...|        null|        45-64|ASIAN / PACIFIC I...|      F|\n",
            "| 370244435|  2019-06-28|    00:00:00|  06/29/2019|    21:00:00|          5|07/01/2019|  341|       PETIT LARCENY|  338|LARCENY,PETIT FRO...|       COMPLETED|MISDEMEANOR|    MANHATTAN|           INSIDE|         HOTEL/MOTEL|   N.Y. POLICE DEPT|                0|    null|      null|       null|          null|                null|    null|            null|(40.7178756320000...|PATROL BORO MAN S...|        null|        25-44|ASIAN / PACIFIC I...|      F|\n",
            "| 880330575|  2019-09-30|    00:00:00|  10/01/2019|    23:59:00|         83|10/23/2019|  112|         THEFT-FRAUD|  739|FRAUD,UNCLASSIFIE...|       COMPLETED|     FELONY|     BROOKLYN|           INSIDE|RESIDENCE - APT. ...|   N.Y. POLICE DEPT|                0|    null|      null|       null|          null|                null|    null|            null|(40.6894409620000...|PATROL BORO BKLYN...|        null|        18-24|               BLACK|      F|\n",
            "| 613627146|  2019-10-29|    00:00:00|  10/29/2019|    07:00:00|         67|10/29/2019|  109|       GRAND LARCENY|  421|LARCENY,GRAND FRO...|       COMPLETED|     FELONY|     BROOKLYN|           INSIDE|RESIDENCE - APT. ...|   N.Y. POLICE DEPT|                0|    null|      null|       null|          null|                null|    null|            null|(40.6376247160000...|PATROL BORO BKLYN...|        null|        18-24|               BLACK|      M|\n",
            "| 818330980|  2019-03-01|    00:00:00|  04/27/2019|    06:00:00|         63|04/30/2019|  351|CRIMINAL MISCHIEF...|  258|CRIMINAL MISCHIEF...|       COMPLETED|MISDEMEANOR|     BROOKLYN|             null|               OTHER|   N.Y. POLICE DEPT|                0|    null|      null|       null|          null|                null|    null|            null|(40.6082136860000...|PATROL BORO BKLYN...|        null|      UNKNOWN|             UNKNOWN|      E|\n",
            "| 746845448|  2019-05-07|    00:00:00|  05/07/2019|    09:40:00|         13|05/07/2019|  351|CRIMINAL MISCHIEF...|  258|CRIMINAL MISCHIEF...|       COMPLETED|MISDEMEANOR|    MANHATTAN|         FRONT OF| COMMERCIAL BUILDING|   N.Y. POLICE DEPT|                0|    null|      null|       null|          null|                null|    null|            null|(40.7419360830000...|PATROL BORO MAN S...|        null|      UNKNOWN|             UNKNOWN|      E|\n",
            "| 248773668|  2019-05-18|    00:00:00|  05/18/2019|    16:10:00|        123|05/18/2019|  351|CRIMINAL MISCHIEF...|  258|CRIMINAL MISCHIEF...|       COMPLETED|MISDEMEANOR|STATEN ISLAND|             null|               OTHER|   N.Y. POLICE DEPT|                0|    null|      null|       null|          null|                null|    null|            null|(40.5284924000000...|PATROL BORO STATE...|        null|      UNKNOWN|             UNKNOWN|      E|\n",
            "| 316734229|  2019-07-10|    00:00:00|  07/10/2019|    16:00:00|         13|07/10/2019|  351|CRIMINAL MISCHIEF...|  258|CRIMINAL MISCHIEF...|       COMPLETED|MISDEMEANOR|    MANHATTAN|         FRONT OF|RESIDENCE - APT. ...|   N.Y. POLICE DEPT|                0|    null|      null|       null|          null|                null|    null|            null|(40.7407156540000...|PATROL BORO MAN S...|        null|      UNKNOWN|             UNKNOWN|      E|\n",
            "| 420272826|  2019-07-01|    00:00:00|  07/19/2019|    00:00:00|         75|07/19/2019|  351|CRIMINAL MISCHIEF...|  258|CRIMINAL MISCHIEF...|       COMPLETED|MISDEMEANOR|     BROOKLYN|         FRONT OF| COMMERCIAL BUILDING|   N.Y. POLICE DEPT|                0|    null|      null|       null|          null|                null|    null|            null|(40.6614876920000...|PATROL BORO BKLYN...|        null|      UNKNOWN|             UNKNOWN|      D|\n",
            "| 713844309|  2019-07-19|    00:00:00|        null|        null|         52|07/19/2019|  351|CRIMINAL MISCHIEF...|  258|CRIMINAL MISCHIEF...|       COMPLETED|MISDEMEANOR|        BRONX|         FRONT OF|      GROCERY/BODEGA|   N.Y. POLICE DEPT|                0|    null|      null|       null|          null|                null|    null|            null|(40.8668291740000...|   PATROL BORO BRONX|        null|      UNKNOWN|             UNKNOWN|      E|\n",
            "| 782404231|  2019-09-21|    00:00:00|  09/21/2019|    16:00:00|         43|09/21/2019|  351|CRIMINAL MISCHIEF...|  258|CRIMINAL MISCHIEF...|       COMPLETED|MISDEMEANOR|        BRONX|           INSIDE|RESIDENCE - APT. ...|   N.Y. POLICE DEPT|                0|    null|      null|       null|          null|                null|    null|            null|(40.8312419890000...|   PATROL BORO BRONX|        null|      UNKNOWN|             UNKNOWN|      D|\n",
            "| 231920469|  2019-03-20|    00:00:00|  03/20/2019|    01:30:00|         18|03/20/2019|  109|       GRAND LARCENY|  438|LARCENY,GRAND FRO...|       COMPLETED|     FELONY|    MANHATTAN|           INSIDE|         HOTEL/MOTEL|   N.Y. POLICE DEPT|                0|    null|      null|       null|       UNKNOWN|      BLACK HISPANIC|       F|            null|(40.7620917460000...|PATROL BORO MAN S...|        null|        45-64|ASIAN / PACIFIC I...|      M|\n",
            "| 154971112|  2019-03-16|    00:00:00|  03/16/2019|    00:10:00|        113|03/16/2019|  106|      FELONY ASSAULT|  109|ASSAULT 2,1,UNCLA...|       COMPLETED|     FELONY|       QUEENS|         FRONT OF|              STREET|   N.Y. POLICE DEPT|                0|    null|      null|       null|         18-24|               BLACK|       F|            null|(40.6835239570000...|PATROL BORO QUEEN...|        null|        18-24|               BLACK|      M|\n",
            "| 857979550|  2019-11-25|    00:00:00|  11/25/2019|    08:00:00|         10|11/25/2019|  344|ASSAULT 3 & RELAT...|  101|           ASSAULT 3|       COMPLETED|MISDEMEANOR|    MANHATTAN|           INSIDE|RESIDENCE - APT. ...|   N.Y. POLICE DEPT|                0|    null|      null|       null|         25-44|ASIAN / PACIFIC I...|       F|            null|(40.7614047600000...|PATROL BORO MAN S...|        null|      UNKNOWN|             UNKNOWN|      M|\n",
            "| 537728710|  2019-06-08|    00:00:00|  06/08/2019|    00:03:00|         77|06/08/2019|  578|       HARRASSMENT 2|  637|HARASSMENT,SUBD 1...|       COMPLETED|  VIOLATION|     BROOKLYN|         FRONT OF|RESIDENCE - APT. ...|   N.Y. POLICE DEPT|                0|    null|      null|       null|         25-44|               BLACK|       F|            null|(40.6793273790000...|PATROL BORO BKLYN...|        null|        25-44|      WHITE HISPANIC|      F|\n",
            "| 225393166|  2019-06-23|    00:00:00|  06/23/2019|    00:10:00|         32|06/23/2019|  344|ASSAULT 3 & RELAT...|  101|           ASSAULT 3|       COMPLETED|MISDEMEANOR|    MANHATTAN|             null|              STREET|   N.Y. POLICE DEPT|                0|    null|      null|       null|       UNKNOWN|               BLACK|       F|            null|(40.8122090320000...|PATROL BORO MAN N...|        null|        25-44|      WHITE HISPANIC|      F|\n",
            "| 478085458|  2019-03-17|    00:00:00|  03/17/2019|    18:00:00|         63|03/17/2019|  233|          SEX CRIMES|  681|CHILD, ENDANGERIN...|       COMPLETED|MISDEMEANOR|     BROOKLYN|           INSIDE|     RESIDENCE-HOUSE|   N.Y. POLICE DEPT|                0|    null|      null|       null|         25-44|               BLACK|       M|            null|(40.6279777550000...|PATROL BORO BKLYN...|        null|          <18|               BLACK|      M|\n",
            "| 234266084|  2019-03-21|    00:00:00|        null|        null|         28|03/21/2019|  359|OFFENSES AGAINST ...|  748|   CONTEMPT,CRIMINAL|       COMPLETED|MISDEMEANOR|    MANHATTAN|           INSIDE|RESIDENCE - APT. ...|   N.Y. POLICE DEPT|                0|    null|      null|       null|         25-44|               BLACK|       M|            null|(40.8023368530000...|PATROL BORO MAN N...|        null|          65+|               BLACK|      F|\n",
            "| 876889198|  2019-03-30|    00:00:00|  03/30/2019|    09:00:00|         28|03/30/2019|  341|       PETIT LARCENY|  338|LARCENY,PETIT FRO...|       COMPLETED|MISDEMEANOR|    MANHATTAN|           INSIDE|RESIDENCE - APT. ...|   N.Y. POLICE DEPT|                0|    null|      null|       null|         18-24|      BLACK HISPANIC|       M|            null|(40.8077603780000...|PATROL BORO MAN N...|        null|        18-24|               BLACK|      F|\n",
            "| 486137412|  2019-03-30|    00:00:00|  04/01/2019|    00:00:00|         49|04/03/2019|  361|OFF. AGNST PUB OR...|  639|AGGRAVATED HARASS...|       COMPLETED|MISDEMEANOR|        BRONX|           INSIDE|RESIDENCE - PUBLI...|N.Y. HOUSING POLICE|                2|    null|  PARKSIDE|    34805.0|         25-44|               BLACK|       M|            null|(40.8696889320000...|   PATROL BORO BRONX|        null|        25-44|               BLACK|      F|\n",
            "+----------+------------+------------+------------+------------+-----------+----------+-----+--------------------+-----+--------------------+----------------+-----------+-------------+-----------------+--------------------+-------------------+-----------------+--------+----------+-----------+--------------+--------------------+--------+----------------+--------------------+--------------------+------------+-------------+--------------------+-------+\n",
            "only showing top 20 rows\n",
            "\n"
          ]
        }
      ],
      "source": [
        "from datetime import datetime\n",
        "date_from = '2006-01-01'\n",
        "date_to = '2020-12-31'\n",
        "\n",
        "# Setting an user define function:\n",
        "# This function converts the string cell into a date:\n",
        "func =  udf (lambda x: datetime.strptime(str(x), '%m/%d/%Y'), DateType())\n",
        "\n",
        "df = df.withColumn('CMPLNT_FR_DT', func(col('CMPLNT_FR_DT')))\n",
        "df = df.filter(df.CMPLNT_FR_DT >= date_from).filter(df.CMPLNT_FR_DT <= date_to)\n",
        "df.show()"
      ]
    },
    {
      "cell_type": "code",
      "execution_count": null,
      "metadata": {
        "id": "AMlARQojn8jz"
      },
      "outputs": [],
      "source": [
        "df.select('CMPLNT_FR_DT').distinct().show()"
      ]
    },
    {
      "cell_type": "code",
      "execution_count": null,
      "metadata": {
        "id": "PeHUX9yInbHC"
      },
      "outputs": [],
      "source": [
        "df.agg({'CMPLNT_FR_DT': 'min'}).show()"
      ]
    },
    {
      "cell_type": "code",
      "execution_count": null,
      "metadata": {
        "id": "sJmJd2Mj67KS"
      },
      "outputs": [],
      "source": [
        "df.filter(df.CMPLNT_FR_DT < date_from).filter(df.CMPLNT_FR_DT > date_to).show()"
      ]
    },
    {
      "cell_type": "code",
      "execution_count": null,
      "metadata": {
        "id": "tyWDbn0m7DNd"
      },
      "outputs": [],
      "source": [
        "df.filter(df.CMPLNT_TO_DT < date_from).filter(df.CMPLNT_TO_DT > date_to).show()"
      ]
    },
    {
      "cell_type": "markdown",
      "metadata": {
        "id": "StfFUDBsc_8R"
      },
      "source": [
        "**Some basic data quality checks are as below:**\n",
        "1. Check if there are no garbage values in the location of occurence description column. The valid values that this column should ideally contain are: 'FRONT OF', 'REAR OF', 'OUTSIDE', 'INSIDE', 'OPPOSITE OF'\n",
        "2. Check if there are no garbage values in law category column. The valid values are: 'FELONY', 'VIOLATION', 'MISDEMEANOR'\n",
        "3. Check if there are no misspellings in Borough Name. There should be 5 distinct boroughs: Manhattan, Bronx, Queens, Brooklyn, Staten Island. We implement unique method, in case of misspellings multiple values of the same borough would be returned.\n",
        "4. Check if 'CRM_ATPT_CPTD_CD' column has no garbage value. The only acceptable values are Completed or Attempted.\n",
        "5. Ideally, key code should contain only 3 digits. Implementing a check below to see if there are any invalid values for the key code. "
      ]
    },
    {
      "cell_type": "code",
      "execution_count": null,
      "metadata": {
        "id": "bMCP753walMv"
      },
      "outputs": [],
      "source": [
        "df.select('LOC_OF_OCCUR_DESC').distinct().show()"
      ]
    },
    {
      "cell_type": "code",
      "execution_count": null,
      "metadata": {
        "id": "thhWypodbGdS"
      },
      "outputs": [],
      "source": [
        "df.select('LAW_CAT_CD').distinct().show()"
      ]
    },
    {
      "cell_type": "markdown",
      "metadata": {
        "id": "GZowh0na-VjI"
      },
      "source": [
        "### Checks for Borough Name"
      ]
    },
    {
      "cell_type": "code",
      "execution_count": null,
      "metadata": {
        "id": "8EkBxmg_bOue"
      },
      "outputs": [],
      "source": [
        "df.select('BORO_NM').distinct().show()"
      ]
    },
    {
      "cell_type": "markdown",
      "metadata": {
        "id": "CLGPDp3OAdxF"
      },
      "source": [
        "We can see there are no misspellings for the Borough names and thus no need for additional data correction for the same."
      ]
    },
    {
      "cell_type": "code",
      "execution_count": null,
      "metadata": {
        "id": "TGS80nUK-O1f"
      },
      "outputs": [],
      "source": [
        "df.where(col('BORO_NM').isNull()).show()"
      ]
    },
    {
      "cell_type": "code",
      "execution_count": null,
      "metadata": {
        "id": "3lxbjLgg37V8"
      },
      "outputs": [],
      "source": [
        "df = df.filter(df.BORO_NM.isNotNull())"
      ]
    },
    {
      "cell_type": "code",
      "execution_count": null,
      "metadata": {
        "id": "-aR9P20bu75M"
      },
      "outputs": [],
      "source": [
        "bor = ds.select('BORO_NM')\n",
        "bor1 = bor.to_df()\n",
        "bor1['BORO_NM'].replace('', np.nan, inplace=True)\n",
        "bor1.dropna(inplace=True)"
      ]
    },
    {
      "cell_type": "markdown",
      "source": [
        ""
      ],
      "metadata": {
        "id": "zwZwNTX6uw_J"
      }
    },
    {
      "cell_type": "code",
      "execution_count": null,
      "metadata": {
        "id": "sy0fOz4oyrxO"
      },
      "outputs": [],
      "source": [
        "bor1.isnull().values.any()"
      ]
    },
    {
      "cell_type": "code",
      "execution_count": null,
      "metadata": {
        "id": "4kuFVJJqyxVs"
      },
      "outputs": [],
      "source": [
        "bor1['BORO_NM'].unique()"
      ]
    },
    {
      "cell_type": "code",
      "execution_count": null,
      "metadata": {
        "id": "kgyJwGnnI6HP",
        "colab": {
          "base_uri": "https://localhost:8080/"
        },
        "outputId": "e397a24d-1307-425b-d2e8-ac72f97aee7a"
      },
      "outputs": [
        {
          "output_type": "stream",
          "name": "stderr",
          "text": [
            "IOPub data rate exceeded.\n",
            "The notebook server will temporarily stop sending output\n",
            "to the client in order to avoid crashing it.\n",
            "To change this limit, set the config variable\n",
            "`--NotebookApp.iopub_data_rate_limit`.\n",
            "\n",
            "Current values:\n",
            "NotebookApp.iopub_data_rate_limit=1000000.0 (bytes/sec)\n",
            "NotebookApp.rate_limit_window=3.0 (secs)\n",
            "\n"
          ]
        }
      ],
      "source": [
        "from openclean.function.matching.base import DefaultStringMatcher\n",
        "from openclean.function.matching.fuzzy import FuzzySimilarity\n",
        "from openclean.data.mapping import Mapping\n",
        "\n",
        "VOCABULARY = ['BROOKLYN' ,'MANHATTAN','STATEN ISLAND','BRONX', 'QUEENS']\n",
        "\n",
        "matcher = DefaultStringMatcher(\n",
        "    vocabulary=VOCABULARY,\n",
        "    similarity=FuzzySimilarity()\n",
        ")\n",
        "\n",
        "map = Mapping()\n",
        "for query in bor1['BORO_NM']:\n",
        "    map.add(query, matcher.find_matches(query))\n",
        "\n",
        "print(map)"
      ]
    },
    {
      "cell_type": "code",
      "execution_count": null,
      "metadata": {
        "id": "jCFDt3WdLAZl",
        "colab": {
          "base_uri": "https://localhost:8080/"
        },
        "outputId": "73eeaceb-0dbe-4654-f1ba-464abe863bb2"
      },
      "outputs": [
        {
          "output_type": "stream",
          "name": "stderr",
          "text": [
            "/usr/local/lib/python3.7/dist-packages/openclean/data/mapping.py:223: UserWarning: Ignoring key: MANHATTAN (1771637 matches). To include ignored keys, update the map to contain only 1 match per key\n",
            "  'update the map to contain only 1 match per key'.format(k, len(v)))\n",
            "/usr/local/lib/python3.7/dist-packages/openclean/data/mapping.py:223: UserWarning: Ignoring key: BRONX (1599801 matches). To include ignored keys, update the map to contain only 1 match per key\n",
            "  'update the map to contain only 1 match per key'.format(k, len(v)))\n",
            "/usr/local/lib/python3.7/dist-packages/openclean/data/mapping.py:223: UserWarning: Ignoring key: QUEENS (1463554 matches). To include ignored keys, update the map to contain only 1 match per key\n",
            "  'update the map to contain only 1 match per key'.format(k, len(v)))\n",
            "/usr/local/lib/python3.7/dist-packages/openclean/data/mapping.py:223: UserWarning: Ignoring key: BROOKLYN (2186681 matches). To include ignored keys, update the map to contain only 1 match per key\n",
            "  'update the map to contain only 1 match per key'.format(k, len(v)))\n",
            "/usr/local/lib/python3.7/dist-packages/openclean/data/mapping.py:223: UserWarning: Ignoring key: STATEN ISLAND (342991 matches). To include ignored keys, update the map to contain only 1 match per key\n",
            "  'update the map to contain only 1 match per key'.format(k, len(v)))\n"
          ]
        },
        {
          "output_type": "stream",
          "name": "stdout",
          "text": [
            "['MANHATTAN' 'BRONX' 'QUEENS' 'BROOKLYN' 'STATEN ISLAND']\n"
          ]
        }
      ],
      "source": [
        "from openclean.function.eval.domain import Lookup\n",
        "from openclean.operator.transform.update import update\n",
        "from openclean.function.eval.base import Col\n",
        "\n",
        "fixed = update(bor1, 'BORO_NM', Lookup(columns=['BORO_NM'], mapping=map.to_lookup(), default=Col('BORO_NM')))\n",
        "\n",
        "print(fixed['BORO_NM'].unique())"
      ]
    },
    {
      "cell_type": "markdown",
      "metadata": {
        "id": "8qNiIF2iQohN"
      },
      "source": [
        "### The above script can be used to fix any error in the spellings of Borough names or for any other column by specifying it in the vocabulary list.\n",
        "\n",
        "### There are null values present which can be removed before running this script on the data."
      ]
    },
    {
      "cell_type": "markdown",
      "source": [
        "-----------------------------------------------------------------------\n",
        "# 4.  EXTRA CREDIT COMMENT:\n",
        "\n",
        "**Logical Error**:\n",
        "\n",
        "In the case of this particular dataset, the boroughs' values are among of the following names : 'BROOKLYN' ,'MANHATTAN','STATEN ISLAND','BRONX', 'QUEENS', \"UNKNOWN\", and NaN.\n",
        "\n",
        "So, they are treating unknown values as NaN too.\n",
        "\n",
        "**Suggestion for improvement**:\n",
        "\n",
        "Reverse Geocoding could have been done using the latitudes and longitudes to find Boroughs.\n",
        "\n",
        "\n",
        "------------------------------------------------------------------------"
      ],
      "metadata": {
        "id": "71xUOLp_qNtH"
      }
    },
    {
      "cell_type": "markdown",
      "source": [
        "**"
      ],
      "metadata": {
        "id": "PPqwJnvzwsJY"
      }
    },
    {
      "cell_type": "markdown",
      "source": [
        "**"
      ],
      "metadata": {
        "id": "bm0NwQsVwr-I"
      }
    },
    {
      "cell_type": "markdown",
      "metadata": {
        "id": "8PBAVylwS6md"
      },
      "source": [
        "#### Dropping Rows where Borough Name is NULL"
      ]
    },
    {
      "cell_type": "code",
      "execution_count": null,
      "metadata": {
        "id": "BdsO97LX6bSs"
      },
      "outputs": [],
      "source": [
        "df.count()"
      ]
    },
    {
      "cell_type": "code",
      "execution_count": null,
      "metadata": {
        "id": "5TxYWPFN-mP5"
      },
      "outputs": [],
      "source": [
        "df.filter(df.BORO_NM.isNull()).show()"
      ]
    },
    {
      "cell_type": "markdown",
      "metadata": {
        "id": "zAqM8qC-TG9A"
      },
      "source": [
        "#### Check if all Rows of the column 'CRM_ATPT_CPTD_CD' have the expected values. Either Completed or Atempted. From the statistics above, there are only 7 rows that have null value for this column. Since it constitutes of very less percentage of the entire dataset, we decided to drop the rows that have null values for this column."
      ]
    },
    {
      "cell_type": "code",
      "execution_count": null,
      "metadata": {
        "id": "wpbd5kWucpl7"
      },
      "outputs": [],
      "source": [
        "df.select('CRM_ATPT_CPTD_CD').distinct().show()"
      ]
    },
    {
      "cell_type": "code",
      "execution_count": null,
      "metadata": {
        "id": "_K_7XHFjD1ZI"
      },
      "outputs": [],
      "source": [
        "# similar to pandas' value_counts\n",
        "df.groupBy('CRM_ATPT_CPTD_CD').count().orderBy('count', ascending=False).show()"
      ]
    },
    {
      "cell_type": "code",
      "execution_count": null,
      "metadata": {
        "id": "Y3TdQMPuGJup"
      },
      "outputs": [],
      "source": [
        "df.filter(df.CRM_ATPT_CPTD_CD.isNull()).show()"
      ]
    },
    {
      "cell_type": "code",
      "execution_count": null,
      "metadata": {
        "id": "4tSswxvLFhqd"
      },
      "outputs": [],
      "source": [
        "df = df.filter(df.CRM_ATPT_CPTD_CD.isNotNull())"
      ]
    },
    {
      "cell_type": "code",
      "execution_count": null,
      "metadata": {
        "id": "lkZeVnh4-ta4"
      },
      "outputs": [],
      "source": [
        "df.count()"
      ]
    },
    {
      "cell_type": "markdown",
      "metadata": {
        "id": "yrZc_yocN8wq"
      },
      "source": [
        "#### We can see that all the key codes are valid 3-digit numbers"
      ]
    },
    {
      "cell_type": "code",
      "execution_count": null,
      "metadata": {
        "id": "LpMZbUBasZQa"
      },
      "outputs": [],
      "source": [
        "df.filter((df.KY_CD < 100) | (df.KY_CD > 999)).count()"
      ]
    },
    {
      "cell_type": "markdown",
      "metadata": {
        "id": "2yoI3xH_tbtM"
      },
      "source": [
        "## Defining checks for outliers in age group"
      ]
    },
    {
      "cell_type": "code",
      "execution_count": null,
      "metadata": {
        "id": "DPf0c3XRtMth"
      },
      "outputs": [],
      "source": [
        "df.select('SUSP_AGE_GROUP').distinct().show()"
      ]
    },
    {
      "cell_type": "markdown",
      "metadata": {
        "id": "PupPgsepOcUV"
      },
      "source": [
        "#### There are many invalid age groups like negative values, unrealistically high age groups, etc.\n",
        "\n",
        "#### Lets find all the invalid age groups and replace them with `NaN`"
      ]
    },
    {
      "cell_type": "code",
      "execution_count": null,
      "metadata": {
        "id": "4PZeQuUBtmaT",
        "colab": {
          "base_uri": "https://localhost:8080/"
        },
        "outputId": "229a89b7-9ab1-4997-ec15-8317a5ebcfeb"
      },
      "outputs": [
        {
          "output_type": "stream",
          "name": "stdout",
          "text": [
            "+----------+------------+------------+------------+------------+-----------+----------+-----+--------------------+-----+--------------------+----------------+-----------+-------------+-----------------+--------------------+-------------------+-----------------+--------+----------+-----------+--------------+--------------------+--------+----------------+--------------------+--------------------+------------+-------------+--------------------+-------+\n",
            "|CMPLNT_NUM|CMPLNT_FR_DT|CMPLNT_FR_TM|CMPLNT_TO_DT|CMPLNT_TO_TM|ADDR_PCT_CD|    RPT_DT|KY_CD|           OFNS_DESC|PD_CD|             PD_DESC|CRM_ATPT_CPTD_CD| LAW_CAT_CD|      BORO_NM|LOC_OF_OCCUR_DESC|       PREM_TYP_DESC|         JURIS_DESC|JURISDICTION_CODE|PARKS_NM|HADEVELOPT|HOUSING_PSA|SUSP_AGE_GROUP|           SUSP_RACE|SUSP_SEX|TRANSIT_DISTRICT|             Lat_Lon|         PATROL_BORO|STATION_NAME|VIC_AGE_GROUP|            VIC_RACE|VIC_SEX|\n",
            "+----------+------------+------------+------------+------------+-----------+----------+-----+--------------------+-----+--------------------+----------------+-----------+-------------+-----------------+--------------------+-------------------+-----------------+--------+----------+-----------+--------------+--------------------+--------+----------------+--------------------+--------------------+------------+-------------+--------------------+-------+\n",
            "| 725376861|  2019-04-12|    00:00:00|  06/11/2019|    23:59:00|        110|06/28/2019|  109|       GRAND LARCENY|  424|LARCENY,GRAND BY ...|       COMPLETED|     FELONY|       QUEENS|           INSIDE|     RESIDENCE-HOUSE|   N.Y. POLICE DEPT|                0|    null|      null|       null|           NaN|                null|    null|            null|(40.7405001150000...|PATROL BORO QUEEN...|        null|        45-64|ASIAN / PACIFIC I...|      F|\n",
            "| 370244435|  2019-06-28|    00:00:00|  06/29/2019|    21:00:00|          5|07/01/2019|  341|       PETIT LARCENY|  338|LARCENY,PETIT FRO...|       COMPLETED|MISDEMEANOR|    MANHATTAN|           INSIDE|         HOTEL/MOTEL|   N.Y. POLICE DEPT|                0|    null|      null|       null|           NaN|                null|    null|            null|(40.7178756320000...|PATROL BORO MAN S...|        null|        25-44|ASIAN / PACIFIC I...|      F|\n",
            "| 880330575|  2019-09-30|    00:00:00|  10/01/2019|    23:59:00|         83|10/23/2019|  112|         THEFT-FRAUD|  739|FRAUD,UNCLASSIFIE...|       COMPLETED|     FELONY|     BROOKLYN|           INSIDE|RESIDENCE - APT. ...|   N.Y. POLICE DEPT|                0|    null|      null|       null|           NaN|                null|    null|            null|(40.6894409620000...|PATROL BORO BKLYN...|        null|        18-24|               BLACK|      F|\n",
            "| 613627146|  2019-10-29|    00:00:00|  10/29/2019|    07:00:00|         67|10/29/2019|  109|       GRAND LARCENY|  421|LARCENY,GRAND FRO...|       COMPLETED|     FELONY|     BROOKLYN|           INSIDE|RESIDENCE - APT. ...|   N.Y. POLICE DEPT|                0|    null|      null|       null|           NaN|                null|    null|            null|(40.6376247160000...|PATROL BORO BKLYN...|        null|        18-24|               BLACK|      M|\n",
            "| 818330980|  2019-03-01|    00:00:00|  04/27/2019|    06:00:00|         63|04/30/2019|  351|CRIMINAL MISCHIEF...|  258|CRIMINAL MISCHIEF...|       COMPLETED|MISDEMEANOR|     BROOKLYN|             null|               OTHER|   N.Y. POLICE DEPT|                0|    null|      null|       null|           NaN|                null|    null|            null|(40.6082136860000...|PATROL BORO BKLYN...|        null|      UNKNOWN|             UNKNOWN|      E|\n",
            "| 746845448|  2019-05-07|    00:00:00|  05/07/2019|    09:40:00|         13|05/07/2019|  351|CRIMINAL MISCHIEF...|  258|CRIMINAL MISCHIEF...|       COMPLETED|MISDEMEANOR|    MANHATTAN|         FRONT OF| COMMERCIAL BUILDING|   N.Y. POLICE DEPT|                0|    null|      null|       null|           NaN|                null|    null|            null|(40.7419360830000...|PATROL BORO MAN S...|        null|      UNKNOWN|             UNKNOWN|      E|\n",
            "| 248773668|  2019-05-18|    00:00:00|  05/18/2019|    16:10:00|        123|05/18/2019|  351|CRIMINAL MISCHIEF...|  258|CRIMINAL MISCHIEF...|       COMPLETED|MISDEMEANOR|STATEN ISLAND|             null|               OTHER|   N.Y. POLICE DEPT|                0|    null|      null|       null|           NaN|                null|    null|            null|(40.5284924000000...|PATROL BORO STATE...|        null|      UNKNOWN|             UNKNOWN|      E|\n",
            "| 316734229|  2019-07-10|    00:00:00|  07/10/2019|    16:00:00|         13|07/10/2019|  351|CRIMINAL MISCHIEF...|  258|CRIMINAL MISCHIEF...|       COMPLETED|MISDEMEANOR|    MANHATTAN|         FRONT OF|RESIDENCE - APT. ...|   N.Y. POLICE DEPT|                0|    null|      null|       null|           NaN|                null|    null|            null|(40.7407156540000...|PATROL BORO MAN S...|        null|      UNKNOWN|             UNKNOWN|      E|\n",
            "| 420272826|  2019-07-01|    00:00:00|  07/19/2019|    00:00:00|         75|07/19/2019|  351|CRIMINAL MISCHIEF...|  258|CRIMINAL MISCHIEF...|       COMPLETED|MISDEMEANOR|     BROOKLYN|         FRONT OF| COMMERCIAL BUILDING|   N.Y. POLICE DEPT|                0|    null|      null|       null|           NaN|                null|    null|            null|(40.6614876920000...|PATROL BORO BKLYN...|        null|      UNKNOWN|             UNKNOWN|      D|\n",
            "| 713844309|  2019-07-19|    00:00:00|        null|        null|         52|07/19/2019|  351|CRIMINAL MISCHIEF...|  258|CRIMINAL MISCHIEF...|       COMPLETED|MISDEMEANOR|        BRONX|         FRONT OF|      GROCERY/BODEGA|   N.Y. POLICE DEPT|                0|    null|      null|       null|           NaN|                null|    null|            null|(40.8668291740000...|   PATROL BORO BRONX|        null|      UNKNOWN|             UNKNOWN|      E|\n",
            "| 782404231|  2019-09-21|    00:00:00|  09/21/2019|    16:00:00|         43|09/21/2019|  351|CRIMINAL MISCHIEF...|  258|CRIMINAL MISCHIEF...|       COMPLETED|MISDEMEANOR|        BRONX|           INSIDE|RESIDENCE - APT. ...|   N.Y. POLICE DEPT|                0|    null|      null|       null|           NaN|                null|    null|            null|(40.8312419890000...|   PATROL BORO BRONX|        null|      UNKNOWN|             UNKNOWN|      D|\n",
            "| 231920469|  2019-03-20|    00:00:00|  03/20/2019|    01:30:00|         18|03/20/2019|  109|       GRAND LARCENY|  438|LARCENY,GRAND FRO...|       COMPLETED|     FELONY|    MANHATTAN|           INSIDE|         HOTEL/MOTEL|   N.Y. POLICE DEPT|                0|    null|      null|       null|           NaN|      BLACK HISPANIC|       F|            null|(40.7620917460000...|PATROL BORO MAN S...|        null|        45-64|ASIAN / PACIFIC I...|      M|\n",
            "| 154971112|  2019-03-16|    00:00:00|  03/16/2019|    00:10:00|        113|03/16/2019|  106|      FELONY ASSAULT|  109|ASSAULT 2,1,UNCLA...|       COMPLETED|     FELONY|       QUEENS|         FRONT OF|              STREET|   N.Y. POLICE DEPT|                0|    null|      null|       null|         18-24|               BLACK|       F|            null|(40.6835239570000...|PATROL BORO QUEEN...|        null|        18-24|               BLACK|      M|\n",
            "| 857979550|  2019-11-25|    00:00:00|  11/25/2019|    08:00:00|         10|11/25/2019|  344|ASSAULT 3 & RELAT...|  101|           ASSAULT 3|       COMPLETED|MISDEMEANOR|    MANHATTAN|           INSIDE|RESIDENCE - APT. ...|   N.Y. POLICE DEPT|                0|    null|      null|       null|         25-44|ASIAN / PACIFIC I...|       F|            null|(40.7614047600000...|PATROL BORO MAN S...|        null|      UNKNOWN|             UNKNOWN|      M|\n",
            "| 537728710|  2019-06-08|    00:00:00|  06/08/2019|    00:03:00|         77|06/08/2019|  578|       HARRASSMENT 2|  637|HARASSMENT,SUBD 1...|       COMPLETED|  VIOLATION|     BROOKLYN|         FRONT OF|RESIDENCE - APT. ...|   N.Y. POLICE DEPT|                0|    null|      null|       null|         25-44|               BLACK|       F|            null|(40.6793273790000...|PATROL BORO BKLYN...|        null|        25-44|      WHITE HISPANIC|      F|\n",
            "| 225393166|  2019-06-23|    00:00:00|  06/23/2019|    00:10:00|         32|06/23/2019|  344|ASSAULT 3 & RELAT...|  101|           ASSAULT 3|       COMPLETED|MISDEMEANOR|    MANHATTAN|             null|              STREET|   N.Y. POLICE DEPT|                0|    null|      null|       null|           NaN|               BLACK|       F|            null|(40.8122090320000...|PATROL BORO MAN N...|        null|        25-44|      WHITE HISPANIC|      F|\n",
            "| 478085458|  2019-03-17|    00:00:00|  03/17/2019|    18:00:00|         63|03/17/2019|  233|          SEX CRIMES|  681|CHILD, ENDANGERIN...|       COMPLETED|MISDEMEANOR|     BROOKLYN|           INSIDE|     RESIDENCE-HOUSE|   N.Y. POLICE DEPT|                0|    null|      null|       null|         25-44|               BLACK|       M|            null|(40.6279777550000...|PATROL BORO BKLYN...|        null|          <18|               BLACK|      M|\n",
            "| 234266084|  2019-03-21|    00:00:00|        null|        null|         28|03/21/2019|  359|OFFENSES AGAINST ...|  748|   CONTEMPT,CRIMINAL|       COMPLETED|MISDEMEANOR|    MANHATTAN|           INSIDE|RESIDENCE - APT. ...|   N.Y. POLICE DEPT|                0|    null|      null|       null|         25-44|               BLACK|       M|            null|(40.8023368530000...|PATROL BORO MAN N...|        null|          65+|               BLACK|      F|\n",
            "| 876889198|  2019-03-30|    00:00:00|  03/30/2019|    09:00:00|         28|03/30/2019|  341|       PETIT LARCENY|  338|LARCENY,PETIT FRO...|       COMPLETED|MISDEMEANOR|    MANHATTAN|           INSIDE|RESIDENCE - APT. ...|   N.Y. POLICE DEPT|                0|    null|      null|       null|         18-24|      BLACK HISPANIC|       M|            null|(40.8077603780000...|PATROL BORO MAN N...|        null|        18-24|               BLACK|      F|\n",
            "| 486137412|  2019-03-30|    00:00:00|  04/01/2019|    00:00:00|         49|04/03/2019|  361|OFF. AGNST PUB OR...|  639|AGGRAVATED HARASS...|       COMPLETED|MISDEMEANOR|        BRONX|           INSIDE|RESIDENCE - PUBLI...|N.Y. HOUSING POLICE|                2|    null|  PARKSIDE|    34805.0|         25-44|               BLACK|       M|            null|(40.8696889320000...|   PATROL BORO BRONX|        null|        25-44|               BLACK|      F|\n",
            "+----------+------------+------------+------------+------------+-----------+----------+-----+--------------------+-----+--------------------+----------------+-----------+-------------+-----------------+--------------------+-------------------+-----------------+--------+----------+-----------+--------------+--------------------+--------+----------------+--------------------+--------------------+------------+-------------+--------------------+-------+\n",
            "only showing top 20 rows\n",
            "\n"
          ]
        }
      ],
      "source": [
        "valid_age_groups = ['<18','18-24','25-44','45-64','65+',np.NaN]\n",
        "df = df.withColumn('SUSP_AGE_GROUP', when(df.SUSP_AGE_GROUP.isin(valid_age_groups), df.SUSP_AGE_GROUP).otherwise(np.NaN))\n",
        "df.show()"
      ]
    },
    {
      "cell_type": "code",
      "execution_count": null,
      "metadata": {
        "id": "Y4_Sm8jySwhZ"
      },
      "outputs": [],
      "source": [
        "df.select('SUSP_AGE_GROUP').distinct().show()"
      ]
    },
    {
      "cell_type": "code",
      "execution_count": null,
      "metadata": {
        "id": "JkZU28TmbL-X"
      },
      "outputs": [],
      "source": [
        "df.show(n=5)"
      ]
    },
    {
      "cell_type": "code",
      "execution_count": null,
      "metadata": {
        "id": "0jWTxrnVdZ4Q"
      },
      "outputs": [],
      "source": [
        "df.select('VIC_AGE_GROUP').distinct().show()"
      ]
    },
    {
      "cell_type": "markdown",
      "metadata": {
        "id": "oZa1lwP7divX"
      },
      "source": [
        "#### There are many invalid age groups like negative values, unrealistically high age groups, etc.\n",
        "\n",
        "#### Lets find all the invalid age groups and replace them with `NaN`"
      ]
    },
    {
      "cell_type": "code",
      "execution_count": null,
      "metadata": {
        "id": "EEIrpMI0djtP",
        "colab": {
          "base_uri": "https://localhost:8080/"
        },
        "outputId": "76f221bc-2fe5-4643-ed37-fdb06884c242"
      },
      "outputs": [
        {
          "output_type": "stream",
          "name": "stdout",
          "text": [
            "+----------+------------+------------+------------+------------+-----------+----------+-----+--------------------+-----+--------------------+----------------+-----------+-------------+-----------------+--------------------+-------------------+-----------------+--------+----------+-----------+--------------+--------------------+--------+----------------+--------------------+--------------------+------------+-------------+--------------------+-------+\n",
            "|CMPLNT_NUM|CMPLNT_FR_DT|CMPLNT_FR_TM|CMPLNT_TO_DT|CMPLNT_TO_TM|ADDR_PCT_CD|    RPT_DT|KY_CD|           OFNS_DESC|PD_CD|             PD_DESC|CRM_ATPT_CPTD_CD| LAW_CAT_CD|      BORO_NM|LOC_OF_OCCUR_DESC|       PREM_TYP_DESC|         JURIS_DESC|JURISDICTION_CODE|PARKS_NM|HADEVELOPT|HOUSING_PSA|SUSP_AGE_GROUP|           SUSP_RACE|SUSP_SEX|TRANSIT_DISTRICT|             Lat_Lon|         PATROL_BORO|STATION_NAME|VIC_AGE_GROUP|            VIC_RACE|VIC_SEX|\n",
            "+----------+------------+------------+------------+------------+-----------+----------+-----+--------------------+-----+--------------------+----------------+-----------+-------------+-----------------+--------------------+-------------------+-----------------+--------+----------+-----------+--------------+--------------------+--------+----------------+--------------------+--------------------+------------+-------------+--------------------+-------+\n",
            "| 725376861|  2019-04-12|    00:00:00|  06/11/2019|    23:59:00|        110|06/28/2019|  109|       GRAND LARCENY|  424|LARCENY,GRAND BY ...|       COMPLETED|     FELONY|       QUEENS|           INSIDE|     RESIDENCE-HOUSE|   N.Y. POLICE DEPT|                0|    null|      null|       null|           NaN|                null|    null|            null|(40.7405001150000...|PATROL BORO QUEEN...|        null|        45-64|ASIAN / PACIFIC I...|      F|\n",
            "| 370244435|  2019-06-28|    00:00:00|  06/29/2019|    21:00:00|          5|07/01/2019|  341|       PETIT LARCENY|  338|LARCENY,PETIT FRO...|       COMPLETED|MISDEMEANOR|    MANHATTAN|           INSIDE|         HOTEL/MOTEL|   N.Y. POLICE DEPT|                0|    null|      null|       null|           NaN|                null|    null|            null|(40.7178756320000...|PATROL BORO MAN S...|        null|        25-44|ASIAN / PACIFIC I...|      F|\n",
            "| 880330575|  2019-09-30|    00:00:00|  10/01/2019|    23:59:00|         83|10/23/2019|  112|         THEFT-FRAUD|  739|FRAUD,UNCLASSIFIE...|       COMPLETED|     FELONY|     BROOKLYN|           INSIDE|RESIDENCE - APT. ...|   N.Y. POLICE DEPT|                0|    null|      null|       null|           NaN|                null|    null|            null|(40.6894409620000...|PATROL BORO BKLYN...|        null|        18-24|               BLACK|      F|\n",
            "| 613627146|  2019-10-29|    00:00:00|  10/29/2019|    07:00:00|         67|10/29/2019|  109|       GRAND LARCENY|  421|LARCENY,GRAND FRO...|       COMPLETED|     FELONY|     BROOKLYN|           INSIDE|RESIDENCE - APT. ...|   N.Y. POLICE DEPT|                0|    null|      null|       null|           NaN|                null|    null|            null|(40.6376247160000...|PATROL BORO BKLYN...|        null|        18-24|               BLACK|      M|\n",
            "| 818330980|  2019-03-01|    00:00:00|  04/27/2019|    06:00:00|         63|04/30/2019|  351|CRIMINAL MISCHIEF...|  258|CRIMINAL MISCHIEF...|       COMPLETED|MISDEMEANOR|     BROOKLYN|             null|               OTHER|   N.Y. POLICE DEPT|                0|    null|      null|       null|           NaN|                null|    null|            null|(40.6082136860000...|PATROL BORO BKLYN...|        null|          NaN|             UNKNOWN|      E|\n",
            "| 746845448|  2019-05-07|    00:00:00|  05/07/2019|    09:40:00|         13|05/07/2019|  351|CRIMINAL MISCHIEF...|  258|CRIMINAL MISCHIEF...|       COMPLETED|MISDEMEANOR|    MANHATTAN|         FRONT OF| COMMERCIAL BUILDING|   N.Y. POLICE DEPT|                0|    null|      null|       null|           NaN|                null|    null|            null|(40.7419360830000...|PATROL BORO MAN S...|        null|          NaN|             UNKNOWN|      E|\n",
            "| 248773668|  2019-05-18|    00:00:00|  05/18/2019|    16:10:00|        123|05/18/2019|  351|CRIMINAL MISCHIEF...|  258|CRIMINAL MISCHIEF...|       COMPLETED|MISDEMEANOR|STATEN ISLAND|             null|               OTHER|   N.Y. POLICE DEPT|                0|    null|      null|       null|           NaN|                null|    null|            null|(40.5284924000000...|PATROL BORO STATE...|        null|          NaN|             UNKNOWN|      E|\n",
            "| 316734229|  2019-07-10|    00:00:00|  07/10/2019|    16:00:00|         13|07/10/2019|  351|CRIMINAL MISCHIEF...|  258|CRIMINAL MISCHIEF...|       COMPLETED|MISDEMEANOR|    MANHATTAN|         FRONT OF|RESIDENCE - APT. ...|   N.Y. POLICE DEPT|                0|    null|      null|       null|           NaN|                null|    null|            null|(40.7407156540000...|PATROL BORO MAN S...|        null|          NaN|             UNKNOWN|      E|\n",
            "| 420272826|  2019-07-01|    00:00:00|  07/19/2019|    00:00:00|         75|07/19/2019|  351|CRIMINAL MISCHIEF...|  258|CRIMINAL MISCHIEF...|       COMPLETED|MISDEMEANOR|     BROOKLYN|         FRONT OF| COMMERCIAL BUILDING|   N.Y. POLICE DEPT|                0|    null|      null|       null|           NaN|                null|    null|            null|(40.6614876920000...|PATROL BORO BKLYN...|        null|          NaN|             UNKNOWN|      D|\n",
            "| 713844309|  2019-07-19|    00:00:00|        null|        null|         52|07/19/2019|  351|CRIMINAL MISCHIEF...|  258|CRIMINAL MISCHIEF...|       COMPLETED|MISDEMEANOR|        BRONX|         FRONT OF|      GROCERY/BODEGA|   N.Y. POLICE DEPT|                0|    null|      null|       null|           NaN|                null|    null|            null|(40.8668291740000...|   PATROL BORO BRONX|        null|          NaN|             UNKNOWN|      E|\n",
            "| 782404231|  2019-09-21|    00:00:00|  09/21/2019|    16:00:00|         43|09/21/2019|  351|CRIMINAL MISCHIEF...|  258|CRIMINAL MISCHIEF...|       COMPLETED|MISDEMEANOR|        BRONX|           INSIDE|RESIDENCE - APT. ...|   N.Y. POLICE DEPT|                0|    null|      null|       null|           NaN|                null|    null|            null|(40.8312419890000...|   PATROL BORO BRONX|        null|          NaN|             UNKNOWN|      D|\n",
            "| 231920469|  2019-03-20|    00:00:00|  03/20/2019|    01:30:00|         18|03/20/2019|  109|       GRAND LARCENY|  438|LARCENY,GRAND FRO...|       COMPLETED|     FELONY|    MANHATTAN|           INSIDE|         HOTEL/MOTEL|   N.Y. POLICE DEPT|                0|    null|      null|       null|           NaN|      BLACK HISPANIC|       F|            null|(40.7620917460000...|PATROL BORO MAN S...|        null|        45-64|ASIAN / PACIFIC I...|      M|\n",
            "| 154971112|  2019-03-16|    00:00:00|  03/16/2019|    00:10:00|        113|03/16/2019|  106|      FELONY ASSAULT|  109|ASSAULT 2,1,UNCLA...|       COMPLETED|     FELONY|       QUEENS|         FRONT OF|              STREET|   N.Y. POLICE DEPT|                0|    null|      null|       null|         18-24|               BLACK|       F|            null|(40.6835239570000...|PATROL BORO QUEEN...|        null|        18-24|               BLACK|      M|\n",
            "| 857979550|  2019-11-25|    00:00:00|  11/25/2019|    08:00:00|         10|11/25/2019|  344|ASSAULT 3 & RELAT...|  101|           ASSAULT 3|       COMPLETED|MISDEMEANOR|    MANHATTAN|           INSIDE|RESIDENCE - APT. ...|   N.Y. POLICE DEPT|                0|    null|      null|       null|         25-44|ASIAN / PACIFIC I...|       F|            null|(40.7614047600000...|PATROL BORO MAN S...|        null|          NaN|             UNKNOWN|      M|\n",
            "| 537728710|  2019-06-08|    00:00:00|  06/08/2019|    00:03:00|         77|06/08/2019|  578|       HARRASSMENT 2|  637|HARASSMENT,SUBD 1...|       COMPLETED|  VIOLATION|     BROOKLYN|         FRONT OF|RESIDENCE - APT. ...|   N.Y. POLICE DEPT|                0|    null|      null|       null|         25-44|               BLACK|       F|            null|(40.6793273790000...|PATROL BORO BKLYN...|        null|        25-44|      WHITE HISPANIC|      F|\n",
            "| 225393166|  2019-06-23|    00:00:00|  06/23/2019|    00:10:00|         32|06/23/2019|  344|ASSAULT 3 & RELAT...|  101|           ASSAULT 3|       COMPLETED|MISDEMEANOR|    MANHATTAN|             null|              STREET|   N.Y. POLICE DEPT|                0|    null|      null|       null|           NaN|               BLACK|       F|            null|(40.8122090320000...|PATROL BORO MAN N...|        null|        25-44|      WHITE HISPANIC|      F|\n",
            "| 478085458|  2019-03-17|    00:00:00|  03/17/2019|    18:00:00|         63|03/17/2019|  233|          SEX CRIMES|  681|CHILD, ENDANGERIN...|       COMPLETED|MISDEMEANOR|     BROOKLYN|           INSIDE|     RESIDENCE-HOUSE|   N.Y. POLICE DEPT|                0|    null|      null|       null|         25-44|               BLACK|       M|            null|(40.6279777550000...|PATROL BORO BKLYN...|        null|          <18|               BLACK|      M|\n",
            "| 234266084|  2019-03-21|    00:00:00|        null|        null|         28|03/21/2019|  359|OFFENSES AGAINST ...|  748|   CONTEMPT,CRIMINAL|       COMPLETED|MISDEMEANOR|    MANHATTAN|           INSIDE|RESIDENCE - APT. ...|   N.Y. POLICE DEPT|                0|    null|      null|       null|         25-44|               BLACK|       M|            null|(40.8023368530000...|PATROL BORO MAN N...|        null|          65+|               BLACK|      F|\n",
            "| 876889198|  2019-03-30|    00:00:00|  03/30/2019|    09:00:00|         28|03/30/2019|  341|       PETIT LARCENY|  338|LARCENY,PETIT FRO...|       COMPLETED|MISDEMEANOR|    MANHATTAN|           INSIDE|RESIDENCE - APT. ...|   N.Y. POLICE DEPT|                0|    null|      null|       null|         18-24|      BLACK HISPANIC|       M|            null|(40.8077603780000...|PATROL BORO MAN N...|        null|        18-24|               BLACK|      F|\n",
            "| 486137412|  2019-03-30|    00:00:00|  04/01/2019|    00:00:00|         49|04/03/2019|  361|OFF. AGNST PUB OR...|  639|AGGRAVATED HARASS...|       COMPLETED|MISDEMEANOR|        BRONX|           INSIDE|RESIDENCE - PUBLI...|N.Y. HOUSING POLICE|                2|    null|  PARKSIDE|    34805.0|         25-44|               BLACK|       M|            null|(40.8696889320000...|   PATROL BORO BRONX|        null|        25-44|               BLACK|      F|\n",
            "+----------+------------+------------+------------+------------+-----------+----------+-----+--------------------+-----+--------------------+----------------+-----------+-------------+-----------------+--------------------+-------------------+-----------------+--------+----------+-----------+--------------+--------------------+--------+----------------+--------------------+--------------------+------------+-------------+--------------------+-------+\n",
            "only showing top 20 rows\n",
            "\n"
          ]
        }
      ],
      "source": [
        "valid_age_groups = ['<18','18-24','25-44','45-64','65+',np.NaN]\n",
        "df = df.withColumn('VIC_AGE_GROUP', when(df.VIC_AGE_GROUP.isin(valid_age_groups), df.VIC_AGE_GROUP).otherwise(np.NaN))\n",
        "df.show()"
      ]
    },
    {
      "cell_type": "code",
      "execution_count": null,
      "metadata": {
        "id": "rY0e7MKMdpBb"
      },
      "outputs": [],
      "source": [
        "df.select('VIC_AGE_GROUP').distinct().show()"
      ]
    },
    {
      "cell_type": "code",
      "execution_count": null,
      "metadata": {
        "id": "525Nar0QeH1e"
      },
      "outputs": [],
      "source": [
        "df.show(n=5)"
      ]
    },
    {
      "cell_type": "markdown",
      "metadata": {
        "id": "9C5Wbu2Hrb4m"
      },
      "source": [
        "### Check for Race Values "
      ]
    },
    {
      "cell_type": "code",
      "execution_count": null,
      "metadata": {
        "id": "mGZ6lAHAoC7m"
      },
      "outputs": [],
      "source": [
        "df.select('SUSP_RACE').distinct().show()"
      ]
    },
    {
      "cell_type": "markdown",
      "metadata": {
        "id": "zL4B-B4f2fp2"
      },
      "source": [
        "#### Replace all `UNKNOWN` values with `NaN`"
      ]
    },
    {
      "cell_type": "code",
      "execution_count": null,
      "metadata": {
        "id": "lC0bTJYj2W2Q"
      },
      "outputs": [],
      "source": [
        "from pyspark.sql.functions import regexp_replace\n",
        "\n",
        "df = df.withColumn(\"SUSP_RACE\",\n",
        "  regexp_replace(\"SUSP_RACE\", \"UNKNOWN\", \"NaN\"))"
      ]
    },
    {
      "cell_type": "markdown",
      "source": [
        "-----------------------------------------------------------------------\n",
        "# 5.  EXTRA CREDIT COMMENT:\n",
        "\n",
        "**Suggestion for improvement**:\n",
        "\n",
        "Here, NaN values could have been renamed as 'Unknown' Values as there is already a class called 'Unknown'.\n",
        "\n",
        "------------------------------------------------------------------------"
      ],
      "metadata": {
        "id": "kH9z6rmVyD8n"
      }
    },
    {
      "cell_type": "markdown",
      "source": [
        "**"
      ],
      "metadata": {
        "id": "6jsnCX6IyqGX"
      }
    },
    {
      "cell_type": "markdown",
      "source": [
        "**"
      ],
      "metadata": {
        "id": "Fe_9oG7cyp8Q"
      }
    },
    {
      "cell_type": "code",
      "execution_count": null,
      "metadata": {
        "id": "Lz15zl4N8e5l"
      },
      "outputs": [],
      "source": [
        "df.show(100)"
      ]
    },
    {
      "cell_type": "code",
      "execution_count": null,
      "metadata": {
        "id": "r-IkJsOz2b5V"
      },
      "outputs": [],
      "source": [
        "df.select('SUSP_RACE').distinct().show()"
      ]
    },
    {
      "cell_type": "code",
      "execution_count": null,
      "metadata": {
        "id": "onrUAeaeosWl"
      },
      "outputs": [],
      "source": [
        "df.select('VIC_RACE').distinct().show()"
      ]
    },
    {
      "cell_type": "code",
      "execution_count": null,
      "metadata": {
        "id": "rFoikiAB1x3V"
      },
      "outputs": [],
      "source": [
        "from pyspark.sql.functions import regexp_replace\n",
        "\n",
        "df = df.withColumn(\"VIC_RACE\",\n",
        "  regexp_replace(\"VIC_RACE\", \"UNKNOWN\", \"NaN\"))"
      ]
    },
    {
      "cell_type": "markdown",
      "source": [
        "-----------------------------------------------------------------------\n",
        "# 6.  EXTRA CREDIT COMMENT:\n",
        "\n",
        "**Suggestion for improvement**:\n",
        "\n",
        "Similar to the previous comment, here, NaN values could have been renamed as 'Unknown' Values as there is already a class called 'Unknown'.\n",
        "\n",
        "------------------------------------------------------------------------"
      ],
      "metadata": {
        "id": "IhNhOBbry0cP"
      }
    },
    {
      "cell_type": "markdown",
      "source": [
        "**"
      ],
      "metadata": {
        "id": "NQwiKBk7y0Qx"
      }
    },
    {
      "cell_type": "markdown",
      "source": [
        "**"
      ],
      "metadata": {
        "id": "Zz7Qf2sky0Iv"
      }
    },
    {
      "cell_type": "code",
      "execution_count": null,
      "metadata": {
        "id": "0RaNG8Wk2vQE"
      },
      "outputs": [],
      "source": [
        "df.select('VIC_RACE').distinct().show()"
      ]
    },
    {
      "cell_type": "markdown",
      "metadata": {
        "id": "9BlHN7RN20P1"
      },
      "source": [
        "### Checks for Suspect & Victim Sex"
      ]
    },
    {
      "cell_type": "code",
      "execution_count": null,
      "metadata": {
        "id": "zsjPnhTAGxNj"
      },
      "outputs": [],
      "source": [
        "df.select('SUSP_SEX').distinct().show()"
      ]
    },
    {
      "cell_type": "markdown",
      "metadata": {
        "id": "GZBTi4BWTtiO"
      },
      "source": [
        "#### Checking values in suspect sex"
      ]
    },
    {
      "cell_type": "code",
      "execution_count": null,
      "metadata": {
        "id": "kTb_dCZlDlHN"
      },
      "outputs": [],
      "source": [
        "df.groupBy('SUSP_SEX').count().orderBy('count', ascending=False).show()"
      ]
    },
    {
      "cell_type": "code",
      "execution_count": null,
      "metadata": {
        "id": "8qyhrbbuGqaW"
      },
      "outputs": [],
      "source": [
        "df.select('VIC_SEX').distinct().show()"
      ]
    },
    {
      "cell_type": "code",
      "execution_count": null,
      "metadata": {
        "id": "wqIIB5niHER9"
      },
      "outputs": [],
      "source": [
        "df.groupBy('VIC_SEX').count().orderBy('count', ascending=False).show()"
      ]
    },
    {
      "cell_type": "markdown",
      "metadata": {
        "id": "u50lhakET780"
      },
      "source": [
        "#### Get unique values of offense description in sorted order"
      ]
    },
    {
      "cell_type": "code",
      "execution_count": null,
      "metadata": {
        "id": "P22KLvXgf5qs"
      },
      "outputs": [],
      "source": [
        "df.select('OFNS_DESC').distinct().orderBy('OFNS_DESC', ascending=True).show()"
      ]
    },
    {
      "cell_type": "markdown",
      "metadata": {
        "id": "oXST8FTeUGgZ"
      },
      "source": [
        "#### Getting Total Count of Offense Description"
      ]
    },
    {
      "cell_type": "code",
      "execution_count": null,
      "metadata": {
        "id": "S7qj-jmIMCWL"
      },
      "outputs": [],
      "source": [
        "df.select('OFNS_DESC').distinct().count()"
      ]
    },
    {
      "cell_type": "code",
      "execution_count": null,
      "metadata": {
        "id": "feQGTHyyqflL"
      },
      "outputs": [],
      "source": [
        "df.groupBy('OFNS_DESC').count().show()"
      ]
    },
    {
      "cell_type": "markdown",
      "metadata": {
        "id": "a_22p8gNUWwK"
      },
      "source": [
        "**Map Key Codes with Offense Description**"
      ]
    },
    {
      "cell_type": "code",
      "execution_count": null,
      "metadata": {
        "id": "F43lcNe1jCIP"
      },
      "outputs": [],
      "source": [
        "key_off_mapping = df.groupBy('KY_CD').agg(collect_set('OFNS_DESC').alias('OFNS_DESCS')).orderBy('KY_CD')\n",
        "key_off_mapping.show()"
      ]
    },
    {
      "cell_type": "code",
      "execution_count": null,
      "metadata": {
        "id": "T-uGRES6yApb"
      },
      "outputs": [],
      "source": [
        "key_off_mapping.count()"
      ]
    },
    {
      "cell_type": "code",
      "execution_count": null,
      "metadata": {
        "id": "_iGrOfh5C-bd"
      },
      "outputs": [],
      "source": [
        "df.select('KY_CD').distinct().count()"
      ]
    },
    {
      "cell_type": "markdown",
      "metadata": {
        "id": "XcrKWfruKlJI"
      },
      "source": [
        "### Functional Dependency Violation for OFNS_DESC & KY_CD"
      ]
    },
    {
      "cell_type": "code",
      "execution_count": null,
      "metadata": {
        "id": "M_2VjTBJYXdG"
      },
      "outputs": [],
      "source": [
        "ofns_key = ds.to_df()"
      ]
    },
    {
      "cell_type": "code",
      "execution_count": null,
      "metadata": {
        "id": "XpVgZu-X-jSs"
      },
      "outputs": [],
      "source": [
        "from openclean.operator.map.violations import fd_violations\n",
        "from openclean.operator.collector.count import distinct\n",
        "\n",
        "fd2_violations = fd_violations(ofns_key, ['KY_CD'], ['OFNS_DESC'])\n",
        "\n",
        "print('# of violations for FD(KY_CD -> OFNS_DESC) is {}\\n'.format(len(fd2_violations)))\n",
        "for key, gr in fd2_violations.items():\n",
        "    print(gr[['KY_CD', 'OFNS_DESC']])"
      ]
    },
    {
      "cell_type": "markdown",
      "source": [
        "-----------------------------------------------------------------------\n",
        "# 7.  EXTRA CREDIT COMMENT:\n",
        "We experienced RAM crash\n",
        "\n",
        "**Suggestion for improvement**:\n",
        "\n",
        "Use PySpark instead of OpenClean\n",
        "\n",
        "------------------------------------------------------------------------"
      ],
      "metadata": {
        "id": "3-VD0S8ZzPzH"
      }
    },
    {
      "cell_type": "markdown",
      "source": [
        "**"
      ],
      "metadata": {
        "id": "k0LsxRA6zPrn"
      }
    },
    {
      "cell_type": "markdown",
      "source": [
        "**"
      ],
      "metadata": {
        "id": "VRubzhu6zPlI"
      }
    },
    {
      "cell_type": "code",
      "execution_count": null,
      "metadata": {
        "id": "Op2hMjZkAX7f"
      },
      "outputs": [],
      "source": [
        "from openclean.operator.collector.repair import Shortest, Vote, conflict_repair\n",
        "\n",
        "# Define the conflict resolution strategy. We use a majority vote for RHS attributes.\n",
        "strategy = {'KY_CD': Vote()}\n",
        "\n",
        "# resolve the conflicts\n",
        "resolved = conflict_repair(conflicts=fd1_violations, strategy=strategy, in_order=False)"
      ]
    },
    {
      "cell_type": "code",
      "execution_count": null,
      "metadata": {
        "id": "e0P_A4NEMdBK"
      },
      "outputs": [],
      "source": [
        "#resolving for key code -> offense description\n",
        "\n",
        "from openclean.operator.collector.repair import Shortest, Vote, conflict_repair\n",
        "\n",
        "# Define the conflict resolution strategy. We use a majority vote for RHS attributes.\n",
        "strategy = {'OFNS_DESC': Vote(tiebreaker=Shortest())}\n",
        "\n",
        "# resolve the conflicts\n",
        "resolved = conflict_repair(conflicts=fd2_violations, strategy=strategy, in_order=False)"
      ]
    },
    {
      "cell_type": "code",
      "execution_count": null,
      "metadata": {
        "id": "83xTag8wMu9g"
      },
      "outputs": [],
      "source": [
        "trial = fd_violations(resolved, ['KY_CD'], ['OFNS_DESC'])\n",
        "\n",
        "print('# of violations for FD(KY_CD -> OFNS_DESC)) is {}\\n'.format(len(trial)))\n",
        "print(violation_group)"
      ]
    },
    {
      "cell_type": "code",
      "execution_count": null,
      "metadata": {
        "id": "satoP4vbBJHz"
      },
      "outputs": [],
      "source": [
        "violation_group = resolved[(resolved['KY_CD']=='125')]\n",
        "\n",
        "fd3_violations = fd_violations(resolved, ['KY_CD'], ['OFNS_DESC'])\n",
        "\n",
        "print('# of violations for FD(KY_CD -> OFNS_DESC) is {}\\n'.format(len(fd3_violations)))\n",
        "print(violation_group)"
      ]
    },
    {
      "cell_type": "code",
      "execution_count": null,
      "metadata": {
        "id": "IYf9GhkXB3ya"
      },
      "outputs": [],
      "source": [
        "resolved.groupby(['OFNS_DESC', 'KY_CD']).size()"
      ]
    },
    {
      "cell_type": "code",
      "execution_count": null,
      "metadata": {
        "id": "DDx9CLIWEXng"
      },
      "outputs": [],
      "source": [
        "keymapping = resolved.groupby('KY_CD').apply(lambda x: x['OFNS_DESC'].unique())\n",
        "print(keymapping)"
      ]
    },
    {
      "cell_type": "markdown",
      "metadata": {
        "id": "o7CvGBj3D0z4"
      },
      "source": [
        "#### Each key code represents a particular offense description. There is a one to one mapping. So we would use key code for future analysis instead of offense description."
      ]
    },
    {
      "cell_type": "markdown",
      "metadata": {
        "id": "fZ74ExfCRC4g"
      },
      "source": [
        "#### Calculating the null values present in the data columnwise (with respect to the features)"
      ]
    },
    {
      "cell_type": "code",
      "execution_count": null,
      "metadata": {
        "id": "eNTgn7bW-X-t"
      },
      "outputs": [],
      "source": [
        "df.select([count(when(isnan(c) | col(c).isNull(), c)).alias(c) for c in df.columns]).show()"
      ]
    },
    {
      "cell_type": "code",
      "execution_count": null,
      "metadata": {
        "id": "MgV4_9FW-a1j"
      },
      "outputs": [],
      "source": [
        "amount_missing_df = df.select([(count(when(isnan(c) | col(c).isNull(), c))/count(lit(1))).alias(c) for c in df.columns])\n",
        "amount_missing_df.show()"
      ]
    },
    {
      "cell_type": "markdown",
      "metadata": {
        "id": "5HQvMmXgJSy0"
      },
      "source": [
        "#### Thus, we can see that the percentage of null values per variable has gone considerably down after cleaning. Some variables like 'PARKS_NM', 'HADEVELOPT' and such can have null values as established above. "
      ]
    },
    {
      "cell_type": "markdown",
      "metadata": {
        "id": "wK3UbFUwUxbP"
      },
      "source": [
        "JURISDICTION wise count"
      ]
    },
    {
      "cell_type": "code",
      "execution_count": null,
      "metadata": {
        "id": "GzpVkycNq66f"
      },
      "outputs": [],
      "source": [
        "df.groupBy('JURIS_DESC').count().show()"
      ]
    },
    {
      "cell_type": "markdown",
      "metadata": {
        "id": "FI1pGd8s16sd"
      },
      "source": [
        "### Number of columns in Clean Data"
      ]
    },
    {
      "cell_type": "code",
      "execution_count": null,
      "metadata": {
        "id": "rcI9kIjcrRSh"
      },
      "outputs": [],
      "source": [
        "len(df.columns)"
      ]
    },
    {
      "cell_type": "markdown",
      "metadata": {
        "id": "9htIvQ_X10Op"
      },
      "source": [
        "### Number of rows in Clean Data"
      ]
    },
    {
      "cell_type": "code",
      "execution_count": null,
      "metadata": {
        "id": "g-P3OKE21ubz"
      },
      "outputs": [],
      "source": [
        "df.count()"
      ]
    },
    {
      "cell_type": "code",
      "execution_count": null,
      "metadata": {
        "id": "W2RVtvNr38c_"
      },
      "outputs": [],
      "source": [
        "df.printSchema()"
      ]
    },
    {
      "cell_type": "markdown",
      "metadata": {
        "id": "JLIpnxgHVAfM"
      },
      "source": [
        "### **Exporting Clean Data in CSV**\n",
        "\n",
        "The Cleaned Data Set will be saved as `NYPD_Complaint_Data_Historic_Cleaned.csv`"
      ]
    },
    {
      "cell_type": "code",
      "execution_count": null,
      "metadata": {
        "id": "pNEBquVPrUtx"
      },
      "outputs": [],
      "source": [
        "pd_df = df.toPandas()\n",
        "pd_df.to_csv(\"NYPD_Complaint_Data_Historic_Cleaned_Spark.csv\")"
      ]
    }
  ],
  "metadata": {
    "accelerator": "TPU",
    "colab": {
      "collapsed_sections": [],
      "name": "Spark_Big_Data_.ipynb",
      "provenance": []
    },
    "kernelspec": {
      "display_name": "Python 3",
      "name": "python3"
    },
    "language_info": {
      "codemirror_mode": {
        "name": "ipython",
        "version": 3
      },
      "file_extension": ".py",
      "mimetype": "text/x-python",
      "name": "python",
      "nbconvert_exporter": "python",
      "pygments_lexer": "ipython3",
      "version": "3.9.7"
    }
  },
  "nbformat": 4,
  "nbformat_minor": 0
}