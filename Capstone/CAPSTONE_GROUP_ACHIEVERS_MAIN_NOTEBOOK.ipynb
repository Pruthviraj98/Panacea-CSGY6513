{
  "nbformat": 4,
  "nbformat_minor": 0,
  "metadata": {
    "colab": {
      "name": "CAPSTONE GROUP - ACHIEVERS MAIN NOTEBOOK",
      "provenance": [],
      "collapsed_sections": []
    },
    "kernelspec": {
      "name": "python3",
      "display_name": "Python 3"
    },
    "language_info": {
      "name": "python"
    }
  },
  "cells": [
    {
      "cell_type": "markdown",
      "source": [
        "------------------------------------------------------------------------------\n",
        "# **MAIN DATASET: NYPD COMPLAINTS (Historic)**\n",
        "------------------------------------------------------------------------------\n",
        "\n",
        "Team : Achievers\n",
        "\n",
        "1. Pruthviraj R Patil\n",
        "2. Swathi Jain\n",
        "3. Nithya Satish\n",
        "\n",
        "------------------------------------------------------------------------------\n",
        "# **PART - 1 : Working on main dataset**\n",
        "------------------------------------------------------------------------------\n",
        "\n",
        "## a. To get the required columns, use this module: \n",
        "\n",
        "1.   get_area_of_interest(df_spark, interested_columns)\n",
        "\n",
        "\n",
        "## b. Data Preprocessing\n",
        "\n",
        "\n",
        "###    a. Scaled peprocessing pipeline: Pass your data through these functions (if using other datasets and if your columns fall in those categories)\n",
        "\n",
        "1.   valid_date_check(date)\n",
        "2.   valid_time_check(time)\n",
        "3.   reverse_geo_code_boros(df_spark, Latitude, Longitude, Boro, lat_index, long_index)\n",
        "4.   refine_age_group_race(df_spark, victim_age_group=None, suspect_age_group=None, suspect_race=None, victim_race=None)\n",
        "5.   refine_sex_gender_impute(df_spark, suspect_age=None, suspect_gender=None, victim_age=None, victim_gender=None)\n",
        "6.   refine_precinct_jur(df_spark, precinct=None, Jur_code=None)\n",
        "\n",
        "###.   b. Preprocessing modules curated in this notebook which are not associated with scaled preprocessing: \n",
        "\n",
        "1. level_of_offense_check()\n",
        "2. KY_CD_Check()\n",
        "3. hpsa_check()\n",
        "4. prem_check()\n",
        "5. pd_cd_check()\n",
        "\n",
        "## c. Data Visualization\n",
        "\n",
        "To bring out insights after data profiling\n",
        "\n",
        "## d. Save the cleaned data\n",
        "\n",
        "------------------------------------------------------------------------------\n",
        "# **PART - 2: Working on other datasets**\n",
        "------------------------------------------------------------------------------\n",
        "\n",
        "## Instructions for running notebooks with different datasets:\n",
        "\n",
        "I. Import dataset. (Links are given below)\n",
        "\n",
        "\n",
        "1. NYPD vehicle collision data\n",
        "https://data.cityofnewyork.us/Public-Safety/Motor-Vehicle-Collisions-Crashes/h9gi-nx95 \n",
        " \n",
        "2. NYPD Attests Data\n",
        "https://data.cityofnewyork.us/Public-Safety/NYPD-Arrests-Data-Historic-/8h9b-rp9u \n",
        " \n",
        "3. NYPD Shooting Incident Data\n",
        "https://data.cityofnewyork.us/Public-Safety/NYPD-Shooting-Incident-Data-Historic-/833y-fsy8 \n",
        " \n",
        "4. NYPD Criminal Court Summons Data\n",
        "https://data.cityofnewyork.us/Public-Safety/NYPD-Criminal-Court-Summons-Historic-/sv2w-rv3k \n",
        " \n",
        "5. NYPD Summons Historic Data\n",
        "https://data.cityofnewyork.us/Public-Safety/NYPD-B-Summons-Historic-/bme5-7ty4 \n",
        " \n",
        "6. NYPD Service Calls Data\n",
        "https://data.cityofnewyork.us/Public-Safety/NYPD-Calls-for-Service-Historic-/d6zx-ckhd \n",
        " \n",
        "7. NYPD Incident Data\n",
        "https://data.cityofnewyork.us/Public-Safety/NYPD-Use-of-Force-Incidents/f4tj-796d \n",
        " \n",
        "8. Incidents Responded Data\n",
        "https://data.cityofnewyork.us/Public-Safety/Incidents-Responded-to-by-Fire-Companies/tm6d-hbzd \n",
        "\n",
        "9. Emergency Response Incidents\n",
        "https://data.cityofnewyork.us/Public-Safety/Emergency-Response-Incidents/pasr-j7fb\n",
        "\n",
        "10. Rodent Inspection Data\n",
        "https://data.cityofnewyork.us/Health/Rodent-Inspection/p937-wjvj\n",
        "\n",
        "II. Select the columns of interest from the datasets.\n",
        "\n",
        "III. Use the modules to preprocess the dataset as required\n",
        "\n",
        "IV. Save the datasets to CSV files\n"
      ],
      "metadata": {
        "id": "EtwLWOuvVE1R"
      }
    },
    {
      "cell_type": "code",
      "execution_count": 16,
      "metadata": {
        "colab": {
          "base_uri": "https://localhost:8080/"
        },
        "id": "z8dUqIINUs-T",
        "outputId": "5afc7313-ec59-461d-a2c3-e9a6e1814ed7"
      },
      "outputs": [
        {
          "output_type": "stream",
          "name": "stdout",
          "text": [
            "Collecting pyspark\n",
            "  Downloading pyspark-3.2.0.tar.gz (281.3 MB)\n",
            "\u001b[K     |████████████████████████████████| 281.3 MB 34 kB/s \n",
            "\u001b[?25hCollecting py4j==0.10.9.2\n",
            "  Downloading py4j-0.10.9.2-py2.py3-none-any.whl (198 kB)\n",
            "\u001b[K     |████████████████████████████████| 198 kB 43.6 MB/s \n",
            "\u001b[?25hBuilding wheels for collected packages: pyspark\n",
            "  Building wheel for pyspark (setup.py) ... \u001b[?25l\u001b[?25hdone\n",
            "  Created wheel for pyspark: filename=pyspark-3.2.0-py2.py3-none-any.whl size=281805912 sha256=a4bc8bf3e11e11a97135e8c7affcba64ce1ed52ed1e651b5b64623f0e6a8aa10\n",
            "  Stored in directory: /root/.cache/pip/wheels/0b/de/d2/9be5d59d7331c6c2a7c1b6d1a4f463ce107332b1ecd4e80718\n",
            "Successfully built pyspark\n",
            "Installing collected packages: py4j, pyspark\n",
            "Successfully installed py4j-0.10.9.2 pyspark-3.2.0\n",
            "Collecting openclean\n",
            "  Downloading openclean-0.2.1-py3-none-any.whl (5.2 kB)\n",
            "Collecting openclean-core==0.4.1\n",
            "  Downloading openclean_core-0.4.1-py3-none-any.whl (267 kB)\n",
            "\u001b[K     |████████████████████████████████| 267 kB 9.7 MB/s \n",
            "\u001b[?25hCollecting jellyfish\n",
            "  Downloading jellyfish-0.8.9.tar.gz (137 kB)\n",
            "\u001b[K     |████████████████████████████████| 137 kB 64.4 MB/s \n",
            "\u001b[?25hCollecting refdata>=0.2.0\n",
            "  Downloading refdata-0.2.0-py3-none-any.whl (37 kB)\n",
            "Requirement already satisfied: appdirs>=1.4.4 in /usr/local/lib/python3.7/dist-packages (from openclean-core==0.4.1->openclean) (1.4.4)\n",
            "Collecting jsonschema>=3.2.0\n",
            "  Downloading jsonschema-4.2.1-py3-none-any.whl (69 kB)\n",
            "\u001b[K     |████████████████████████████████| 69 kB 6.7 MB/s \n",
            "\u001b[?25hRequirement already satisfied: requests in /usr/local/lib/python3.7/dist-packages (from openclean-core==0.4.1->openclean) (2.23.0)\n",
            "Collecting flowserv-core>=0.8.0\n",
            "  Downloading flowserv_core-0.9.2-py3-none-any.whl (260 kB)\n",
            "\u001b[K     |████████████████████████████████| 260 kB 47.4 MB/s \n",
            "\u001b[?25hRequirement already satisfied: python-dateutil in /usr/local/lib/python3.7/dist-packages (from openclean-core==0.4.1->openclean) (2.8.2)\n",
            "Requirement already satisfied: scikit-learn in /usr/local/lib/python3.7/dist-packages (from openclean-core==0.4.1->openclean) (1.0.1)\n",
            "Requirement already satisfied: pandas>=1.0.0 in /usr/local/lib/python3.7/dist-packages (from openclean-core==0.4.1->openclean) (1.1.5)\n",
            "Requirement already satisfied: dill in /usr/local/lib/python3.7/dist-packages (from openclean-core==0.4.1->openclean) (0.3.4)\n",
            "Requirement already satisfied: future in /usr/local/lib/python3.7/dist-packages (from openclean-core==0.4.1->openclean) (0.16.0)\n",
            "Requirement already satisfied: scipy in /usr/local/lib/python3.7/dist-packages (from openclean-core==0.4.1->openclean) (1.4.1)\n",
            "Collecting histore>=0.4.0\n",
            "  Downloading histore-0.4.1-py3-none-any.whl (109 kB)\n",
            "\u001b[K     |████████████████████████████████| 109 kB 49.5 MB/s \n",
            "\u001b[?25hRequirement already satisfied: Click in /usr/local/lib/python3.7/dist-packages (from flowserv-core>=0.8.0->openclean-core==0.4.1->openclean) (7.1.2)\n",
            "Collecting pyyaml>=5.1\n",
            "  Downloading PyYAML-6.0-cp37-cp37m-manylinux_2_5_x86_64.manylinux1_x86_64.manylinux_2_12_x86_64.manylinux2010_x86_64.whl (596 kB)\n",
            "\u001b[K     |████████████████████████████████| 596 kB 38.7 MB/s \n",
            "\u001b[?25hCollecting gitpython\n",
            "  Downloading GitPython-3.1.24-py3-none-any.whl (180 kB)\n",
            "\u001b[K     |████████████████████████████████| 180 kB 52.1 MB/s \n",
            "\u001b[?25hCollecting passlib\n",
            "  Downloading passlib-1.7.4-py2.py3-none-any.whl (525 kB)\n",
            "\u001b[K     |████████████████████████████████| 525 kB 50.0 MB/s \n",
            "\u001b[?25hCollecting paramiko\n",
            "  Downloading paramiko-2.8.1-py2.py3-none-any.whl (206 kB)\n",
            "\u001b[K     |████████████████████████████████| 206 kB 43.1 MB/s \n",
            "\u001b[?25hCollecting pyyaml-include\n",
            "  Downloading pyyaml_include-1.2.post2-py3-none-any.whl (20 kB)\n",
            "Requirement already satisfied: SQLAlchemy>=1.3.18 in /usr/local/lib/python3.7/dist-packages (from flowserv-core>=0.8.0->openclean-core==0.4.1->openclean) (1.4.27)\n",
            "Requirement already satisfied: psutil in /usr/local/lib/python3.7/dist-packages (from histore>=0.4.0->openclean-core==0.4.1->openclean) (5.4.8)\n",
            "Requirement already satisfied: pyrsistent!=0.17.0,!=0.17.1,!=0.17.2,>=0.14.0 in /usr/local/lib/python3.7/dist-packages (from jsonschema>=3.2.0->openclean-core==0.4.1->openclean) (0.18.0)\n",
            "Requirement already satisfied: importlib-metadata in /usr/local/lib/python3.7/dist-packages (from jsonschema>=3.2.0->openclean-core==0.4.1->openclean) (4.8.2)\n",
            "Requirement already satisfied: attrs>=17.4.0 in /usr/local/lib/python3.7/dist-packages (from jsonschema>=3.2.0->openclean-core==0.4.1->openclean) (21.2.0)\n",
            "Requirement already satisfied: importlib-resources>=1.4.0 in /usr/local/lib/python3.7/dist-packages (from jsonschema>=3.2.0->openclean-core==0.4.1->openclean) (5.4.0)\n",
            "Requirement already satisfied: zipp>=3.1.0 in /usr/local/lib/python3.7/dist-packages (from importlib-resources>=1.4.0->jsonschema>=3.2.0->openclean-core==0.4.1->openclean) (3.6.0)\n",
            "Requirement already satisfied: pytz>=2017.2 in /usr/local/lib/python3.7/dist-packages (from pandas>=1.0.0->openclean-core==0.4.1->openclean) (2018.9)\n",
            "Requirement already satisfied: numpy>=1.15.4 in /usr/local/lib/python3.7/dist-packages (from pandas>=1.0.0->openclean-core==0.4.1->openclean) (1.19.5)\n",
            "Requirement already satisfied: six>=1.5 in /usr/local/lib/python3.7/dist-packages (from python-dateutil->openclean-core==0.4.1->openclean) (1.15.0)\n",
            "Collecting tableprint\n",
            "  Downloading tableprint-0.9.1-py3-none-any.whl (6.8 kB)\n",
            "Collecting datasize>=1.0.0\n",
            "  Downloading datasize-1.0.0.tar.gz (149 kB)\n",
            "\u001b[K     |████████████████████████████████| 149 kB 47.8 MB/s \n",
            "\u001b[?25hRequirement already satisfied: pooch>=1.3.0 in /usr/local/lib/python3.7/dist-packages (from refdata>=0.2.0->openclean-core==0.4.1->openclean) (1.5.2)\n",
            "Requirement already satisfied: packaging in /usr/local/lib/python3.7/dist-packages (from pooch>=1.3.0->refdata>=0.2.0->openclean-core==0.4.1->openclean) (21.3)\n",
            "Requirement already satisfied: greenlet!=0.4.17 in /usr/local/lib/python3.7/dist-packages (from SQLAlchemy>=1.3.18->flowserv-core>=0.8.0->openclean-core==0.4.1->openclean) (1.1.2)\n",
            "Requirement already satisfied: typing-extensions>=3.7.4.3 in /usr/local/lib/python3.7/dist-packages (from gitpython->flowserv-core>=0.8.0->openclean-core==0.4.1->openclean) (3.10.0.2)\n",
            "Collecting gitdb<5,>=4.0.1\n",
            "  Downloading gitdb-4.0.9-py3-none-any.whl (63 kB)\n",
            "\u001b[K     |████████████████████████████████| 63 kB 986 kB/s \n",
            "\u001b[?25hCollecting smmap<6,>=3.0.1\n",
            "  Downloading smmap-5.0.0-py3-none-any.whl (24 kB)\n",
            "Requirement already satisfied: pyparsing!=3.0.5,>=2.0.2 in /usr/local/lib/python3.7/dist-packages (from packaging->pooch>=1.3.0->refdata>=0.2.0->openclean-core==0.4.1->openclean) (3.0.6)\n",
            "Collecting cryptography>=2.5\n",
            "  Downloading cryptography-36.0.0-cp36-abi3-manylinux_2_24_x86_64.whl (3.6 MB)\n",
            "\u001b[K     |████████████████████████████████| 3.6 MB 31.5 MB/s \n",
            "\u001b[?25hCollecting bcrypt>=3.1.3\n",
            "  Downloading bcrypt-3.2.0-cp36-abi3-manylinux2010_x86_64.whl (63 kB)\n",
            "\u001b[K     |████████████████████████████████| 63 kB 1.8 MB/s \n",
            "\u001b[?25hCollecting pynacl>=1.0.1\n",
            "  Downloading PyNaCl-1.4.0-cp35-abi3-manylinux1_x86_64.whl (961 kB)\n",
            "\u001b[K     |████████████████████████████████| 961 kB 34.4 MB/s \n",
            "\u001b[?25hRequirement already satisfied: cffi>=1.1 in /usr/local/lib/python3.7/dist-packages (from bcrypt>=3.1.3->paramiko->flowserv-core>=0.8.0->openclean-core==0.4.1->openclean) (1.15.0)\n",
            "Requirement already satisfied: pycparser in /usr/local/lib/python3.7/dist-packages (from cffi>=1.1->bcrypt>=3.1.3->paramiko->flowserv-core>=0.8.0->openclean-core==0.4.1->openclean) (2.21)\n",
            "Collecting pyyaml>=5.1\n",
            "  Downloading PyYAML-5.4.1-cp37-cp37m-manylinux1_x86_64.whl (636 kB)\n",
            "\u001b[K     |████████████████████████████████| 636 kB 34.2 MB/s \n",
            "\u001b[?25hRequirement already satisfied: certifi>=2017.4.17 in /usr/local/lib/python3.7/dist-packages (from requests->openclean-core==0.4.1->openclean) (2021.10.8)\n",
            "Requirement already satisfied: idna<3,>=2.5 in /usr/local/lib/python3.7/dist-packages (from requests->openclean-core==0.4.1->openclean) (2.10)\n",
            "Requirement already satisfied: urllib3!=1.25.0,!=1.25.1,<1.26,>=1.21.1 in /usr/local/lib/python3.7/dist-packages (from requests->openclean-core==0.4.1->openclean) (1.24.3)\n",
            "Requirement already satisfied: chardet<4,>=3.0.2 in /usr/local/lib/python3.7/dist-packages (from requests->openclean-core==0.4.1->openclean) (3.0.4)\n",
            "Requirement already satisfied: threadpoolctl>=2.0.0 in /usr/local/lib/python3.7/dist-packages (from scikit-learn->openclean-core==0.4.1->openclean) (3.0.0)\n",
            "Requirement already satisfied: joblib>=0.11 in /usr/local/lib/python3.7/dist-packages (from scikit-learn->openclean-core==0.4.1->openclean) (1.1.0)\n",
            "Requirement already satisfied: wcwidth in /usr/local/lib/python3.7/dist-packages (from tableprint->refdata>=0.2.0->openclean-core==0.4.1->openclean) (0.2.5)\n",
            "Building wheels for collected packages: datasize, jellyfish\n",
            "  Building wheel for datasize (setup.py) ... \u001b[?25l\u001b[?25hdone\n",
            "  Created wheel for datasize: filename=datasize-1.0.0-py2.py3-none-any.whl size=155047 sha256=e8c7ded7670d5700984e56ec36fcf3dc701ce8b3934468848ff45f0098b6fb4e\n",
            "  Stored in directory: /root/.cache/pip/wheels/f7/b5/32/d8836896da6aca7f9c5748670ea6110d1385c262bf3abcca30\n",
            "  Building wheel for jellyfish (setup.py) ... \u001b[?25l\u001b[?25hdone\n",
            "  Created wheel for jellyfish: filename=jellyfish-0.8.9-cp37-cp37m-linux_x86_64.whl size=73208 sha256=9ff7fe22f408f3e47d43110a24608cc2c2e62d39ed3343973e819959063f5001\n",
            "  Stored in directory: /root/.cache/pip/wheels/32/a9/ef/5d8742e72deaf0d1de327a180d008c2c0299367581800ea73f\n",
            "Successfully built datasize jellyfish\n",
            "Installing collected packages: smmap, pyyaml, pynacl, gitdb, cryptography, bcrypt, tableprint, pyyaml-include, passlib, paramiko, jsonschema, gitpython, datasize, refdata, jellyfish, histore, flowserv-core, openclean-core, openclean\n",
            "  Attempting uninstall: pyyaml\n",
            "    Found existing installation: PyYAML 3.13\n",
            "    Uninstalling PyYAML-3.13:\n",
            "      Successfully uninstalled PyYAML-3.13\n",
            "  Attempting uninstall: jsonschema\n",
            "    Found existing installation: jsonschema 2.6.0\n",
            "    Uninstalling jsonschema-2.6.0:\n",
            "      Successfully uninstalled jsonschema-2.6.0\n",
            "\u001b[31mERROR: pip's dependency resolver does not currently take into account all the packages that are installed. This behaviour is the source of the following dependency conflicts.\n",
            "nbclient 0.5.9 requires jupyter-client>=6.1.5, but you have jupyter-client 5.3.5 which is incompatible.\u001b[0m\n",
            "Successfully installed bcrypt-3.2.0 cryptography-36.0.0 datasize-1.0.0 flowserv-core-0.9.2 gitdb-4.0.9 gitpython-3.1.24 histore-0.4.1 jellyfish-0.8.9 jsonschema-4.2.1 openclean-0.2.1 openclean-core-0.4.1 paramiko-2.8.1 passlib-1.7.4 pynacl-1.4.0 pyyaml-5.4.1 pyyaml-include-1.2.post2 refdata-0.2.0 smmap-5.0.0 tableprint-0.9.1\n"
          ]
        }
      ],
      "source": [
        "!pip install pyspark\n",
        "!pip install openclean"
      ]
    },
    {
      "cell_type": "code",
      "source": [
        "!pip install geopandas"
      ],
      "metadata": {
        "colab": {
          "base_uri": "https://localhost:8080/"
        },
        "id": "xUgZk0367e5M",
        "outputId": "2542371c-cabf-460c-d61b-17453947e950"
      },
      "execution_count": 17,
      "outputs": [
        {
          "output_type": "stream",
          "name": "stdout",
          "text": [
            "Collecting geopandas\n",
            "  Downloading geopandas-0.10.2-py2.py3-none-any.whl (1.0 MB)\n",
            "\u001b[K     |████████████████████████████████| 1.0 MB 10.5 MB/s \n",
            "\u001b[?25hCollecting pyproj>=2.2.0\n",
            "  Downloading pyproj-3.2.1-cp37-cp37m-manylinux2010_x86_64.whl (6.3 MB)\n",
            "\u001b[K     |████████████████████████████████| 6.3 MB 29.2 MB/s \n",
            "\u001b[?25hCollecting fiona>=1.8\n",
            "  Downloading Fiona-1.8.20-cp37-cp37m-manylinux1_x86_64.whl (15.4 MB)\n",
            "\u001b[K     |████████████████████████████████| 15.4 MB 33.7 MB/s \n",
            "\u001b[?25hRequirement already satisfied: shapely>=1.6 in /usr/local/lib/python3.7/dist-packages (from geopandas) (1.8.0)\n",
            "Requirement already satisfied: pandas>=0.25.0 in /usr/local/lib/python3.7/dist-packages (from geopandas) (1.1.5)\n",
            "Collecting click-plugins>=1.0\n",
            "  Downloading click_plugins-1.1.1-py2.py3-none-any.whl (7.5 kB)\n",
            "Collecting munch\n",
            "  Downloading munch-2.5.0-py2.py3-none-any.whl (10 kB)\n",
            "Requirement already satisfied: click>=4.0 in /usr/local/lib/python3.7/dist-packages (from fiona>=1.8->geopandas) (7.1.2)\n",
            "Requirement already satisfied: attrs>=17 in /usr/local/lib/python3.7/dist-packages (from fiona>=1.8->geopandas) (21.2.0)\n",
            "Requirement already satisfied: certifi in /usr/local/lib/python3.7/dist-packages (from fiona>=1.8->geopandas) (2021.10.8)\n",
            "Requirement already satisfied: setuptools in /usr/local/lib/python3.7/dist-packages (from fiona>=1.8->geopandas) (57.4.0)\n",
            "Requirement already satisfied: six>=1.7 in /usr/local/lib/python3.7/dist-packages (from fiona>=1.8->geopandas) (1.15.0)\n",
            "Collecting cligj>=0.5\n",
            "  Downloading cligj-0.7.2-py3-none-any.whl (7.1 kB)\n",
            "Requirement already satisfied: pytz>=2017.2 in /usr/local/lib/python3.7/dist-packages (from pandas>=0.25.0->geopandas) (2018.9)\n",
            "Requirement already satisfied: numpy>=1.15.4 in /usr/local/lib/python3.7/dist-packages (from pandas>=0.25.0->geopandas) (1.19.5)\n",
            "Requirement already satisfied: python-dateutil>=2.7.3 in /usr/local/lib/python3.7/dist-packages (from pandas>=0.25.0->geopandas) (2.8.2)\n",
            "Installing collected packages: munch, cligj, click-plugins, pyproj, fiona, geopandas\n",
            "Successfully installed click-plugins-1.1.1 cligj-0.7.2 fiona-1.8.20 geopandas-0.10.2 munch-2.5.0 pyproj-3.2.1\n"
          ]
        }
      ]
    },
    {
      "cell_type": "code",
      "source": [
        "#importing packages required\n",
        "from pyspark import SparkContext, SparkConf\n",
        "import os\n",
        "import requests\n",
        "from six.moves import urllib\n",
        "import sys \n",
        "import pandas as pd\n",
        "import matplotlib \n",
        "import matplotlib as plt\n",
        "import numpy as np\n",
        "import scipy as sp\n",
        "import IPython\n",
        "from IPython import display\n",
        "import sklearn\n",
        "import random\n",
        "import time\n",
        "import warnings\n",
        "import re\n",
        "import matplotlib.pyplot as plt\n",
        "%matplotlib inline\n",
        "from openclean.pipeline import stream\n",
        "from openclean.profiling.column import DefaultColumnProfiler\n",
        "from openclean.data.source.socrata import Socrata\n",
        "from openclean.pipeline import stream\n",
        "from openclean.function.eval.datatype import IsDatetime\n",
        "import datetime\n",
        "import pandas as pd\n",
        "from pyspark.sql import SparkSession, Row\n",
        "from pyspark.sql.functions import udf, struct\n",
        "from pyspark.sql.types import StringType\n",
        "import pandas as pd\n",
        "import numpy as np\n",
        "import matplotlib.pyplot as plt\n",
        "import geopandas as gpd\n",
        "from shapely import wkt\n",
        "from shapely.geometry import Point, Polygon\n",
        "from dateutil import parser\n",
        "import seaborn as sns\n",
        "from scipy.spatial.distance import cdist\n",
        "import scipy.cluster.hierarchy as shc "
      ],
      "metadata": {
        "id": "fOq89ZjQU0yv"
      },
      "execution_count": 18,
      "outputs": []
    },
    {
      "cell_type": "code",
      "source": [
        "from geopy.geocoders import ArcGIS\n",
        "geocoder=ArcGIS()\n",
        "#example:\n",
        "geocoder.reverse('40.61157006600007, -73.74736517199995')"
      ],
      "metadata": {
        "colab": {
          "base_uri": "https://localhost:8080/"
        },
        "id": "vjam1thSU34J",
        "outputId": "826cd7ca-8830-4240-b814-d7e716fd1011"
      },
      "execution_count": 19,
      "outputs": [
        {
          "output_type": "execute_result",
          "data": {
            "text/plain": [
              "Location(11-64 Redfern Ave, Far Rockaway, New York 11691, USA, (40.61161616586613, -73.74738361194636, 0.0))"
            ]
          },
          "metadata": {},
          "execution_count": 19
        }
      ]
    },
    {
      "cell_type": "code",
      "source": [
        "#Creating Spark Session\n",
        "sc = SparkContext.getOrCreate();\n",
        "spark = SparkSession(sc)"
      ],
      "metadata": {
        "id": "Jye4yIQdU7WB"
      },
      "execution_count": 20,
      "outputs": []
    },
    {
      "cell_type": "code",
      "source": [
        "#Downloading file from NYC Open Data\n",
        "fn_src = 'https://data.cityofnewyork.us/api/views/qgea-i56i/rows.csv?accessType=DOWNLOAD'\n",
        "fn_dst = '/content/NYPD_Complaint_Data_Historic.csv'\n",
        "\n",
        "#https://data.cityofnewyork.us/resource/h9gi-nx95.csv\n",
        "\n",
        "from six.moves import urllib\n",
        "\n",
        "if os.path.isfile(fn_dst):\n",
        "    print('File has already been downloaded', fn_dst)\n",
        "else:\n",
        "    print('Fetching file. This may take a while...', fn_dst)\n",
        "    urllib.request.urlretrieve(fn_src, fn_dst)\n",
        "    print('File has been downloaded', fn_dst)"
      ],
      "metadata": {
        "colab": {
          "base_uri": "https://localhost:8080/"
        },
        "id": "MkeHipz9U-Rj",
        "outputId": "3b55b533-eb33-451d-ad63-f04391b144fa"
      },
      "execution_count": 21,
      "outputs": [
        {
          "output_type": "stream",
          "name": "stdout",
          "text": [
            "Fetching file. This may take a while... /content/NYPD_Complaint_Data_Historic.csv\n",
            "File has been downloaded /content/NYPD_Complaint_Data_Historic.csv\n"
          ]
        }
      ]
    },
    {
      "cell_type": "code",
      "source": [
        "src = 'https://data.beta.nyc/dataset/0ff93d2d-90ba-457c-9f7e-39e47bf2ac5f/resource/7caac650-d082-4aea-9f9b-3681d568e8a5/download/nyc_zip_borough_neighborhoods_pop.csv'\n",
        "dst = '/content/nyc_zip_borough_neighborhoods_pop.csv'\n",
        "\n",
        "#https://data.cityofnewyork.us/resource/h9gi-nx95.csv\n",
        "\n",
        "from six.moves import urllib\n",
        "\n",
        "if os.path.isfile(dst):\n",
        "    print('File has already been downloaded', dst)\n",
        "else:\n",
        "    urllib.request.urlretrieve(src, dst)\n",
        "    print('File has been downloaded', dst)"
      ],
      "metadata": {
        "colab": {
          "base_uri": "https://localhost:8080/"
        },
        "id": "bkp1LzrKWM99",
        "outputId": "7773190a-2d56-459e-9435-285ab54ab7e7"
      },
      "execution_count": 22,
      "outputs": [
        {
          "output_type": "stream",
          "name": "stdout",
          "text": [
            "File has been downloaded /content/nyc_zip_borough_neighborhoods_pop.csv\n"
          ]
        }
      ]
    },
    {
      "cell_type": "code",
      "source": [
        "#similarly, lets get them into pyspark rdd\n",
        "def get_area_of_interest(df_spark, interested_columns):\n",
        "  df_spark=df_spark.select(interested_columns)\n",
        "  return df_spark"
      ],
      "metadata": {
        "id": "QSORcsBrVfcD"
      },
      "execution_count": 23,
      "outputs": []
    },
    {
      "cell_type": "markdown",
      "source": [
        "# 2. Module for date related columns\n",
        "\n",
        "As the dataset is for the data from 2006 to 2020, we can see that there is data from unknown format of \"1010-05-14\" to the year 2020. We need to clean this. Over here, we remove the null values where the complaint date is <2006. "
      ],
      "metadata": {
        "id": "up2fhHPMhWXT"
      }
    },
    {
      "cell_type": "code",
      "source": [
        "import datetime\n",
        "def valid_date_check(date, format):\n",
        "  if isinstance(date, datetime.datetime):\n",
        "    date=str(date.date())\n",
        "  if date==None or date==\" \" or date==\"\":\n",
        "      return False\n",
        "  else:\n",
        "    date_cpy=date\n",
        "    split_date=date.split(\"-\")\n",
        "    format_date=format.split(\"-\")\n",
        "    if len(split_date)!=3 and len(format_date)!=3:\n",
        "      date=date.split(\"/\")\n",
        "      format=format.split(\"/\")\n",
        "    else:\n",
        "      date=split_date\n",
        "      format=format_date\n",
        "    if len(date)!=3:\n",
        "      return False\n",
        "    try:\n",
        "      year=int(date[format.index('yyyy')])\n",
        "      month=int(date[format.index('mm')])\n",
        "      day=int(date[format.index('dd')])\n",
        "      if year>=2006 and year<=2020:\n",
        "        try:\n",
        "          refined_date=datetime.datetime(year, month, day)\n",
        "          return True\n",
        "        except:\n",
        "          return False\n",
        "      else:\n",
        "        return False\n",
        "    except:\n",
        "      return False"
      ],
      "metadata": {
        "id": "kml5KmPEeAK4"
      },
      "execution_count": 34,
      "outputs": []
    },
    {
      "cell_type": "markdown",
      "source": [
        "# 3. Module for time related columns\n",
        "\n",
        "Similarly, lets check for the time as well. Here we must have time between \n",
        "the standard 24 hours."
      ],
      "metadata": {
        "id": "3OU8ZkkIhSf5"
      }
    },
    {
      "cell_type": "code",
      "source": [
        "#Deleting invalid time\n",
        "def valid_time_check(time):\n",
        "  if time==None or time==\" \" or time==\"\":\n",
        "    return False\n",
        "  else :\n",
        "    cpy_time=time\n",
        "    time=time.split(\":\")\n",
        "    try:\n",
        "      hour=int(time[0])\n",
        "      mins=int(time[1])\n",
        "      secs= int(time[2])\n",
        "      # if hours is 24 then change it to 0 hours\n",
        "      if hour == 24 and mins== 0 and secs == 0:\n",
        "        hour=0\n",
        "      try:\n",
        "        newTime= datetime.time(hour,mins,secs)\n",
        "        return True\n",
        "      except :\n",
        "        return False\n",
        "    except:\n",
        "      return False"
      ],
      "metadata": {
        "id": "6LroG_OQeCe9"
      },
      "execution_count": 35,
      "outputs": []
    },
    {
      "cell_type": "markdown",
      "source": [
        "#4. Module for Age Group and Race columns\n",
        "The module works for only those columns whose column names are passed"
      ],
      "metadata": {
        "id": "3gzYDuVwhO3V"
      }
    },
    {
      "cell_type": "code",
      "source": [
        "def refine_age_group_race(df_spark, victim_age_group=None, suspect_age_group=None, suspect_race=None, victim_race=None):\n",
        "  #params: dataframe, col names for the respective age, gender cols\n",
        "  if victim_age_group:\n",
        "    df_spark = df_spark.na.fill(\"UNKNOWN\",subset=[victim_age_group])\n",
        "  if suspect_age_group:\n",
        "    df_spark = df_spark.na.fill(\"UNKNOWN\",subset=[suspect_age_group])\n",
        "  if suspect_race:\n",
        "    df_spark = df_spark.na.fill(\"UNKNOWN\",subset=[suspect_race])\n",
        "  if victim_race:\n",
        "    df_spark = df_spark.na.fill(\"UNKNOWN\",subset=[victim_race])\n",
        "  return df_spark"
      ],
      "metadata": {
        "id": "7r5AKpmteHSg"
      },
      "execution_count": 36,
      "outputs": []
    },
    {
      "cell_type": "markdown",
      "source": [
        "## 4.2 Level of offense validation"
      ],
      "metadata": {
        "id": "C8-7mSPfWtGm"
      }
    },
    {
      "cell_type": "code",
      "source": [
        "#offense should belong to one of the categories- 'FELONY',\"MISDEMEANOR\",\"VIOLATION\"\n",
        "def level_of_offence_check(offence):\n",
        "    if offence==\"\" or offence==\" \" or offence==None:\n",
        "        return False\n",
        "    else:\n",
        "        crimes_list=['FELONY',\"MISDEMEANOR\",\"VIOLATION\"]\n",
        "        if offence not in crimes_list:\n",
        "            return False\n",
        "        else :\n",
        "            return True"
      ],
      "metadata": {
        "id": "9tzXdYUGWsbm"
      },
      "execution_count": 37,
      "outputs": []
    },
    {
      "cell_type": "markdown",
      "source": [
        "# 4.3 KY_CD, Housing PSA, Premises, PD_CD, PATROL_BORO cleaning"
      ],
      "metadata": {
        "id": "zOT7Xk7tIPdj"
      }
    },
    {
      "cell_type": "code",
      "source": [
        "def KY_CD_Check(ky_cd):\n",
        "    if ky_cd==\"\" or ky_cd==\" \" or ky_cd==None:\n",
        "        return False\n",
        "    else:\n",
        "        return True\n",
        "\n",
        "def hpsa_check(hpsa):\n",
        "    if hpsa==\"\" or hpsa==\" \" or hpsa==None:\n",
        "        return False\n",
        "    else:\n",
        "        return True\n",
        "\n",
        "def prem_check(pm_type):\n",
        "    if pm_type==\"\" or pm_type==\" \" or pm_type==None:\n",
        "        return False\n",
        "    else:\n",
        "        return True\n",
        "\n",
        "def pd_cd_check(pd_cd):\n",
        "    if pd_cd==\"\" or pd_cd==\" \" or pd_cd==None:\n",
        "        return False\n",
        "    else:\n",
        "        return True"
      ],
      "metadata": {
        "id": "aMJ098rBIOrU"
      },
      "execution_count": 38,
      "outputs": []
    },
    {
      "cell_type": "markdown",
      "source": [
        "# 5. Module for Gender, Race Columns for suspects and victims\n",
        "\n",
        "The module works for only those columns whose column names are passed"
      ],
      "metadata": {
        "id": "69arM9hIhOIK"
      }
    },
    {
      "cell_type": "code",
      "source": [
        "def refine_sex_gender_impute(df_spark, suspect_age=None, suspect_gender=None, victim_age=None, victim_gender=None):\n",
        "  #params: dataframe, col names for the respective age, gender cols\n",
        "  \n",
        "  if suspect_age:\n",
        "    df_spark=df_spark.na.fill(\"U\",subset=[suspect_age])\n",
        "  if victim_age:\n",
        "    df_spark=df_spark.na.fill(\"U\",subset=[victim_age])\n",
        "  if suspect_gender:\n",
        "    df_spark = df_spark.na.fill(\"UNKNOWN\",subset=[suspect_gender])\n",
        "  if victim_gender:\n",
        "    df_spark = df_spark.na.fill(\"UNKNOWN\",subset=[victim_gender])\n",
        "  return df_spark"
      ],
      "metadata": {
        "id": "htQ2JRcseLNN"
      },
      "execution_count": 39,
      "outputs": []
    },
    {
      "cell_type": "markdown",
      "source": [
        "# 6.a: Module for Precinct, Jurisdiction Code:\n",
        "  dropping the null values\n",
        "\n",
        "  The module works for only those columns whose column names are passed along with the df"
      ],
      "metadata": {
        "id": "d_NovxDghKwS"
      }
    },
    {
      "cell_type": "code",
      "source": [
        "def valid_precinct_check(precinct):\n",
        "  if precinct==None or precinct==\" \" or precinct==\"\":\n",
        "    return False\n",
        "  else :\n",
        "    return True\n",
        "\n",
        "def valid_jur_check(jur):\n",
        "  if jur==None or jur==\" \" or jur==\"\":\n",
        "    return False\n",
        "  else :\n",
        "    return True"
      ],
      "metadata": {
        "id": "niQRHl7CeQR8"
      },
      "execution_count": 40,
      "outputs": []
    },
    {
      "cell_type": "markdown",
      "source": [
        "# 6.b Module for Reverse Geocoding the boroughs using latitudes and longitudes.\n",
        "1. First we will remove the rows where latitude, longitude and boroughs are null. (around 450 tuples removed)\n",
        "2. Then, where the boroughs are empty, take the latitude and longitude value and reverse geocode it using the module \"reverseGeocoder\".\n",
        "3. Impute the borough name retrived in the empty space.\n",
        "\n",
        "So, lets remove the rows where latitudes and longitudes are NULL. After that, we can take only those rows where BORO_NM is Null. So, we have 5000 points of BORO_NM to impute using latitudes and longitudes. These are the rows where BORO_NM is null\n",
        "\n",
        "### USING MASTER DATASET\n",
        "In the case of geocoding, geocoder gives us the zipcodes based on the latitude and longitude values. Inturn, we can use the master dataset of zipcodes inorder to retrive the borough names\n",
        "\n",
        "\n",
        "NOTE: The dataset can be downloaded from : https://data.beta.nyc/en/dataset/pediacities-nyc-neighborhoods/resource/7caac650-d082-4aea-9f9b-3681d568e8a5\n",
        "\n",
        "\n",
        "#### NOTES:\n",
        "We stored the zip codes and their corresponding borough names in the dictionary \"zip_master\" in the form of a look-up because, it takes O(1) time to retrive borough names hence reduces parse time.\n",
        "\n",
        "So, we had the dataframe (boro_cleaner) where there were null values in BORO_NM column derived from the main dataframe (df_temp_boro_clean). Now we merge back the imputed dataframe back to the main dataframe."
      ],
      "metadata": {
        "id": "YtxVasX_g8OJ"
      }
    },
    {
      "cell_type": "code",
      "source": [
        "#Checking the validity of coordinates\n",
        "class Point:\n",
        "    def __init__(self,x,y):\n",
        "        self.x = x\n",
        "        self.y = y\n",
        "\n",
        "#Bounding Box Lat details for NYC\n",
        "lat_max=40.917577\n",
        "lat_min=40.477399\n",
        "long_max=-73.700009\n",
        "long_min=-74.25909\n",
        "\n",
        "#Function to check validity of Lat values\n",
        "def to_check_long(x):\n",
        "  try:\n",
        "    if x== \"\" or x== \" \"or x==None:\n",
        "      return False\n",
        "    elif (long_min<x) and (x<long_max):\n",
        "      return True\n",
        "    else:\n",
        "      return False\n",
        "  except ValueError:\n",
        "    return False\n",
        "\n",
        "#Function to check validity of Lat values\n",
        "def to_check_lat(x):\n",
        "  try:\n",
        "    if x== \"\" or x== \" \"or x==None:\n",
        "      return False\n",
        "    elif (lat_min<x) and (x<lat_max):\n",
        "      return True\n",
        "    else:\n",
        "      return False\n",
        "  except ValueError:\n",
        "    return False"
      ],
      "metadata": {
        "id": "xMD6kEkQdhE8"
      },
      "execution_count": 41,
      "outputs": []
    },
    {
      "cell_type": "code",
      "source": [
        "def reverse_geo_code_boros(df_spark, Latitude, Longitude, Boro, lat_index, long_index):\n",
        "  #select data where we have to impute\n",
        "  df_temp_boro_clean=df_spark.filter((df_spark[Latitude].isNotNull()) & (df_spark[Longitude].isNotNull()))\n",
        "  boro_cleaner=df_temp_boro_clean.filter((df_temp_boro_clean[Boro].isNull())|(df_temp_boro_clean[Boro]=='NEW YORK'))\n",
        "\n",
        "  # print(\"We have \"+ str(boro_cleaner.count())+ \" points to impute\")\n",
        "  print(\"___intializing Zip Code Look up ____\")\n",
        "  print(\"____ imputing the points ____\")\n",
        "\n",
        "\n",
        "  #use your path for master dataset here. \n",
        "  df_zips=pd.read_csv(dst)\n",
        "  zip_master={}\n",
        "  zips=df_zips['zip']\n",
        "  boro=df_zips['borough']\n",
        "  for i, j in zip(zips, boro):\n",
        "    zip_master[i]=j\n",
        "  zip_master[10020]='Manhattan'\n",
        "  zip_master[11249]='Brooklyn'\n",
        "\n",
        "  def reverseGeoCoder(latitude, longitude):\n",
        "    loc=geocoder.reverse(str(latitude)+', '+str(longitude), timeout=1000)\n",
        "    zipCode=str(loc).split(\",\")[2][-5:]\n",
        "    if not int(zipCode) in zip_master:\n",
        "      boro=\"UNKNOWN\"\n",
        "    else:\n",
        "      boro=zip_master[int(zipCode)]\n",
        "    boro=boro.upper()\n",
        "    return boro\n",
        "\n",
        "  #creating UD function\n",
        "  ud_func= udf(reverseGeoCoder, StringType())\n",
        "  boro_cleaned_dataframe = boro_cleaner.withColumn(Boro, ud_func(boro_cleaner[lat_index], boro_cleaner[long_index]))\n",
        "\n",
        "  #joining the imputed dataset to the maindataset and returning\n",
        "\n",
        "  joiner_dataset=df_spark.filter((df_spark[Latitude].isNotNull()) & (df_spark[Boro]!='NEW YORK') & (df_spark[Longitude].isNotNull()) & (df_spark[Boro].isNotNull()))\n",
        "  fin_df=joiner_dataset.union(boro_cleaned_dataframe)\n",
        "  return fin_df"
      ],
      "metadata": {
        "id": "tGGvupG0eQsb"
      },
      "execution_count": 42,
      "outputs": []
    },
    {
      "cell_type": "markdown",
      "source": [
        "Just for the testing purpose, we can choose the sample subset to work on.\n",
        "\n",
        "The size of dataset ~ 7.4M tuples. So, we need around 70000 data points for 99% confidence level with 1% interval. The size of data is almost 1% of the data. So we can get it into our df now\n",
        "\n",
        "#### ** *NOTE: TO RUN THE PIPELINE OVER ALL THE TUPLES, JUST COMMENT THE SECOND LINE IN THE BELOW CODE MODULE* **"
      ],
      "metadata": {
        "id": "aWqXQ6Xmgz70"
      }
    },
    {
      "cell_type": "code",
      "source": [
        "df_spark=spark.read.option(\"header\",True).csv(fn_dst,inferSchema=True)\n",
        "#comment the below line if you want to run for the whole dataset\n",
        "df_spark=df_spark.sample(0.001)\n",
        "df_spark.count()"
      ],
      "metadata": {
        "colab": {
          "base_uri": "https://localhost:8080/"
        },
        "id": "nq0_3ZPweYnA",
        "outputId": "3a45ebe6-844a-4d6d-ef75-8f2b4deb75b2"
      },
      "execution_count": 83,
      "outputs": [
        {
          "output_type": "execute_result",
          "data": {
            "text/plain": [
              "7512"
            ]
          },
          "metadata": {},
          "execution_count": 83
        }
      ]
    },
    {
      "cell_type": "markdown",
      "source": [
        "# PROFILING TO CHECK FOR NULL VALUES IN ALL THE COLUMNS"
      ],
      "metadata": {
        "id": "vQkebErhmlXx"
      }
    },
    {
      "cell_type": "code",
      "source": [
        "ds=stream(fn_dst)\n",
        "#Creating profile of our dataset\n",
        "profiles = ds.profile(default_profiler=DefaultColumnProfiler)\n",
        "profiles.stats()"
      ],
      "metadata": {
        "colab": {
          "base_uri": "https://localhost:8080/",
          "height": 1000
        },
        "id": "Y0ftSoh7mU0y",
        "outputId": "829ca2bd-f19c-42bf-95ac-160aae5c2201"
      },
      "execution_count": 43,
      "outputs": [
        {
          "output_type": "execute_result",
          "data": {
            "text/html": [
              "<div>\n",
              "<style scoped>\n",
              "    .dataframe tbody tr th:only-of-type {\n",
              "        vertical-align: middle;\n",
              "    }\n",
              "\n",
              "    .dataframe tbody tr th {\n",
              "        vertical-align: top;\n",
              "    }\n",
              "\n",
              "    .dataframe thead th {\n",
              "        text-align: right;\n",
              "    }\n",
              "</style>\n",
              "<table border=\"1\" class=\"dataframe\">\n",
              "  <thead>\n",
              "    <tr style=\"text-align: right;\">\n",
              "      <th></th>\n",
              "      <th>total</th>\n",
              "      <th>empty</th>\n",
              "      <th>distinct</th>\n",
              "      <th>uniqueness</th>\n",
              "      <th>entropy</th>\n",
              "    </tr>\n",
              "  </thead>\n",
              "  <tbody>\n",
              "    <tr>\n",
              "      <th>CMPLNT_NUM</th>\n",
              "      <td>7375993</td>\n",
              "      <td>0</td>\n",
              "      <td>7373143</td>\n",
              "      <td>9.996136e-01</td>\n",
              "      <td>22.813633</td>\n",
              "    </tr>\n",
              "    <tr>\n",
              "      <th>CMPLNT_FR_DT</th>\n",
              "      <td>7375993</td>\n",
              "      <td>655</td>\n",
              "      <td>8606</td>\n",
              "      <td>1.166862e-03</td>\n",
              "      <td>12.425578</td>\n",
              "    </tr>\n",
              "    <tr>\n",
              "      <th>CMPLNT_FR_TM</th>\n",
              "      <td>7375993</td>\n",
              "      <td>48</td>\n",
              "      <td>1441</td>\n",
              "      <td>1.953648e-04</td>\n",
              "      <td>8.136466</td>\n",
              "    </tr>\n",
              "    <tr>\n",
              "      <th>CMPLNT_TO_DT</th>\n",
              "      <td>7375993</td>\n",
              "      <td>1704204</td>\n",
              "      <td>6825</td>\n",
              "      <td>1.203324e-03</td>\n",
              "      <td>12.417984</td>\n",
              "    </tr>\n",
              "    <tr>\n",
              "      <th>CMPLNT_TO_TM</th>\n",
              "      <td>7375993</td>\n",
              "      <td>1699541</td>\n",
              "      <td>1441</td>\n",
              "      <td>2.538558e-04</td>\n",
              "      <td>8.862856</td>\n",
              "    </tr>\n",
              "    <tr>\n",
              "      <th>ADDR_PCT_CD</th>\n",
              "      <td>7375993</td>\n",
              "      <td>2166</td>\n",
              "      <td>77</td>\n",
              "      <td>1.044234e-05</td>\n",
              "      <td>6.148690</td>\n",
              "    </tr>\n",
              "    <tr>\n",
              "      <th>RPT_DT</th>\n",
              "      <td>7375993</td>\n",
              "      <td>0</td>\n",
              "      <td>5479</td>\n",
              "      <td>7.428152e-04</td>\n",
              "      <td>12.405384</td>\n",
              "    </tr>\n",
              "    <tr>\n",
              "      <th>KY_CD</th>\n",
              "      <td>7375993</td>\n",
              "      <td>0</td>\n",
              "      <td>74</td>\n",
              "      <td>1.003255e-05</td>\n",
              "      <td>4.170727</td>\n",
              "    </tr>\n",
              "    <tr>\n",
              "      <th>OFNS_DESC</th>\n",
              "      <td>7375993</td>\n",
              "      <td>18823</td>\n",
              "      <td>71</td>\n",
              "      <td>9.650450e-06</td>\n",
              "      <td>4.006583</td>\n",
              "    </tr>\n",
              "    <tr>\n",
              "      <th>PD_CD</th>\n",
              "      <td>7375993</td>\n",
              "      <td>6278</td>\n",
              "      <td>432</td>\n",
              "      <td>5.861828e-05</td>\n",
              "      <td>5.913459</td>\n",
              "    </tr>\n",
              "    <tr>\n",
              "      <th>PD_DESC</th>\n",
              "      <td>7375993</td>\n",
              "      <td>6278</td>\n",
              "      <td>422</td>\n",
              "      <td>5.726137e-05</td>\n",
              "      <td>5.904814</td>\n",
              "    </tr>\n",
              "    <tr>\n",
              "      <th>CRM_ATPT_CPTD_CD</th>\n",
              "      <td>7375993</td>\n",
              "      <td>7</td>\n",
              "      <td>2</td>\n",
              "      <td>2.711502e-07</td>\n",
              "      <td>0.124481</td>\n",
              "    </tr>\n",
              "    <tr>\n",
              "      <th>LAW_CAT_CD</th>\n",
              "      <td>7375993</td>\n",
              "      <td>0</td>\n",
              "      <td>3</td>\n",
              "      <td>4.067249e-07</td>\n",
              "      <td>1.373922</td>\n",
              "    </tr>\n",
              "    <tr>\n",
              "      <th>BORO_NM</th>\n",
              "      <td>7375993</td>\n",
              "      <td>11329</td>\n",
              "      <td>5</td>\n",
              "      <td>6.789176e-07</td>\n",
              "      <td>2.162442</td>\n",
              "    </tr>\n",
              "    <tr>\n",
              "      <th>LOC_OF_OCCUR_DESC</th>\n",
              "      <td>7375993</td>\n",
              "      <td>1543800</td>\n",
              "      <td>5</td>\n",
              "      <td>8.573104e-07</td>\n",
              "      <td>1.241785</td>\n",
              "    </tr>\n",
              "    <tr>\n",
              "      <th>PREM_TYP_DESC</th>\n",
              "      <td>7375993</td>\n",
              "      <td>40745</td>\n",
              "      <td>74</td>\n",
              "      <td>1.008828e-05</td>\n",
              "      <td>3.579655</td>\n",
              "    </tr>\n",
              "    <tr>\n",
              "      <th>JURIS_DESC</th>\n",
              "      <td>7375993</td>\n",
              "      <td>0</td>\n",
              "      <td>25</td>\n",
              "      <td>3.389374e-06</td>\n",
              "      <td>0.668693</td>\n",
              "    </tr>\n",
              "    <tr>\n",
              "      <th>JURISDICTION_CODE</th>\n",
              "      <td>7375993</td>\n",
              "      <td>6278</td>\n",
              "      <td>25</td>\n",
              "      <td>3.392261e-06</td>\n",
              "      <td>0.668795</td>\n",
              "    </tr>\n",
              "    <tr>\n",
              "      <th>PARKS_NM</th>\n",
              "      <td>7375993</td>\n",
              "      <td>3229345</td>\n",
              "      <td>1206</td>\n",
              "      <td>2.908373e-04</td>\n",
              "      <td>0.110850</td>\n",
              "    </tr>\n",
              "    <tr>\n",
              "      <th>HADEVELOPT</th>\n",
              "      <td>7375993</td>\n",
              "      <td>7029181</td>\n",
              "      <td>279</td>\n",
              "      <td>8.044704e-04</td>\n",
              "      <td>7.277703</td>\n",
              "    </tr>\n",
              "    <tr>\n",
              "      <th>HOUSING_PSA</th>\n",
              "      <td>7375993</td>\n",
              "      <td>1241432</td>\n",
              "      <td>5103</td>\n",
              "      <td>8.318444e-04</td>\n",
              "      <td>1.216803</td>\n",
              "    </tr>\n",
              "    <tr>\n",
              "      <th>X_COORD_CD</th>\n",
              "      <td>7375993</td>\n",
              "      <td>17339</td>\n",
              "      <td>71343</td>\n",
              "      <td>9.695115e-03</td>\n",
              "      <td>14.595751</td>\n",
              "    </tr>\n",
              "    <tr>\n",
              "      <th>Y_COORD_CD</th>\n",
              "      <td>7375993</td>\n",
              "      <td>17339</td>\n",
              "      <td>73933</td>\n",
              "      <td>1.004708e-02</td>\n",
              "      <td>14.744968</td>\n",
              "    </tr>\n",
              "    <tr>\n",
              "      <th>SUSP_AGE_GROUP</th>\n",
              "      <td>7375993</td>\n",
              "      <td>4795235</td>\n",
              "      <td>111</td>\n",
              "      <td>4.301062e-05</td>\n",
              "      <td>2.113260</td>\n",
              "    </tr>\n",
              "    <tr>\n",
              "      <th>SUSP_RACE</th>\n",
              "      <td>7375993</td>\n",
              "      <td>3426694</td>\n",
              "      <td>8</td>\n",
              "      <td>2.025676e-06</td>\n",
              "      <td>2.224526</td>\n",
              "    </tr>\n",
              "    <tr>\n",
              "      <th>SUSP_SEX</th>\n",
              "      <td>7375993</td>\n",
              "      <td>3560008</td>\n",
              "      <td>3</td>\n",
              "      <td>7.861666e-07</td>\n",
              "      <td>1.323637</td>\n",
              "    </tr>\n",
              "    <tr>\n",
              "      <th>TRANSIT_DISTRICT</th>\n",
              "      <td>7375993</td>\n",
              "      <td>7212494</td>\n",
              "      <td>12</td>\n",
              "      <td>7.339494e-05</td>\n",
              "      <td>3.437520</td>\n",
              "    </tr>\n",
              "    <tr>\n",
              "      <th>Latitude</th>\n",
              "      <td>7375993</td>\n",
              "      <td>17339</td>\n",
              "      <td>205539</td>\n",
              "      <td>2.793160e-02</td>\n",
              "      <td>15.828371</td>\n",
              "    </tr>\n",
              "    <tr>\n",
              "      <th>Longitude</th>\n",
              "      <td>7375993</td>\n",
              "      <td>17339</td>\n",
              "      <td>201311</td>\n",
              "      <td>2.735704e-02</td>\n",
              "      <td>15.797580</td>\n",
              "    </tr>\n",
              "    <tr>\n",
              "      <th>Lat_Lon</th>\n",
              "      <td>7375993</td>\n",
              "      <td>17339</td>\n",
              "      <td>198552</td>\n",
              "      <td>2.698211e-02</td>\n",
              "      <td>15.677861</td>\n",
              "    </tr>\n",
              "    <tr>\n",
              "      <th>PATROL_BORO</th>\n",
              "      <td>7375993</td>\n",
              "      <td>6735</td>\n",
              "      <td>8</td>\n",
              "      <td>1.085591e-06</td>\n",
              "      <td>2.898560</td>\n",
              "    </tr>\n",
              "    <tr>\n",
              "      <th>STATION_NAME</th>\n",
              "      <td>7375993</td>\n",
              "      <td>7212494</td>\n",
              "      <td>372</td>\n",
              "      <td>2.275243e-03</td>\n",
              "      <td>7.617040</td>\n",
              "    </tr>\n",
              "    <tr>\n",
              "      <th>VIC_AGE_GROUP</th>\n",
              "      <td>7375993</td>\n",
              "      <td>1638445</td>\n",
              "      <td>202</td>\n",
              "      <td>3.520668e-05</td>\n",
              "      <td>2.201239</td>\n",
              "    </tr>\n",
              "    <tr>\n",
              "      <th>VIC_RACE</th>\n",
              "      <td>7375993</td>\n",
              "      <td>309</td>\n",
              "      <td>8</td>\n",
              "      <td>1.084645e-06</td>\n",
              "      <td>2.323077</td>\n",
              "    </tr>\n",
              "    <tr>\n",
              "      <th>VIC_SEX</th>\n",
              "      <td>7375993</td>\n",
              "      <td>308</td>\n",
              "      <td>5</td>\n",
              "      <td>6.779031e-07</td>\n",
              "      <td>1.846472</td>\n",
              "    </tr>\n",
              "  </tbody>\n",
              "</table>\n",
              "</div>"
            ],
            "text/plain": [
              "                     total    empty  distinct    uniqueness    entropy\n",
              "CMPLNT_NUM         7375993        0   7373143  9.996136e-01  22.813633\n",
              "CMPLNT_FR_DT       7375993      655      8606  1.166862e-03  12.425578\n",
              "CMPLNT_FR_TM       7375993       48      1441  1.953648e-04   8.136466\n",
              "CMPLNT_TO_DT       7375993  1704204      6825  1.203324e-03  12.417984\n",
              "CMPLNT_TO_TM       7375993  1699541      1441  2.538558e-04   8.862856\n",
              "ADDR_PCT_CD        7375993     2166        77  1.044234e-05   6.148690\n",
              "RPT_DT             7375993        0      5479  7.428152e-04  12.405384\n",
              "KY_CD              7375993        0        74  1.003255e-05   4.170727\n",
              "OFNS_DESC          7375993    18823        71  9.650450e-06   4.006583\n",
              "PD_CD              7375993     6278       432  5.861828e-05   5.913459\n",
              "PD_DESC            7375993     6278       422  5.726137e-05   5.904814\n",
              "CRM_ATPT_CPTD_CD   7375993        7         2  2.711502e-07   0.124481\n",
              "LAW_CAT_CD         7375993        0         3  4.067249e-07   1.373922\n",
              "BORO_NM            7375993    11329         5  6.789176e-07   2.162442\n",
              "LOC_OF_OCCUR_DESC  7375993  1543800         5  8.573104e-07   1.241785\n",
              "PREM_TYP_DESC      7375993    40745        74  1.008828e-05   3.579655\n",
              "JURIS_DESC         7375993        0        25  3.389374e-06   0.668693\n",
              "JURISDICTION_CODE  7375993     6278        25  3.392261e-06   0.668795\n",
              "PARKS_NM           7375993  3229345      1206  2.908373e-04   0.110850\n",
              "HADEVELOPT         7375993  7029181       279  8.044704e-04   7.277703\n",
              "HOUSING_PSA        7375993  1241432      5103  8.318444e-04   1.216803\n",
              "X_COORD_CD         7375993    17339     71343  9.695115e-03  14.595751\n",
              "Y_COORD_CD         7375993    17339     73933  1.004708e-02  14.744968\n",
              "SUSP_AGE_GROUP     7375993  4795235       111  4.301062e-05   2.113260\n",
              "SUSP_RACE          7375993  3426694         8  2.025676e-06   2.224526\n",
              "SUSP_SEX           7375993  3560008         3  7.861666e-07   1.323637\n",
              "TRANSIT_DISTRICT   7375993  7212494        12  7.339494e-05   3.437520\n",
              "Latitude           7375993    17339    205539  2.793160e-02  15.828371\n",
              "Longitude          7375993    17339    201311  2.735704e-02  15.797580\n",
              "Lat_Lon            7375993    17339    198552  2.698211e-02  15.677861\n",
              "PATROL_BORO        7375993     6735         8  1.085591e-06   2.898560\n",
              "STATION_NAME       7375993  7212494       372  2.275243e-03   7.617040\n",
              "VIC_AGE_GROUP      7375993  1638445       202  3.520668e-05   2.201239\n",
              "VIC_RACE           7375993      309         8  1.084645e-06   2.323077\n",
              "VIC_SEX            7375993      308         5  6.779031e-07   1.846472"
            ]
          },
          "metadata": {},
          "execution_count": 43
        }
      ]
    },
    {
      "cell_type": "markdown",
      "source": [
        "Checking for empty values count:"
      ],
      "metadata": {
        "id": "VuQxB5KLwVO8"
      }
    },
    {
      "cell_type": "code",
      "source": [
        "empty_vals=[]\n",
        "cols=df_spark.columns\n",
        "empty={}\n",
        "for i in cols:\n",
        "  empty_vals.append(profiles.column(i).get('emptyValueCount'))\n",
        "  empty[i]=profiles.column(i).get('emptyValueCount')"
      ],
      "metadata": {
        "id": "8r1wprSWwqe7"
      },
      "execution_count": 44,
      "outputs": []
    },
    {
      "cell_type": "code",
      "source": [
        "cols_sort=[cols for _, cols in sorted(zip(empty_vals, cols))]"
      ],
      "metadata": {
        "id": "O64xdbVe4Rn1"
      },
      "execution_count": 45,
      "outputs": []
    },
    {
      "cell_type": "code",
      "source": [
        "empty_vals=sorted(empty_vals)\n",
        "\n",
        "plt.figure(figsize=(10, 10))\n",
        "plt.title(\"Checking Empty values and deciding which attribute to drop\")\n",
        "plt.ylabel(\"Column names\")\n",
        "plt.xlabel(\"Empty Value counts (in Millions)\")\n",
        "plt.scatter(empty_vals, cols_sort)"
      ],
      "metadata": {
        "colab": {
          "base_uri": "https://localhost:8080/",
          "height": 638
        },
        "id": "sh2Hs7154OjM",
        "outputId": "f2e2f808-0d39-496d-f229-44312a036d3d"
      },
      "execution_count": 46,
      "outputs": [
        {
          "output_type": "execute_result",
          "data": {
            "text/plain": [
              "<matplotlib.collections.PathCollection at 0x7f890c0ae490>"
            ]
          },
          "metadata": {},
          "execution_count": 46
        },
        {
          "output_type": "display_data",
          "data": {
            "image/png": "[encoded data removed]",
            "text/plain": [
              "<Figure size 720x720 with 1 Axes>"
            ]
          },
          "metadata": {
            "needs_background": "light"
          }
        }
      ]
    },
    {
      "cell_type": "markdown",
      "source": [
        "Checking which top dates are shady"
      ],
      "metadata": {
        "id": "LFdusiE74ID0"
      }
    },
    {
      "cell_type": "code",
      "source": [
        "top_dates=profiles.column('CMPLNT_FR_DT').get('topValues')"
      ],
      "metadata": {
        "id": "YfXKlPAzyMgV"
      },
      "execution_count": 47,
      "outputs": []
    },
    {
      "cell_type": "code",
      "source": [
        "x=[]\n",
        "y=[]\n",
        "for i,j in top_dates:\n",
        "  x.append(i)\n",
        "  y.append(j)\n",
        "\n",
        "plt.figure(figsize=(15, 10))\n",
        "plt.xlabel(\"Dates\")\n",
        "plt.ylabel(\"Crime Count\")\n",
        "plt.title('MOST FREQUENT DATES WHEN VIOLENCE OCCURS')\n",
        "plt.bar(x, y, width=0.5)\n"
      ],
      "metadata": {
        "colab": {
          "base_uri": "https://localhost:8080/",
          "height": 638
        },
        "id": "C6z8JMV9ya1R",
        "outputId": "c51b1bdc-83a7-4744-e182-28d4e35a82cc"
      },
      "execution_count": 48,
      "outputs": [
        {
          "output_type": "execute_result",
          "data": {
            "text/plain": [
              "<BarContainer object of 10 artists>"
            ]
          },
          "metadata": {},
          "execution_count": 48
        },
        {
          "output_type": "display_data",
          "data": {
            "image/png": "[encoded data removed]",
            "text/plain": [
              "<Figure size 1080x720 with 1 Axes>"
            ]
          },
          "metadata": {
            "needs_background": "light"
          }
        }
      ]
    },
    {
      "cell_type": "markdown",
      "source": [
        "Lets check what time in a day are shady"
      ],
      "metadata": {
        "id": "U5hDbTFXzjdj"
      }
    },
    {
      "cell_type": "code",
      "source": [
        "top_time=profiles.column('CMPLNT_FR_TM').get('topValues')"
      ],
      "metadata": {
        "id": "JaXucZvzznAE"
      },
      "execution_count": 49,
      "outputs": []
    },
    {
      "cell_type": "code",
      "source": [
        "x=[]\n",
        "y=[]\n",
        "for i,j in top_time:\n",
        "  x.append(i)\n",
        "  y.append(j)\n",
        "\n",
        "plt.figure(figsize=(15, 10))\n",
        "plt.xlabel(\"Hour of a day\")\n",
        "plt.ylabel(\"Crime Count\")\n",
        "plt.title('MOST FREQUENT TIME IN A DAY WHEN VIOLENCE OCCURS')\n",
        "plt.bar(x, y, width=0.5, color=['r'])"
      ],
      "metadata": {
        "colab": {
          "base_uri": "https://localhost:8080/",
          "height": 638
        },
        "id": "uRMLhg3LzcRj",
        "outputId": "ffe8d6bb-198d-434d-d507-b007b139f418"
      },
      "execution_count": 50,
      "outputs": [
        {
          "output_type": "execute_result",
          "data": {
            "text/plain": [
              "<BarContainer object of 10 artists>"
            ]
          },
          "metadata": {},
          "execution_count": 50
        },
        {
          "output_type": "display_data",
          "data": {
            "image/png": "[encoded data removed]",
            "text/plain": [
              "<Figure size 1080x720 with 1 Axes>"
            ]
          },
          "metadata": {
            "needs_background": "light"
          }
        }
      ]
    },
    {
      "cell_type": "code",
      "source": [
        "top_boro=profiles.column('BORO_NM').get('topValues')\n",
        "\n",
        "x=[]\n",
        "y=[]\n",
        "for i,j in top_boro:\n",
        "  x.append(i)\n",
        "  y.append(j)\n",
        "\n",
        "plt.figure(figsize=(15, 10))\n",
        "plt.xlabel(\"NYC Boroughs\")\n",
        "plt.ylabel(\"Crime Count in Millions\")\n",
        "plt.title('Borough Wise comparision of Crime at NYC')\n",
        "plt.bar(x, y, width=0.5, color=['G'])"
      ],
      "metadata": {
        "colab": {
          "base_uri": "https://localhost:8080/",
          "height": 692
        },
        "id": "JZhC6EYuxluF",
        "outputId": "a658a0ef-a4e8-44e6-88d0-1af0073001b1"
      },
      "execution_count": 51,
      "outputs": [
        {
          "output_type": "stream",
          "name": "stderr",
          "text": [
            "/usr/local/lib/python3.7/dist-packages/ipykernel_launcher.py:13: MatplotlibDeprecationWarning: Support for uppercase single-letter colors is deprecated since Matplotlib 3.1 and will be removed in 3.3; please use lowercase instead.\n",
            "  del sys.path[0]\n"
          ]
        },
        {
          "output_type": "execute_result",
          "data": {
            "text/plain": [
              "<BarContainer object of 5 artists>"
            ]
          },
          "metadata": {},
          "execution_count": 51
        },
        {
          "output_type": "display_data",
          "data": {
            "image/png": "[encoded data removed]",
            "text/plain": [
              "<Figure size 1080x720 with 1 Axes>"
            ]
          },
          "metadata": {
            "needs_background": "light"
          }
        }
      ]
    },
    {
      "cell_type": "markdown",
      "source": [
        "LETS Check the max violene occuring places at NYC using max points from profiling. "
      ],
      "metadata": {
        "id": "YK82HvqIAil-"
      }
    },
    {
      "cell_type": "code",
      "source": [
        "lats=profiles.column('Latitude').get('topValues')\n",
        "lgts=profiles.column('Longitude').get('topValues')\n",
        "\n",
        "lats_=[float(i[0]) for i in lats]\n",
        "lgts_=[float(i[0]) for i in lgts]\n",
        "\n",
        "latcount=[i[1] for i in lats]\n",
        "longcount=[i[1] for i in lats]\n",
        "\n",
        "f_lats=[]\n",
        "f_long=[]\n",
        "for c in range(len(latcount)):\n",
        "  temp1=[lats_[c]]*latcount[c]\n",
        "  temp2=[lgts_[c]]*longcount[c]\n",
        "  f_lats+=temp1\n",
        "  f_long+=temp2"
      ],
      "metadata": {
        "id": "T1h7R0OhsbZA"
      },
      "execution_count": 52,
      "outputs": []
    },
    {
      "cell_type": "markdown",
      "source": [
        "### **NOTE: To run this module, please uncomment the code, place your nyc census tract shape files (along with requirements) in the required location and use them. You will get the requirements along with the shp file when you download the data from this link below:**\n",
        "\n",
        "You can find the shape files from : https://data.cityofnewyork.us/City-Government/Borough-Boundaries/tqmj-j8zm "
      ],
      "metadata": {
        "id": "GWjW29v3SZTf"
      }
    },
    {
      "cell_type": "code",
      "source": [
        "#purified_dataset=pd.DataFrame()\n",
        "#purified_dataset['Latitude']=f_lats\n",
        "#purified_dataset['Longitude']=f_long\n",
        "\n",
        "#NYC_map = gpd.read_file('___SET YOUR SHAPE FILE's PATH HERE_____')\n",
        "\n",
        "#crs = {'init':'EPSG:4326'}\n",
        "#geometry = [Point(xy) for xy in zip(purified_dataset['Longitude'], purified_dataset['Latitude'])]\n",
        "#purified_dataset = gpd.GeoDataFrame(purified_dataset, crs = crs, geometry = geometry)\n",
        "\n",
        "#fig, ax = plt.subplots(figsize = (10,10))\n",
        "#NYC_map.to_crs(epsg=4326).plot(ax=ax, color='lightgrey')\n",
        "#purified_dataset.plot(ax=ax, alpha = .1 )\n",
        "#ax.set_title('NYC top violence places for NYC')"
      ],
      "metadata": {
        "colab": {
          "base_uri": "https://localhost:8080/",
          "height": 678
        },
        "id": "ErcfsFiG-Xb2",
        "outputId": "c79085db-6e18-4ebd-9099-caf0f0d503ee"
      },
      "execution_count": 94,
      "outputs": [
        {
          "output_type": "stream",
          "name": "stderr",
          "text": [
            "/usr/local/lib/python3.7/dist-packages/pyproj/crs/crs.py:131: FutureWarning: '+init=<authority>:<code>' syntax is deprecated. '<authority>:<code>' is the preferred initialization method. When making the change, be mindful of axis order changes: https://pyproj4.github.io/pyproj/stable/gotchas.html#axis-order-changes-in-proj-6\n",
            "  in_crs_string = _prepare_from_proj_string(in_crs_string)\n"
          ]
        },
        {
          "output_type": "execute_result",
          "data": {
            "text/plain": [
              "Text(0.5, 1.0, 'NYC top violence Map for NYC')"
            ]
          },
          "metadata": {},
          "execution_count": 94
        },
        {
          "output_type": "display_data",
          "data": {
            "image/png": "[encoded data removed]",
            "text/plain": [
              "<Figure size 720x720 with 1 Axes>"
            ]
          },
          "metadata": {
            "needs_background": "light"
          }
        }
      ]
    },
    {
      "cell_type": "markdown",
      "source": [
        "# 1. We can consider the following columns as our area of interest:\n",
        "\n",
        "1. CMPLNT_NUM\t\n",
        "Randomly generated persistent ID for each complaint\n",
        "2. CMPLNT_FR_DT\t\n",
        "Exact date of occurrence for the reported event \n",
        "3. CMPLNT_FR_TM\t\n",
        "Exact time of occurrence for the reported event\n",
        "4. ADDR_PCT_CD\t\n",
        "The precinct in which the incident occurred\n",
        "5. KY_CD\n",
        "Three digit offense classification code\n",
        "6. LAW_CAT_CD\t\n",
        "Level of offense: felony, misdemeanor, violation\n",
        "7. BORO_NM\t\n",
        "The name of the borough in which the incident occurred\n",
        "8. PREM_TYP_DESC\n",
        "Specific description of premises; grocery store, residence, street, etc.\n",
        "9. VIC_AGE_GROUP\t\n",
        "Victim’s Age Group\n",
        "10. VIC_RACE\t\n",
        "Victim’s Race Description\n",
        "11. VIC_SEX\t\n",
        "Victim’s Sex Description\n",
        "12. Latitude\n",
        "13. Longitude\n",
        "14. SUSP_AGE_GROUP\t\n",
        "Suspect’s Age Group\n",
        "15. SUSP_RACE\t\n",
        "Suspect’s Race Description\n",
        "16. SUSP_SEX\t\n",
        "Suspect’s Sex Description\n",
        "17. JURISDICTION_CODE\n",
        "18. PATROL_BORO\n",
        "19. PD_CD\n",
        "20. HOUSING_PSA"
      ],
      "metadata": {
        "id": "paHwx8COfUAn"
      }
    },
    {
      "cell_type": "code",
      "source": [
        "interested_columns_1=['CMPLNT_NUM','CMPLNT_FR_DT','CMPLNT_FR_TM', 'ADDR_PCT_CD', 'KY_CD', 'LAW_CAT_CD', 'LAW_CAT_CD', 'BORO_NM', 'PREM_TYP_DESC', 'VIC_AGE_GROUP', \n",
        "           'VIC_RACE', 'VIC_SEX', 'Latitude', 'Longitude', 'SUSP_AGE_GROUP', 'SUSP_RACE', 'SUSP_SEX', 'JURISDICTION_CODE', 'PATROL_BORO', 'PD_CD','HOUSING_PSA']\n",
        "df_spark=get_area_of_interest(df_spark, interested_columns_1)"
      ],
      "metadata": {
        "id": "GymGzo9SfMN8"
      },
      "execution_count": 84,
      "outputs": []
    },
    {
      "cell_type": "markdown",
      "source": [
        "## b. Lets pass the dataset through the preprocessing pipeline"
      ],
      "metadata": {
        "id": "5Ey6YlZ1fdDz"
      }
    },
    {
      "cell_type": "code",
      "source": [
        "df_temp=df_spark.rdd"
      ],
      "metadata": {
        "id": "AFEqyoG1fZSD"
      },
      "execution_count": 85,
      "outputs": []
    },
    {
      "cell_type": "code",
      "source": [
        "df_temp.take(1)"
      ],
      "metadata": {
        "colab": {
          "base_uri": "https://localhost:8080/"
        },
        "id": "0uXk_RW1rljw",
        "outputId": "09f12826-e850-4f69-8251-4b45da02a0d1"
      },
      "execution_count": 86,
      "outputs": [
        {
          "output_type": "execute_result",
          "data": {
            "text/plain": [
              "[Row(CMPLNT_NUM=786912343, CMPLNT_FR_DT='09/07/2019', CMPLNT_FR_TM='01:15:00', ADDR_PCT_CD=49, KY_CD=351, LAW_CAT_CD='MISDEMEANOR', LAW_CAT_CD='MISDEMEANOR', BORO_NM='BRONX', PREM_TYP_DESC='OTHER', VIC_AGE_GROUP='UNKNOWN', VIC_RACE='UNKNOWN', VIC_SEX='E', Latitude=40.84268015400005, Longitude=-73.85429902099996, SUSP_AGE_GROUP=None, SUSP_RACE=None, SUSP_SEX=None, JURISDICTION_CODE=0, PATROL_BORO='PATROL BORO BRONX', PD_CD=258, HOUSING_PSA=None)]"
            ]
          },
          "metadata": {},
          "execution_count": 86
        }
      ]
    },
    {
      "cell_type": "markdown",
      "source": [
        "## 1. Lets work on time related columns\n",
        "\n",
        "Similarly, lets check for the time as well. Here we must have time between \n",
        "the standard 24 hours.\n",
        "\n",
        "## 2. Lets work on date related columns\n",
        "\n",
        "As the dataset is for the data from 2006 to 2020, we can see that there is data from unknown format of \"1010-05-14\" to the year 2020. We need to clean this. Over here, we remove the null values where the complaint date is <2006. \n",
        "\n",
        "**NOTE: For the date check module, make sure to send the correct format as the second hyper parameter. Here it is mm/dd/yyyy format for the current dataset**"
      ],
      "metadata": {
        "id": "PCwMqIgNfjOT"
      }
    },
    {
      "cell_type": "code",
      "source": [
        "df_temp_=df_temp.map(lambda x:(x, valid_time_check(x[2]))).filter(lambda x: x[1]==True)\n",
        "df_temp=df_temp_.map(lambda x: x[0])\n",
        "\n",
        "#filter the dates with proper format for Column-2 (CMPLNT_FR_DT)\n",
        "df_temp_=df_temp.map(lambda x:(x, valid_date_check(x[1], 'mm/dd/yyyy'))).filter(lambda x: x[1]==True)\n",
        "df_temp=df_temp_.map(lambda x: x[0])"
      ],
      "metadata": {
        "id": "eBrU_gyCfgG1"
      },
      "execution_count": 87,
      "outputs": []
    },
    {
      "cell_type": "markdown",
      "source": [
        "## 4.1 Lets refine the Age Group and Race columns\n",
        "\n",
        "The module works for only those columns whose column names are passed\n",
        "\n",
        "## 4.2 Lets refine the Gender, Race Columns for suspects and victims\n",
        "\n",
        "The module works for only those columns whose column names are passed "
      ],
      "metadata": {
        "id": "kD2sbi9IAiIa"
      }
    },
    {
      "cell_type": "code",
      "source": [
        "# #as this code requires the pyspark dataframe(Not the rdd)\n",
        "df_temp=df_temp.toDF(schema=df_spark.schema)\n",
        "df_temp=refine_age_group_race(df_temp, \"VIC_AGE_GROUP\", \"SUSP_AGE_GROUP\", 'SUSP_RACE', 'VIC_RACE')\n",
        "df_temp=refine_sex_gender_impute(df_temp, None, 'SUSP_SEX', None, 'VIC_SEX')"
      ],
      "metadata": {
        "id": "9AqM1zZbAhKJ"
      },
      "execution_count": 89,
      "outputs": []
    },
    {
      "cell_type": "markdown",
      "source": [
        "## 4.3 Lets refine the level of offense column"
      ],
      "metadata": {
        "id": "KVAsWblcK8Vh"
      }
    },
    {
      "cell_type": "code",
      "source": [
        "#Filtering offence\n",
        "df_temp=df_temp.rdd\n",
        "df_temp_=df_temp.map(lambda x:(x, level_of_offence_check(x[5]))).filter(lambda x: x[1]==True)\n",
        "df_temp=df_temp_.map(lambda x: x[0])"
      ],
      "metadata": {
        "id": "vWL8aT16LLCd"
      },
      "execution_count": 90,
      "outputs": []
    },
    {
      "cell_type": "markdown",
      "source": [
        "# 5 KY_CD, PATROL_BORO, HOUSING_PSA, PD_CD, PREM_TYP_DESC refining\n",
        "\n",
        "\n"
      ],
      "metadata": {
        "id": "RlV2lThMQRTW"
      }
    },
    {
      "cell_type": "code",
      "source": [
        "df_temp_=df_temp.map(lambda x:(x, KY_CD_Check(x[3]))).filter(lambda x: x[1]==True)\n",
        "df_temp=df_temp_.map(lambda x: x[0])\n",
        "\n",
        "df_temp_=df_temp.map(lambda x:(x, hpsa_check(x[-1]))).filter(lambda x: x[1]==True)\n",
        "df_temp=df_temp_.map(lambda x: x[0])\n",
        "\n",
        "df_temp_=df_temp.map(lambda x:(x, prem_check(x[8]))).filter(lambda x: x[1]==True)\n",
        "df_temp=df_temp_.map(lambda x: x[0])"
      ],
      "metadata": {
        "id": "Lhx9l-MpGgKM"
      },
      "execution_count": 91,
      "outputs": []
    },
    {
      "cell_type": "code",
      "source": [
        "df_temp_=df_temp.map(lambda x:(x, pd_cd_check(x[-2]))).filter(lambda x: x[1]==True)\n",
        "df_temp=df_temp_.map(lambda x: x[0])"
      ],
      "metadata": {
        "id": "puY1fdZdIIlg"
      },
      "execution_count": 92,
      "outputs": []
    },
    {
      "cell_type": "markdown",
      "source": [
        "# 6. Geospacial Attributes Imputation: \n",
        "\n",
        "## 6.a: Precinct, Jurisdiction Code:\n",
        "  dropping the null values\n",
        "\n",
        "  The module works for only those columns whose column names are passed along with the df"
      ],
      "metadata": {
        "id": "k0CryG30f201"
      }
    },
    {
      "cell_type": "code",
      "source": [
        "df_temp_=df_temp.map(lambda x:(x, valid_precinct_check(x[3]))).filter(lambda x: x[1]==True)\n",
        "df_temp=df_temp_.map(lambda x: x[0])\n",
        "\n",
        "df_temp_=df_temp.map(lambda x:(x, valid_jur_check(x[-4]))).filter(lambda x: x[1]==True)\n",
        "df_temp=df_temp_.map(lambda x: x[0])"
      ],
      "metadata": {
        "id": "yMV-l1nYIUdu"
      },
      "execution_count": 93,
      "outputs": []
    },
    {
      "cell_type": "markdown",
      "source": [
        "## 6.b Reverse Geocoding the boroughs using latitudes and longitudes."
      ],
      "metadata": {
        "id": "t-O4GqaYIg7H"
      }
    },
    {
      "cell_type": "code",
      "source": [
        "#Filtering the latitude and longitude that is invalid or is outside NYC\n",
        "df_temp_=df_temp.map(lambda x:(x, to_check_lat(x[12]))).filter(lambda x: x[1]==True)\n",
        "df_temp=df_temp_.map(lambda x: x[0])\n",
        "\n",
        "df_temp_=df_temp.map(lambda x:(x, to_check_long(x[13]))).filter(lambda x: x[1]==True)\n",
        "df_temp=df_temp_.map(lambda x: x[0])\n",
        "\n",
        "df_temp=df_temp.toDF(schema=df_spark.schema)"
      ],
      "metadata": {
        "id": "vm1iklLpdd_i"
      },
      "execution_count": 94,
      "outputs": []
    },
    {
      "cell_type": "code",
      "source": [
        "#geospacial attributes imputation\n",
        "# df_temp=df_temp.toDF(schema=df_spark.schema)\n",
        "df_spk=reverse_geo_code_boros(df_temp, 'Latitude', 'Longitude', 'BORO_NM', 12, 13)"
      ],
      "metadata": {
        "id": "UCaVenmIfn6V",
        "colab": {
          "base_uri": "https://localhost:8080/"
        },
        "outputId": "2a200889-53a7-49b5-a1a6-76f315380274"
      },
      "execution_count": 95,
      "outputs": [
        {
          "output_type": "stream",
          "name": "stdout",
          "text": [
            "___intializing Zip Code Look up ____\n",
            "____ imputing the points ____\n"
          ]
        }
      ]
    },
    {
      "cell_type": "markdown",
      "source": [
        "Lets profile the data now."
      ],
      "metadata": {
        "id": "-K1Yk9XSgcyi"
      }
    },
    {
      "cell_type": "code",
      "source": [
        "pandasDF = df_spk.toPandas()\n",
        "ds=stream(pandasDF)\n",
        "\n",
        "#Creating profile of our dataset\n",
        "profiles = ds.profile(default_profiler=DefaultColumnProfiler)\n",
        "profiles.stats()"
      ],
      "metadata": {
        "colab": {
          "base_uri": "https://localhost:8080/",
          "height": 700
        },
        "id": "Xnr8RCLtgZZg",
        "outputId": "8be7328c-b9f7-4473-cbda-27d452430d34"
      },
      "execution_count": 96,
      "outputs": [
        {
          "output_type": "execute_result",
          "data": {
            "text/html": [
              "<div>\n",
              "<style scoped>\n",
              "    .dataframe tbody tr th:only-of-type {\n",
              "        vertical-align: middle;\n",
              "    }\n",
              "\n",
              "    .dataframe tbody tr th {\n",
              "        vertical-align: top;\n",
              "    }\n",
              "\n",
              "    .dataframe thead th {\n",
              "        text-align: right;\n",
              "    }\n",
              "</style>\n",
              "<table border=\"1\" class=\"dataframe\">\n",
              "  <thead>\n",
              "    <tr style=\"text-align: right;\">\n",
              "      <th></th>\n",
              "      <th>total</th>\n",
              "      <th>empty</th>\n",
              "      <th>distinct</th>\n",
              "      <th>uniqueness</th>\n",
              "      <th>entropy</th>\n",
              "    </tr>\n",
              "  </thead>\n",
              "  <tbody>\n",
              "    <tr>\n",
              "      <th>CMPLNT_NUM</th>\n",
              "      <td>6165</td>\n",
              "      <td>0</td>\n",
              "      <td>6165</td>\n",
              "      <td>1.000000</td>\n",
              "      <td>12.589885</td>\n",
              "    </tr>\n",
              "    <tr>\n",
              "      <th>CMPLNT_FR_DT</th>\n",
              "      <td>6165</td>\n",
              "      <td>0</td>\n",
              "      <td>3356</td>\n",
              "      <td>0.544363</td>\n",
              "      <td>11.516650</td>\n",
              "    </tr>\n",
              "    <tr>\n",
              "      <th>CMPLNT_FR_TM</th>\n",
              "      <td>6165</td>\n",
              "      <td>0</td>\n",
              "      <td>778</td>\n",
              "      <td>0.126196</td>\n",
              "      <td>7.912644</td>\n",
              "    </tr>\n",
              "    <tr>\n",
              "      <th>ADDR_PCT_CD</th>\n",
              "      <td>6165</td>\n",
              "      <td>0</td>\n",
              "      <td>77</td>\n",
              "      <td>0.012490</td>\n",
              "      <td>6.131651</td>\n",
              "    </tr>\n",
              "    <tr>\n",
              "      <th>KY_CD</th>\n",
              "      <td>6165</td>\n",
              "      <td>0</td>\n",
              "      <td>47</td>\n",
              "      <td>0.007624</td>\n",
              "      <td>4.213032</td>\n",
              "    </tr>\n",
              "    <tr>\n",
              "      <th>LAW_CAT_CD</th>\n",
              "      <td>6165</td>\n",
              "      <td>0</td>\n",
              "      <td>3</td>\n",
              "      <td>0.000487</td>\n",
              "      <td>1.360312</td>\n",
              "    </tr>\n",
              "    <tr>\n",
              "      <th>LAW_CAT_CD</th>\n",
              "      <td>6165</td>\n",
              "      <td>0</td>\n",
              "      <td>3</td>\n",
              "      <td>0.000487</td>\n",
              "      <td>1.360312</td>\n",
              "    </tr>\n",
              "    <tr>\n",
              "      <th>BORO_NM</th>\n",
              "      <td>6165</td>\n",
              "      <td>0</td>\n",
              "      <td>5</td>\n",
              "      <td>0.000811</td>\n",
              "      <td>2.163910</td>\n",
              "    </tr>\n",
              "    <tr>\n",
              "      <th>PREM_TYP_DESC</th>\n",
              "      <td>6165</td>\n",
              "      <td>0</td>\n",
              "      <td>67</td>\n",
              "      <td>0.010868</td>\n",
              "      <td>3.543163</td>\n",
              "    </tr>\n",
              "    <tr>\n",
              "      <th>VIC_AGE_GROUP</th>\n",
              "      <td>6165</td>\n",
              "      <td>0</td>\n",
              "      <td>6</td>\n",
              "      <td>0.000973</td>\n",
              "      <td>2.219383</td>\n",
              "    </tr>\n",
              "    <tr>\n",
              "      <th>VIC_RACE</th>\n",
              "      <td>6165</td>\n",
              "      <td>0</td>\n",
              "      <td>7</td>\n",
              "      <td>0.001135</td>\n",
              "      <td>2.307847</td>\n",
              "    </tr>\n",
              "    <tr>\n",
              "      <th>VIC_SEX</th>\n",
              "      <td>6165</td>\n",
              "      <td>0</td>\n",
              "      <td>4</td>\n",
              "      <td>0.000649</td>\n",
              "      <td>1.851095</td>\n",
              "    </tr>\n",
              "    <tr>\n",
              "      <th>Latitude</th>\n",
              "      <td>6165</td>\n",
              "      <td>0</td>\n",
              "      <td>5305</td>\n",
              "      <td>0.860503</td>\n",
              "      <td>12.255372</td>\n",
              "    </tr>\n",
              "    <tr>\n",
              "      <th>Longitude</th>\n",
              "      <td>6165</td>\n",
              "      <td>0</td>\n",
              "      <td>5305</td>\n",
              "      <td>0.860503</td>\n",
              "      <td>12.255372</td>\n",
              "    </tr>\n",
              "    <tr>\n",
              "      <th>SUSP_AGE_GROUP</th>\n",
              "      <td>6165</td>\n",
              "      <td>0</td>\n",
              "      <td>6</td>\n",
              "      <td>0.000973</td>\n",
              "      <td>1.136401</td>\n",
              "    </tr>\n",
              "    <tr>\n",
              "      <th>SUSP_RACE</th>\n",
              "      <td>6165</td>\n",
              "      <td>0</td>\n",
              "      <td>7</td>\n",
              "      <td>0.001135</td>\n",
              "      <td>1.625738</td>\n",
              "    </tr>\n",
              "    <tr>\n",
              "      <th>SUSP_SEX</th>\n",
              "      <td>6165</td>\n",
              "      <td>0</td>\n",
              "      <td>4</td>\n",
              "      <td>0.000649</td>\n",
              "      <td>1.605845</td>\n",
              "    </tr>\n",
              "    <tr>\n",
              "      <th>JURISDICTION_CODE</th>\n",
              "      <td>6165</td>\n",
              "      <td>0</td>\n",
              "      <td>11</td>\n",
              "      <td>0.001784</td>\n",
              "      <td>0.689873</td>\n",
              "    </tr>\n",
              "    <tr>\n",
              "      <th>PATROL_BORO</th>\n",
              "      <td>6165</td>\n",
              "      <td>0</td>\n",
              "      <td>8</td>\n",
              "      <td>0.001298</td>\n",
              "      <td>2.898194</td>\n",
              "    </tr>\n",
              "    <tr>\n",
              "      <th>PD_CD</th>\n",
              "      <td>6165</td>\n",
              "      <td>0</td>\n",
              "      <td>204</td>\n",
              "      <td>0.033090</td>\n",
              "      <td>5.859943</td>\n",
              "    </tr>\n",
              "    <tr>\n",
              "      <th>HOUSING_PSA</th>\n",
              "      <td>6165</td>\n",
              "      <td>0</td>\n",
              "      <td>246</td>\n",
              "      <td>0.039903</td>\n",
              "      <td>1.107064</td>\n",
              "    </tr>\n",
              "  </tbody>\n",
              "</table>\n",
              "</div>"
            ],
            "text/plain": [
              "                   total  empty  distinct  uniqueness    entropy\n",
              "CMPLNT_NUM          6165      0      6165    1.000000  12.589885\n",
              "CMPLNT_FR_DT        6165      0      3356    0.544363  11.516650\n",
              "CMPLNT_FR_TM        6165      0       778    0.126196   7.912644\n",
              "ADDR_PCT_CD         6165      0        77    0.012490   6.131651\n",
              "KY_CD               6165      0        47    0.007624   4.213032\n",
              "LAW_CAT_CD          6165      0         3    0.000487   1.360312\n",
              "LAW_CAT_CD          6165      0         3    0.000487   1.360312\n",
              "BORO_NM             6165      0         5    0.000811   2.163910\n",
              "PREM_TYP_DESC       6165      0        67    0.010868   3.543163\n",
              "VIC_AGE_GROUP       6165      0         6    0.000973   2.219383\n",
              "VIC_RACE            6165      0         7    0.001135   2.307847\n",
              "VIC_SEX             6165      0         4    0.000649   1.851095\n",
              "Latitude            6165      0      5305    0.860503  12.255372\n",
              "Longitude           6165      0      5305    0.860503  12.255372\n",
              "SUSP_AGE_GROUP      6165      0         6    0.000973   1.136401\n",
              "SUSP_RACE           6165      0         7    0.001135   1.625738\n",
              "SUSP_SEX            6165      0         4    0.000649   1.605845\n",
              "JURISDICTION_CODE   6165      0        11    0.001784   0.689873\n",
              "PATROL_BORO         6165      0         8    0.001298   2.898194\n",
              "PD_CD               6165      0       204    0.033090   5.859943\n",
              "HOUSING_PSA         6165      0       246    0.039903   1.107064"
            ]
          },
          "metadata": {},
          "execution_count": 96
        }
      ]
    },
    {
      "cell_type": "markdown",
      "source": [
        "# For all the other datasets, lets calculate the precision and recall values\n",
        "\n",
        "Precision= TP/Selected values\n",
        "\n",
        "\n",
        "Recall=TP/relevent values\n",
        "\n",
        "NOTE: THE VALUES ARE TAKEN USING THE PROFILING STATS CREATED IN THE INDIVIDUAL NOTEBOOKS "
      ],
      "metadata": {
        "id": "kVwl8xGVOsS3"
      }
    },
    {
      "cell_type": "code",
      "source": [
        "import matplotlib.pyplot as plt"
      ],
      "metadata": {
        "id": "po0zFcs7Q77e"
      },
      "execution_count": 1,
      "outputs": []
    },
    {
      "cell_type": "code",
      "source": [
        "def plotRecPrec(prec, rec, cols, title):\n",
        "  plt.figure(figsize=(10, 8))\n",
        "  bar1=plt.bar(cols, rec)\n",
        "  bar2=plt.bar(cols, prec, width=0.2)\n",
        "  plt.title('Recall and precision values for '+title)\n",
        "  plt.xlabel(\"precision and recall\")\n",
        "  plt.ylabel(\"value\")\n",
        "  plt.legend([bar1, bar2], ['Recall', \"Precision\"])\n"
      ],
      "metadata": {
        "id": "OBKUSXmeQ2r1"
      },
      "execution_count": 8,
      "outputs": []
    },
    {
      "cell_type": "code",
      "source": [
        "#criminal dataset:\n",
        "interested_columns_1=['AGE_GROUP', 'SEX', 'RACE', 'BORO', 'PRECINCT_OF_OCCUR', 'Latitude', 'Longitude']\n",
        "recall=[99, 99, 99, 99, 99, 99, 99]\n",
        "precision=[98, 98, 91, 88, 96, 99, 99]\n",
        "\n",
        "plotRecPrec(precision, recall, interested_columns_1, 'Criminal Summons Data')"
      ],
      "metadata": {
        "colab": {
          "base_uri": "https://localhost:8080/",
          "height": 514
        },
        "id": "lY2qgnT_O1Ih",
        "outputId": "31c15409-8948-47aa-f354-ff1bad474dd8"
      },
      "execution_count": 9,
      "outputs": [
        {
          "output_type": "display_data",
          "data": {
            "image/png": "[encoded data removed]",
            "text/plain": [
              "<Figure size 720x576 with 1 Axes>"
            ]
          },
          "metadata": {
            "needs_background": "light"
          }
        }
      ]
    },
    {
      "cell_type": "code",
      "source": [
        "columns=['VIC_AGE_SEX', 'VIC_SEX', \"BORO\", 'VIC_RACE']\n",
        "prec=[76, 80, 85, 85]\n",
        "rec=[99, 98, 99, 98]\n",
        "plotRecPrec(prec, rec, columns, \"NYPD Shooting data\")"
      ],
      "metadata": {
        "colab": {
          "base_uri": "https://localhost:8080/",
          "height": 514
        },
        "id": "A9iYpV0-RrQ1",
        "outputId": "a1d1504c-6575-45cc-8d07-e6b44607bd44"
      },
      "execution_count": 13,
      "outputs": [
        {
          "output_type": "display_data",
          "data": {
            "image/png": "[encoded data removed]",
            "text/plain": [
              "<Figure size 720x576 with 1 Axes>"
            ]
          },
          "metadata": {
            "needs_background": "light"
          }
        }
      ]
    },
    {
      "cell_type": "code",
      "source": [
        "columns=['Boroughs', 'Latitude', 'Longitude', 'Create_date', 'Create_time']\n",
        "precision=[87, 75, 75, 81, 81]\n",
        "recall=[98, 98, 98, 98, 99]\n",
        "plotRecPrec(precision, recall, columns, 'Emergency Response Incidents Dataset')"
      ],
      "metadata": {
        "colab": {
          "base_uri": "https://localhost:8080/",
          "height": 514
        },
        "id": "nnudOiggVzli",
        "outputId": "0dd584ca-3e95-4f88-a8a3-4d3f98607d15"
      },
      "execution_count": 14,
      "outputs": [
        {
          "output_type": "display_data",
          "data": {
            "image/png": "[encoded data removed]",
            "text/plain": [
              "<Figure size 720x576 with 1 Axes>"
            ]
          },
          "metadata": {
            "needs_background": "light"
          }
        }
      ]
    }
  ]
}