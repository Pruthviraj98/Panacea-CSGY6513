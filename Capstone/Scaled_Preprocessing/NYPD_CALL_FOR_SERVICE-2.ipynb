{
  "nbformat": 4,
  "nbformat_minor": 0,
  "metadata": {
    "colab": {
      "name": "NYPD_CALL_FOR_SERVICE.ipynb",
      "provenance": [],
      "collapsed_sections": []
    },
    "kernelspec": {
      "name": "python3",
      "display_name": "Python 3"
    },
    "language_info": {
      "name": "python"
    }
  },
  "cells": [
    {
      "cell_type": "markdown",
      "source": [
        "# NYPD_CALL_FOR_SERVICE:\n",
        "\n",
        "a. To get the required columns, use this module: \n",
        "\n",
        "\n",
        "1.   get_area_of_interest(df_spark, interested_columns)\n",
        "\n",
        "\n",
        "b. Preprocessing pipeline: Pass your data through these functions. (if your columns fall in those categories)\n",
        "\n",
        "1.   valid_date_check(date)\n",
        "2.   valid_time_check(time)\n",
        "3.   reverse_geo_code_boros(df_spark, Latitude, Longitude, Boro, lat_index, long_index)\n",
        "4.   refine_age_group_race(df_spark, victim_age_group=None, suspect_age_group=None, suspect_race=None, victim_race=None)\n",
        "5.   refine_sex_gender_impute(df_spark, suspect_age=None, suspect_gender=None, victim_age=None, victim_gender=None)\n",
        "6.   refine_precinct_jur(df_spark, precinct=None, Jur_code=None)\n",
        "\n"
      ],
      "metadata": {
        "id": "EtwLWOuvVE1R"
      }
    },
    {
      "cell_type": "code",
      "execution_count": null,
      "metadata": {
        "colab": {
          "base_uri": "https://localhost:8080/"
        },
        "id": "z8dUqIINUs-T",
        "outputId": "1b3cce2a-4226-4735-f226-ce6ee89cbb13"
      },
      "outputs": [
        {
          "output_type": "stream",
          "name": "stdout",
          "text": [
            "Collecting pyspark\n",
            "  Downloading pyspark-3.2.0.tar.gz (281.3 MB)\n",
            "\u001b[K     |████████████████████████████████| 281.3 MB 36 kB/s \n",
            "\u001b[?25hCollecting py4j==0.10.9.2\n",
            "  Downloading py4j-0.10.9.2-py2.py3-none-any.whl (198 kB)\n",
            "\u001b[K     |████████████████████████████████| 198 kB 45.1 MB/s \n",
            "\u001b[?25hBuilding wheels for collected packages: pyspark\n",
            "  Building wheel for pyspark (setup.py) ... \u001b[?25l\u001b[?25hdone\n",
            "  Created wheel for pyspark: filename=pyspark-3.2.0-py2.py3-none-any.whl size=281805912 sha256=515252bcf9ed61485142c835d504b499301c0a2d4be35e00ffa3edbc9eac1cbd\n",
            "  Stored in directory: /root/.cache/pip/wheels/0b/de/d2/9be5d59d7331c6c2a7c1b6d1a4f463ce107332b1ecd4e80718\n",
            "Successfully built pyspark\n",
            "Installing collected packages: py4j, pyspark\n",
            "Successfully installed py4j-0.10.9.2 pyspark-3.2.0\n",
            "Collecting openclean\n",
            "  Downloading openclean-0.2.1-py3-none-any.whl (5.2 kB)\n",
            "Collecting openclean-core==0.4.1\n",
            "  Downloading openclean_core-0.4.1-py3-none-any.whl (267 kB)\n",
            "\u001b[K     |████████████████████████████████| 267 kB 5.2 MB/s \n",
            "\u001b[?25hCollecting jellyfish\n",
            "  Downloading jellyfish-0.8.9.tar.gz (137 kB)\n",
            "\u001b[K     |████████████████████████████████| 137 kB 74.0 MB/s \n",
            "\u001b[?25hRequirement already satisfied: dill in /usr/local/lib/python3.7/dist-packages (from openclean-core==0.4.1->openclean) (0.3.4)\n",
            "Collecting jsonschema>=3.2.0\n",
            "  Downloading jsonschema-4.2.1-py3-none-any.whl (69 kB)\n",
            "\u001b[K     |████████████████████████████████| 69 kB 7.9 MB/s \n",
            "\u001b[?25hRequirement already satisfied: requests in /usr/local/lib/python3.7/dist-packages (from openclean-core==0.4.1->openclean) (2.23.0)\n",
            "Collecting histore>=0.4.0\n",
            "  Downloading histore-0.4.1-py3-none-any.whl (109 kB)\n",
            "\u001b[K     |████████████████████████████████| 109 kB 54.2 MB/s \n",
            "\u001b[?25hRequirement already satisfied: appdirs>=1.4.4 in /usr/local/lib/python3.7/dist-packages (from openclean-core==0.4.1->openclean) (1.4.4)\n",
            "Requirement already satisfied: pandas>=1.0.0 in /usr/local/lib/python3.7/dist-packages (from openclean-core==0.4.1->openclean) (1.1.5)\n",
            "Collecting flowserv-core>=0.8.0\n",
            "  Downloading flowserv_core-0.9.2-py3-none-any.whl (260 kB)\n",
            "\u001b[K     |████████████████████████████████| 260 kB 44.2 MB/s \n",
            "\u001b[?25hRequirement already satisfied: scipy in /usr/local/lib/python3.7/dist-packages (from openclean-core==0.4.1->openclean) (1.4.1)\n",
            "Collecting refdata>=0.2.0\n",
            "  Downloading refdata-0.2.0-py3-none-any.whl (37 kB)\n",
            "Requirement already satisfied: future in /usr/local/lib/python3.7/dist-packages (from openclean-core==0.4.1->openclean) (0.16.0)\n",
            "Requirement already satisfied: scikit-learn in /usr/local/lib/python3.7/dist-packages (from openclean-core==0.4.1->openclean) (1.0.1)\n",
            "Requirement already satisfied: python-dateutil in /usr/local/lib/python3.7/dist-packages (from openclean-core==0.4.1->openclean) (2.8.2)\n",
            "Collecting gitpython\n",
            "  Downloading GitPython-3.1.24-py3-none-any.whl (180 kB)\n",
            "\u001b[K     |████████████████████████████████| 180 kB 52.1 MB/s \n",
            "\u001b[?25hCollecting pyyaml>=5.1\n",
            "  Downloading PyYAML-6.0-cp37-cp37m-manylinux_2_5_x86_64.manylinux1_x86_64.manylinux_2_12_x86_64.manylinux2010_x86_64.whl (596 kB)\n",
            "\u001b[K     |████████████████████████████████| 596 kB 47.4 MB/s \n",
            "\u001b[?25hCollecting passlib\n",
            "  Downloading passlib-1.7.4-py2.py3-none-any.whl (525 kB)\n",
            "\u001b[K     |████████████████████████████████| 525 kB 71.5 MB/s \n",
            "\u001b[?25hRequirement already satisfied: Click in /usr/local/lib/python3.7/dist-packages (from flowserv-core>=0.8.0->openclean-core==0.4.1->openclean) (7.1.2)\n",
            "Collecting pyyaml-include\n",
            "  Downloading pyyaml_include-1.2.post2-py3-none-any.whl (20 kB)\n",
            "Requirement already satisfied: SQLAlchemy>=1.3.18 in /usr/local/lib/python3.7/dist-packages (from flowserv-core>=0.8.0->openclean-core==0.4.1->openclean) (1.4.27)\n",
            "Collecting paramiko\n",
            "  Downloading paramiko-2.8.1-py2.py3-none-any.whl (206 kB)\n",
            "\u001b[K     |████████████████████████████████| 206 kB 65.5 MB/s \n",
            "\u001b[?25hRequirement already satisfied: psutil in /usr/local/lib/python3.7/dist-packages (from histore>=0.4.0->openclean-core==0.4.1->openclean) (5.4.8)\n",
            "Requirement already satisfied: attrs>=17.4.0 in /usr/local/lib/python3.7/dist-packages (from jsonschema>=3.2.0->openclean-core==0.4.1->openclean) (21.2.0)\n",
            "Requirement already satisfied: pyrsistent!=0.17.0,!=0.17.1,!=0.17.2,>=0.14.0 in /usr/local/lib/python3.7/dist-packages (from jsonschema>=3.2.0->openclean-core==0.4.1->openclean) (0.18.0)\n",
            "Requirement already satisfied: importlib-metadata in /usr/local/lib/python3.7/dist-packages (from jsonschema>=3.2.0->openclean-core==0.4.1->openclean) (4.8.2)\n",
            "Requirement already satisfied: importlib-resources>=1.4.0 in /usr/local/lib/python3.7/dist-packages (from jsonschema>=3.2.0->openclean-core==0.4.1->openclean) (5.4.0)\n",
            "Requirement already satisfied: zipp>=3.1.0 in /usr/local/lib/python3.7/dist-packages (from importlib-resources>=1.4.0->jsonschema>=3.2.0->openclean-core==0.4.1->openclean) (3.6.0)\n",
            "Requirement already satisfied: pytz>=2017.2 in /usr/local/lib/python3.7/dist-packages (from pandas>=1.0.0->openclean-core==0.4.1->openclean) (2018.9)\n",
            "Requirement already satisfied: numpy>=1.15.4 in /usr/local/lib/python3.7/dist-packages (from pandas>=1.0.0->openclean-core==0.4.1->openclean) (1.19.5)\n",
            "Requirement already satisfied: six>=1.5 in /usr/local/lib/python3.7/dist-packages (from python-dateutil->openclean-core==0.4.1->openclean) (1.15.0)\n",
            "Collecting datasize>=1.0.0\n",
            "  Downloading datasize-1.0.0.tar.gz (149 kB)\n",
            "\u001b[K     |████████████████████████████████| 149 kB 46.3 MB/s \n",
            "\u001b[?25hRequirement already satisfied: pooch>=1.3.0 in /usr/local/lib/python3.7/dist-packages (from refdata>=0.2.0->openclean-core==0.4.1->openclean) (1.5.2)\n",
            "Collecting tableprint\n",
            "  Downloading tableprint-0.9.1-py3-none-any.whl (6.8 kB)\n",
            "Requirement already satisfied: packaging in /usr/local/lib/python3.7/dist-packages (from pooch>=1.3.0->refdata>=0.2.0->openclean-core==0.4.1->openclean) (21.3)\n",
            "Requirement already satisfied: greenlet!=0.4.17 in /usr/local/lib/python3.7/dist-packages (from SQLAlchemy>=1.3.18->flowserv-core>=0.8.0->openclean-core==0.4.1->openclean) (1.1.2)\n",
            "Requirement already satisfied: typing-extensions>=3.7.4.3 in /usr/local/lib/python3.7/dist-packages (from gitpython->flowserv-core>=0.8.0->openclean-core==0.4.1->openclean) (3.10.0.2)\n",
            "Collecting gitdb<5,>=4.0.1\n",
            "  Downloading gitdb-4.0.9-py3-none-any.whl (63 kB)\n",
            "\u001b[K     |████████████████████████████████| 63 kB 1.7 MB/s \n",
            "\u001b[?25hCollecting smmap<6,>=3.0.1\n",
            "  Downloading smmap-5.0.0-py3-none-any.whl (24 kB)\n",
            "Requirement already satisfied: pyparsing!=3.0.5,>=2.0.2 in /usr/local/lib/python3.7/dist-packages (from packaging->pooch>=1.3.0->refdata>=0.2.0->openclean-core==0.4.1->openclean) (3.0.6)\n",
            "Collecting pynacl>=1.0.1\n",
            "  Downloading PyNaCl-1.4.0-cp35-abi3-manylinux1_x86_64.whl (961 kB)\n",
            "\u001b[K     |████████████████████████████████| 961 kB 55.1 MB/s \n",
            "\u001b[?25hCollecting cryptography>=2.5\n",
            "  Downloading cryptography-36.0.0-cp36-abi3-manylinux_2_24_x86_64.whl (3.6 MB)\n",
            "\u001b[K     |████████████████████████████████| 3.6 MB 46.9 MB/s \n",
            "\u001b[?25hCollecting bcrypt>=3.1.3\n",
            "  Downloading bcrypt-3.2.0-cp36-abi3-manylinux2010_x86_64.whl (63 kB)\n",
            "\u001b[K     |████████████████████████████████| 63 kB 2.6 MB/s \n",
            "\u001b[?25hRequirement already satisfied: cffi>=1.1 in /usr/local/lib/python3.7/dist-packages (from bcrypt>=3.1.3->paramiko->flowserv-core>=0.8.0->openclean-core==0.4.1->openclean) (1.15.0)\n",
            "Requirement already satisfied: pycparser in /usr/local/lib/python3.7/dist-packages (from cffi>=1.1->bcrypt>=3.1.3->paramiko->flowserv-core>=0.8.0->openclean-core==0.4.1->openclean) (2.21)\n",
            "Collecting pyyaml>=5.1\n",
            "  Downloading PyYAML-5.4.1-cp37-cp37m-manylinux1_x86_64.whl (636 kB)\n",
            "\u001b[K     |████████████████████████████████| 636 kB 59.7 MB/s \n",
            "\u001b[?25hRequirement already satisfied: chardet<4,>=3.0.2 in /usr/local/lib/python3.7/dist-packages (from requests->openclean-core==0.4.1->openclean) (3.0.4)\n",
            "Requirement already satisfied: idna<3,>=2.5 in /usr/local/lib/python3.7/dist-packages (from requests->openclean-core==0.4.1->openclean) (2.10)\n",
            "Requirement already satisfied: certifi>=2017.4.17 in /usr/local/lib/python3.7/dist-packages (from requests->openclean-core==0.4.1->openclean) (2021.10.8)\n",
            "Requirement already satisfied: urllib3!=1.25.0,!=1.25.1,<1.26,>=1.21.1 in /usr/local/lib/python3.7/dist-packages (from requests->openclean-core==0.4.1->openclean) (1.24.3)\n",
            "Requirement already satisfied: joblib>=0.11 in /usr/local/lib/python3.7/dist-packages (from scikit-learn->openclean-core==0.4.1->openclean) (1.1.0)\n",
            "Requirement already satisfied: threadpoolctl>=2.0.0 in /usr/local/lib/python3.7/dist-packages (from scikit-learn->openclean-core==0.4.1->openclean) (3.0.0)\n",
            "Requirement already satisfied: wcwidth in /usr/local/lib/python3.7/dist-packages (from tableprint->refdata>=0.2.0->openclean-core==0.4.1->openclean) (0.2.5)\n",
            "Building wheels for collected packages: datasize, jellyfish\n",
            "  Building wheel for datasize (setup.py) ... \u001b[?25l\u001b[?25hdone\n",
            "  Created wheel for datasize: filename=datasize-1.0.0-py2.py3-none-any.whl size=155047 sha256=a89cf361acd9ffc1f69f3e9f6e24b10e48e6a84676e0be8a85a2172743f91048\n",
            "  Stored in directory: /root/.cache/pip/wheels/f7/b5/32/d8836896da6aca7f9c5748670ea6110d1385c262bf3abcca30\n",
            "  Building wheel for jellyfish (setup.py) ... \u001b[?25l\u001b[?25hdone\n",
            "  Created wheel for jellyfish: filename=jellyfish-0.8.9-cp37-cp37m-linux_x86_64.whl size=73237 sha256=5a3568ad06730c8d67d0f66b2ae27416eaf99a7cbd1fcb2655f50581c39e4344\n",
            "  Stored in directory: /root/.cache/pip/wheels/32/a9/ef/5d8742e72deaf0d1de327a180d008c2c0299367581800ea73f\n",
            "Successfully built datasize jellyfish\n",
            "Installing collected packages: smmap, pyyaml, pynacl, gitdb, cryptography, bcrypt, tableprint, pyyaml-include, passlib, paramiko, jsonschema, gitpython, datasize, refdata, jellyfish, histore, flowserv-core, openclean-core, openclean\n",
            "  Attempting uninstall: pyyaml\n",
            "    Found existing installation: PyYAML 3.13\n",
            "    Uninstalling PyYAML-3.13:\n",
            "      Successfully uninstalled PyYAML-3.13\n",
            "  Attempting uninstall: jsonschema\n",
            "    Found existing installation: jsonschema 2.6.0\n",
            "    Uninstalling jsonschema-2.6.0:\n",
            "      Successfully uninstalled jsonschema-2.6.0\n",
            "\u001b[31mERROR: pip's dependency resolver does not currently take into account all the packages that are installed. This behaviour is the source of the following dependency conflicts.\n",
            "nbclient 0.5.9 requires jupyter-client>=6.1.5, but you have jupyter-client 5.3.5 which is incompatible.\u001b[0m\n",
            "Successfully installed bcrypt-3.2.0 cryptography-36.0.0 datasize-1.0.0 flowserv-core-0.9.2 gitdb-4.0.9 gitpython-3.1.24 histore-0.4.1 jellyfish-0.8.9 jsonschema-4.2.1 openclean-0.2.1 openclean-core-0.4.1 paramiko-2.8.1 passlib-1.7.4 pynacl-1.4.0 pyyaml-5.4.1 pyyaml-include-1.2.post2 refdata-0.2.0 smmap-5.0.0 tableprint-0.9.1\n"
          ]
        }
      ],
      "source": [
        "!pip install pyspark\n",
        "!pip install openclean"
      ]
    },
    {
      "cell_type": "code",
      "source": [
        "#importing packages required\n",
        "from pyspark import SparkContext, SparkConf\n",
        "import os\n",
        "import requests\n",
        "from six.moves import urllib\n",
        "import sys \n",
        "import pandas as pd\n",
        "import matplotlib \n",
        "import matplotlib as plt\n",
        "import numpy as np\n",
        "import scipy as sp\n",
        "import IPython\n",
        "from IPython import display\n",
        "import sklearn\n",
        "import random\n",
        "import time\n",
        "import warnings\n",
        "import re\n",
        "import matplotlib.pyplot as plt\n",
        "%matplotlib inline\n",
        "from openclean.pipeline import stream\n",
        "from openclean.profiling.column import DefaultColumnProfiler\n",
        "from openclean.data.source.socrata import Socrata\n",
        "from openclean.pipeline import stream\n",
        "from openclean.function.eval.datatype import IsDatetime\n",
        "import datetime\n",
        "import pandas as pd\n",
        "from pyspark.sql import SparkSession, Row\n",
        "from pyspark.sql.functions import udf, struct\n",
        "from pyspark.sql.types import StringType"
      ],
      "metadata": {
        "id": "fOq89ZjQU0yv"
      },
      "execution_count": null,
      "outputs": []
    },
    {
      "cell_type": "code",
      "source": [
        "from geopy.geocoders import ArcGIS\n",
        "geocoder=ArcGIS()\n",
        "#example:\n",
        "geocoder.reverse('40.61157006600007, -73.74736517199995')"
      ],
      "metadata": {
        "colab": {
          "base_uri": "https://localhost:8080/"
        },
        "id": "vjam1thSU34J",
        "outputId": "db23cfd6-8bf3-457e-d58c-cb2184ec6ff7"
      },
      "execution_count": null,
      "outputs": [
        {
          "output_type": "execute_result",
          "data": {
            "text/plain": [
              "Location(11-64 Redfern Ave, Far Rockaway, New York 11691, USA, (40.61161616586613, -73.74738361194636, 0.0))"
            ]
          },
          "metadata": {},
          "execution_count": 111
        }
      ]
    },
    {
      "cell_type": "code",
      "source": [
        "#Creating Spark Session\n",
        "sc = SparkContext.getOrCreate();\n",
        "spark = SparkSession(sc)"
      ],
      "metadata": {
        "id": "Jye4yIQdU7WB"
      },
      "execution_count": null,
      "outputs": []
    },
    {
      "cell_type": "code",
      "source": [
        "#Downloading file from NYC Open Data\n",
        "#https://drive.google.com/uc?export=download&id=1tGcOWZ_eHLYYa5tH7ZavALeTgtdmRxlL\n",
        "#File uploaded on drive to make it available for all\n",
        "\n",
        "fn_src = 'https://drive.google.com/uc?export=download&id=1tGcOWZ_eHLYYa5tH7ZavALeTgtdmRxlL'\n",
        "fn_dst = '/content/NYPD_CALL_FOR_SERVICE.csv'\n",
        "\n",
        "from six.moves import urllib\n",
        "\n",
        "if os.path.isfile(fn_dst):\n",
        "    print('File has already been downloaded', fn_dst)\n",
        "else:\n",
        "    print('Fetching file. This may take a while...', fn_dst)\n",
        "    urllib.request.urlretrieve(fn_src, fn_dst)\n",
        "    print('File %s has been downloaded' % fn_dst)"
      ],
      "metadata": {
        "colab": {
          "base_uri": "https://localhost:8080/"
        },
        "id": "MkeHipz9U-Rj",
        "outputId": "131ff85b-6d95-42d9-f16a-2eacfbd63b91"
      },
      "execution_count": null,
      "outputs": [
        {
          "output_type": "stream",
          "name": "stdout",
          "text": [
            "File has already been downloaded /content/NYPD_CALL_FOR_SERVICE.csv\n"
          ]
        }
      ]
    },
    {
      "cell_type": "code",
      "source": [
        "src = 'https://data.beta.nyc/dataset/0ff93d2d-90ba-457c-9f7e-39e47bf2ac5f/resource/7caac650-d082-4aea-9f9b-3681d568e8a5/download/nyc_zip_borough_neighborhoods_pop.csv'\n",
        "dst = 'nyc_zip_borough_neighborhoods_pop.csv'\n",
        "\n",
        "#https://data.cityofnewyork.us/resource/h9gi-nx95.csv\n",
        "\n",
        "from six.moves import urllib\n",
        "\n",
        "if os.path.isfile(dst):\n",
        "    print('File %s has already been downloaded' % dst)\n",
        "else:\n",
        "    urllib.request.urlretrieve(src, dst)\n",
        "    print('File %s has been downloaded' % dst)"
      ],
      "metadata": {
        "colab": {
          "base_uri": "https://localhost:8080/"
        },
        "id": "bkp1LzrKWM99",
        "outputId": "c590a4aa-4925-460b-b4e4-1d51e5035bde"
      },
      "execution_count": null,
      "outputs": [
        {
          "output_type": "stream",
          "name": "stdout",
          "text": [
            "File nyc_zip_borough_neighborhoods_pop.csv has already been downloaded\n"
          ]
        }
      ]
    },
    {
      "cell_type": "code",
      "source": [
        "#similarly, lets get them into pyspark rdd\n",
        "def get_area_of_interest(df_spark, interested_columns):\n",
        "  df_spark=df_spark.select(interested_columns)\n",
        "  return df_spark"
      ],
      "metadata": {
        "id": "QSORcsBrVfcD"
      },
      "execution_count": null,
      "outputs": []
    },
    {
      "cell_type": "markdown",
      "source": [
        "# 2. Module for date related columns\n",
        "\n",
        "As the dataset is for the data from 2006 to 2020, we can see that there is data from unknown format of \"1010-05-14\" to the year 2020. We need to clean this. Over here, we remove the null values where the complaint date is <2006. "
      ],
      "metadata": {
        "id": "up2fhHPMhWXT"
      }
    },
    {
      "cell_type": "code",
      "source": [
        "import datetime\n",
        "def valid_date_check(date, format):\n",
        "  if isinstance(date, datetime.datetime):\n",
        "    date=str(date.date())\n",
        "  if date==None or date==\" \" or date==\"\":\n",
        "      return False\n",
        "  else:\n",
        "    date_cpy=date\n",
        "    split_date=date.split(\"-\")\n",
        "    format_date=format.split(\"-\")\n",
        "    if len(split_date)!=3 and len(format_date)!=3:\n",
        "      date=date.split(\"/\")\n",
        "      format=format.split(\"/\")\n",
        "    else:\n",
        "      date=split_date\n",
        "      format=format_date\n",
        "    if len(date)!=3:\n",
        "      return False\n",
        "    try:\n",
        "      year=int(date[format.index('yyyy')])\n",
        "      month=int(date[format.index('mm')])\n",
        "      day=int(date[format.index('dd')])\n",
        "      if year>=2006 and year<=2020:\n",
        "        try:\n",
        "          refined_date=datetime.datetime(year, month, day)\n",
        "          return True\n",
        "        except:\n",
        "          return False\n",
        "      else:\n",
        "        return False\n",
        "    except:\n",
        "      return False"
      ],
      "metadata": {
        "id": "kml5KmPEeAK4"
      },
      "execution_count": null,
      "outputs": []
    },
    {
      "cell_type": "markdown",
      "source": [
        "# 3. Module for time related columns\n",
        "\n",
        "Similarly, lets check for the time as well. Here we must have time between \n",
        "the standard 24 hours."
      ],
      "metadata": {
        "id": "3OU8ZkkIhSf5"
      }
    },
    {
      "cell_type": "code",
      "source": [
        "#Deleting invalid time\n",
        "def valid_time_check(time):\n",
        "  if time==None or time==\" \" or time==\"\":\n",
        "    return False\n",
        "  else :\n",
        "    cpy_time=time\n",
        "    time=time.split(\":\")\n",
        "    try:\n",
        "      hour=int(time[0])\n",
        "      mins=int(time[1])\n",
        "      secs= int(time[2])\n",
        "      # if hours is 24 then change it to 0 hours\n",
        "      if hour == 24 and mins== 0 and secs == 0:\n",
        "        hour=0\n",
        "      try:\n",
        "        newTime= datetime.time(hour,mins,secs)\n",
        "        return True\n",
        "      except :\n",
        "        return False\n",
        "    except:\n",
        "      return False"
      ],
      "metadata": {
        "id": "6LroG_OQeCe9"
      },
      "execution_count": null,
      "outputs": []
    },
    {
      "cell_type": "markdown",
      "source": [
        "#4. Module for Age Group and Race columns\n",
        "The module works for only those columns whose column names are passed"
      ],
      "metadata": {
        "id": "3gzYDuVwhO3V"
      }
    },
    {
      "cell_type": "code",
      "source": [
        "def refine_age_group_race(df_spark, victim_age_group=None, suspect_age_group=None, suspect_race=None, victim_race=None):\n",
        "  #params: dataframe, col names for the respective age, gender cols\n",
        "  if victim_age_group:\n",
        "    df_spark = df_spark.na.fill(\"UNKNOWN\",subset=[victim_age_group])\n",
        "  if suspect_age_group:\n",
        "    df_spark = df_spark.na.fill(\"UNKNOWN\",subset=[suspect_age_group])\n",
        "  if suspect_race:\n",
        "    df_spark = df_spark.na.fill(\"UNKNOWN\",subset=[suspect_race])\n",
        "  if victim_race:\n",
        "    df_spark = df_spark.na.fill(\"UNKNOWN\",subset=[victim_race])\n",
        "  return df_spark"
      ],
      "metadata": {
        "id": "7r5AKpmteHSg"
      },
      "execution_count": null,
      "outputs": []
    },
    {
      "cell_type": "markdown",
      "source": [
        "# 5. Module for Gender, Race Columns for suspects and victims\n",
        "\n",
        "The module works for only those columns whose column names are passed"
      ],
      "metadata": {
        "id": "69arM9hIhOIK"
      }
    },
    {
      "cell_type": "code",
      "source": [
        "def refine_sex_gender_impute(df_spark, suspect_age=None, suspect_gender=None, victim_age=None, victim_gender=None):\n",
        "  #params: dataframe, col names for the respective age, gender cols\n",
        "  if suspect_age:\n",
        "    df_spark=df_spark.na.fill(\"U\",subset=[suspect_age])\n",
        "  if victim_age:\n",
        "    df_spark=df_spark.na.fill(\"U\",subset=[victim_age])\n",
        "  if suspect_gender:\n",
        "    df_spark = df_spark.na.fill(\"UNKNOWN\",subset=[suspect_gender])\n",
        "  if victim_gender:\n",
        "    df_spark = df_spark.na.fill(\"UNKNOWN\",subset=[victim_gender])\n",
        "  return df_spark"
      ],
      "metadata": {
        "id": "htQ2JRcseLNN"
      },
      "execution_count": null,
      "outputs": []
    },
    {
      "cell_type": "markdown",
      "source": [
        "# 6.a: Module for Precinct, Jurisdiction Code:\n",
        "  dropping the null values\n",
        "\n",
        "  The module works for only those columns whose column names are passed along with the df"
      ],
      "metadata": {
        "id": "d_NovxDghKwS"
      }
    },
    {
      "cell_type": "code",
      "source": [
        "def valid_precinct_check(precinct):\n",
        "  if precinct==None or precinct==\" \" or precinct==\"\":\n",
        "    return False\n",
        "  else :\n",
        "    return True\n",
        "\n",
        "def valid_jur_check(jur):\n",
        "  if jur==None or jur==\" \" or jur==\"\":\n",
        "    return False\n",
        "  else :\n",
        "    return True"
      ],
      "metadata": {
        "id": "niQRHl7CeQR8"
      },
      "execution_count": null,
      "outputs": []
    },
    {
      "cell_type": "markdown",
      "source": [
        "# 6.b Module for Reverse Geocoding the boroughs using latitudes and longitudes.\n",
        "\n",
        "1. First we will remove the rows where latitude, longitude and boroughs are null. (around 450 tuples removed)\n",
        "2. Then, where the boroughs are empty, take the latitude and longitude value and reverse geocode it using the module \"reverseGeocoder\".\n",
        "3. Impute the borough name retrived in the empty space.\n",
        "\n",
        "\n",
        "### USING MASTER DATASET\n",
        "In the case of geocoding, geocoder gives us the zipcodes based on the latitude and longitude values. Inturn, we can use the master dataset of zipcodes inorder to retrive the borough names\n",
        "\n",
        "\n",
        "\n",
        "NOTE: The dataset can be downloaded from : https://data.beta.nyc/en/dataset/pediacities-nyc-neighborhoods/resource/7caac650-d082-4aea-9f9b-3681d568e8a5"
      ],
      "metadata": {
        "id": "YtxVasX_g8OJ"
      }
    },
    {
      "cell_type": "code",
      "source": [
        "def reverse_geo_code_boros(df_spark, Latitude, Longitude, Boro, lat_index, long_index):\n",
        "  #select data where we have to impute\n",
        "  df_temp_boro_clean=df_spark.filter((df_spark[Latitude].isNotNull()) & (df_spark[Longitude].isNotNull()))\n",
        "  boro_cleaner=df_temp_boro_clean.filter((df_temp_boro_clean[Boro].isNull())|(df_temp_boro_clean[Boro]=='NEW YORK'))\n",
        "\n",
        "  # print(\"We have \"+ str(boro_cleaner.count())+ \" points to impute\")\n",
        "  print(\"___intializing Zip Code Look up ____\")\n",
        "  print(\"____ imputing the points ____\")\n",
        "\n",
        "\n",
        "  #use your path for master dataset here. \n",
        "  df_zips=pd.read_csv(dst)\n",
        "  zip_master={}\n",
        "  zips=df_zips['zip']\n",
        "  boro=df_zips['borough']\n",
        "  for i, j in zip(zips, boro):\n",
        "    zip_master[i]=j\n",
        "  zip_master[10020]='Manhattan'\n",
        "  zip_master[11249]='Brooklyn'\n",
        "\n",
        "  def reverseGeoCoder(latitude, longitude):\n",
        "    loc=geocoder.reverse(str(latitude)+', '+str(longitude), timeout=1000)\n",
        "    zipCode=str(loc).split(\",\")[2][-5:]\n",
        "    if not int(zipCode) in zip_master:\n",
        "      boro=\"UNKNOWN\"\n",
        "    else:\n",
        "      boro=zip_master[int(zipCode)]\n",
        "    boro=boro.upper()\n",
        "    return boro\n",
        "\n",
        "  #creating UD function\n",
        "  ud_func= udf(reverseGeoCoder, StringType())\n",
        "  boro_cleaned_dataframe = boro_cleaner.withColumn(Boro, ud_func(boro_cleaner[lat_index], boro_cleaner[long_index]))\n",
        "\n",
        "  #joining the imputed dataset to the maindataset and returning\n",
        "\n",
        "  joiner_dataset=df_spark.filter((df_spark[Latitude].isNotNull()) & (df_spark[Boro]!='NEW YORK') & (df_spark[Longitude].isNotNull()) & (df_spark[Boro].isNotNull()))\n",
        "  fin_df=joiner_dataset.union(boro_cleaned_dataframe)\n",
        "  return fin_df"
      ],
      "metadata": {
        "id": "tGGvupG0eQsb"
      },
      "execution_count": null,
      "outputs": []
    },
    {
      "cell_type": "markdown",
      "source": [
        "NYPD Call for service is of 20M Rows of data.\n",
        "\n",
        "The size of dataset ~ 20M tuples. \n",
        "So, we need around 500 data points for 95% confidence level \n",
        "with 10% interval. \n",
        "\n",
        "The size of data is almost 1% of the data. So we can get it into our df now"
      ],
      "metadata": {
        "id": "aWqXQ6Xmgz70"
      }
    },
    {
      "cell_type": "code",
      "source": [
        "df_spark=spark.read.option(\"header\",True).csv(fn_dst,inferSchema=True)\n",
        "df_spark=df_spark.sample(0.5)\n",
        "df_spark.count()"
      ],
      "metadata": {
        "colab": {
          "base_uri": "https://localhost:8080/"
        },
        "id": "nq0_3ZPweYnA",
        "outputId": "e00ff8a5-ca7c-4860-8132-e9876c28fcec"
      },
      "execution_count": null,
      "outputs": [
        {
          "output_type": "execute_result",
          "data": {
            "text/plain": [
              "467"
            ]
          },
          "metadata": {},
          "execution_count": 123
        }
      ]
    },
    {
      "cell_type": "markdown",
      "source": [
        "# PROFILING TO CHECK FOR NULL VALUES IN ALL THE COLUMNS"
      ],
      "metadata": {
        "id": "vQkebErhmlXx"
      }
    },
    {
      "cell_type": "code",
      "source": [
        "pandasDF = df_spark.toPandas()\n",
        "ds=stream(pandasDF)\n",
        "#Creating profile of our dataset\n",
        "profiles = ds.profile(default_profiler=DefaultColumnProfiler)\n",
        "profiles.stats()"
      ],
      "metadata": {
        "colab": {
          "base_uri": "https://localhost:8080/",
          "height": 638
        },
        "id": "Y0ftSoh7mU0y",
        "outputId": "1114d4bf-3985-43d4-f4e7-dad5e57e5e5c"
      },
      "execution_count": null,
      "outputs": [
        {
          "output_type": "execute_result",
          "data": {
            "text/html": [
              "<div>\n",
              "<style scoped>\n",
              "    .dataframe tbody tr th:only-of-type {\n",
              "        vertical-align: middle;\n",
              "    }\n",
              "\n",
              "    .dataframe tbody tr th {\n",
              "        vertical-align: top;\n",
              "    }\n",
              "\n",
              "    .dataframe thead th {\n",
              "        text-align: right;\n",
              "    }\n",
              "</style>\n",
              "<table border=\"1\" class=\"dataframe\">\n",
              "  <thead>\n",
              "    <tr style=\"text-align: right;\">\n",
              "      <th></th>\n",
              "      <th>total</th>\n",
              "      <th>empty</th>\n",
              "      <th>distinct</th>\n",
              "      <th>uniqueness</th>\n",
              "      <th>entropy</th>\n",
              "    </tr>\n",
              "  </thead>\n",
              "  <tbody>\n",
              "    <tr>\n",
              "      <th>objectid</th>\n",
              "      <td>467</td>\n",
              "      <td>0</td>\n",
              "      <td>467</td>\n",
              "      <td>1.000000</td>\n",
              "      <td>8.867279</td>\n",
              "    </tr>\n",
              "    <tr>\n",
              "      <th>cad_evnt_id</th>\n",
              "      <td>467</td>\n",
              "      <td>0</td>\n",
              "      <td>467</td>\n",
              "      <td>1.000000</td>\n",
              "      <td>8.867279</td>\n",
              "    </tr>\n",
              "    <tr>\n",
              "      <th>create_date</th>\n",
              "      <td>467</td>\n",
              "      <td>0</td>\n",
              "      <td>7</td>\n",
              "      <td>0.014989</td>\n",
              "      <td>2.315489</td>\n",
              "    </tr>\n",
              "    <tr>\n",
              "      <th>incident_date</th>\n",
              "      <td>467</td>\n",
              "      <td>0</td>\n",
              "      <td>7</td>\n",
              "      <td>0.014989</td>\n",
              "      <td>2.315489</td>\n",
              "    </tr>\n",
              "    <tr>\n",
              "      <th>incident_time</th>\n",
              "      <td>467</td>\n",
              "      <td>0</td>\n",
              "      <td>1</td>\n",
              "      <td>0.002141</td>\n",
              "      <td>0.000000</td>\n",
              "    </tr>\n",
              "    <tr>\n",
              "      <th>nypd_pct_cd</th>\n",
              "      <td>467</td>\n",
              "      <td>0</td>\n",
              "      <td>3</td>\n",
              "      <td>0.006424</td>\n",
              "      <td>0.477639</td>\n",
              "    </tr>\n",
              "    <tr>\n",
              "      <th>boro_nm</th>\n",
              "      <td>467</td>\n",
              "      <td>0</td>\n",
              "      <td>2</td>\n",
              "      <td>0.004283</td>\n",
              "      <td>0.399457</td>\n",
              "    </tr>\n",
              "    <tr>\n",
              "      <th>patrl_boro_nm</th>\n",
              "      <td>467</td>\n",
              "      <td>0</td>\n",
              "      <td>2</td>\n",
              "      <td>0.004283</td>\n",
              "      <td>0.399457</td>\n",
              "    </tr>\n",
              "    <tr>\n",
              "      <th>geo_cd_x</th>\n",
              "      <td>467</td>\n",
              "      <td>0</td>\n",
              "      <td>236</td>\n",
              "      <td>0.505353</td>\n",
              "      <td>7.393382</td>\n",
              "    </tr>\n",
              "    <tr>\n",
              "      <th>geo_cd_y</th>\n",
              "      <td>467</td>\n",
              "      <td>0</td>\n",
              "      <td>236</td>\n",
              "      <td>0.505353</td>\n",
              "      <td>7.393382</td>\n",
              "    </tr>\n",
              "    <tr>\n",
              "      <th>radio_code</th>\n",
              "      <td>467</td>\n",
              "      <td>0</td>\n",
              "      <td>28</td>\n",
              "      <td>0.059957</td>\n",
              "      <td>2.753881</td>\n",
              "    </tr>\n",
              "    <tr>\n",
              "      <th>typ_desc</th>\n",
              "      <td>467</td>\n",
              "      <td>0</td>\n",
              "      <td>28</td>\n",
              "      <td>0.059957</td>\n",
              "      <td>2.753881</td>\n",
              "    </tr>\n",
              "    <tr>\n",
              "      <th>cip_jobs</th>\n",
              "      <td>467</td>\n",
              "      <td>0</td>\n",
              "      <td>1</td>\n",
              "      <td>0.002141</td>\n",
              "      <td>0.000000</td>\n",
              "    </tr>\n",
              "    <tr>\n",
              "      <th>add_ts</th>\n",
              "      <td>467</td>\n",
              "      <td>0</td>\n",
              "      <td>467</td>\n",
              "      <td>1.000000</td>\n",
              "      <td>8.867279</td>\n",
              "    </tr>\n",
              "    <tr>\n",
              "      <th>disp_ts</th>\n",
              "      <td>467</td>\n",
              "      <td>0</td>\n",
              "      <td>467</td>\n",
              "      <td>1.000000</td>\n",
              "      <td>8.867279</td>\n",
              "    </tr>\n",
              "    <tr>\n",
              "      <th>arrivd_ts</th>\n",
              "      <td>467</td>\n",
              "      <td>0</td>\n",
              "      <td>412</td>\n",
              "      <td>0.882227</td>\n",
              "      <td>8.170894</td>\n",
              "    </tr>\n",
              "    <tr>\n",
              "      <th>closng_ts</th>\n",
              "      <td>467</td>\n",
              "      <td>0</td>\n",
              "      <td>467</td>\n",
              "      <td>1.000000</td>\n",
              "      <td>8.867279</td>\n",
              "    </tr>\n",
              "    <tr>\n",
              "      <th>latitude</th>\n",
              "      <td>467</td>\n",
              "      <td>0</td>\n",
              "      <td>236</td>\n",
              "      <td>0.505353</td>\n",
              "      <td>7.393382</td>\n",
              "    </tr>\n",
              "    <tr>\n",
              "      <th>longitude</th>\n",
              "      <td>467</td>\n",
              "      <td>0</td>\n",
              "      <td>236</td>\n",
              "      <td>0.505353</td>\n",
              "      <td>7.393382</td>\n",
              "    </tr>\n",
              "  </tbody>\n",
              "</table>\n",
              "</div>"
            ],
            "text/plain": [
              "               total  empty  distinct  uniqueness   entropy\n",
              "objectid         467      0       467    1.000000  8.867279\n",
              "cad_evnt_id      467      0       467    1.000000  8.867279\n",
              "create_date      467      0         7    0.014989  2.315489\n",
              "incident_date    467      0         7    0.014989  2.315489\n",
              "incident_time    467      0         1    0.002141  0.000000\n",
              "nypd_pct_cd      467      0         3    0.006424  0.477639\n",
              "boro_nm          467      0         2    0.004283  0.399457\n",
              "patrl_boro_nm    467      0         2    0.004283  0.399457\n",
              "geo_cd_x         467      0       236    0.505353  7.393382\n",
              "geo_cd_y         467      0       236    0.505353  7.393382\n",
              "radio_code       467      0        28    0.059957  2.753881\n",
              "typ_desc         467      0        28    0.059957  2.753881\n",
              "cip_jobs         467      0         1    0.002141  0.000000\n",
              "add_ts           467      0       467    1.000000  8.867279\n",
              "disp_ts          467      0       467    1.000000  8.867279\n",
              "arrivd_ts        467      0       412    0.882227  8.170894\n",
              "closng_ts        467      0       467    1.000000  8.867279\n",
              "latitude         467      0       236    0.505353  7.393382\n",
              "longitude        467      0       236    0.505353  7.393382"
            ]
          },
          "metadata": {},
          "execution_count": 124
        }
      ]
    },
    {
      "cell_type": "markdown",
      "source": [
        "## a. Select the columns that are common with the original dataset:\n",
        "'cad_evnt_id', \n",
        "\n",
        "'incident_date', \n",
        "\n",
        "'incident_time', \n",
        "\n",
        "'boro_nm',\n",
        "\n",
        "'latitude', \n",
        "\n",
        "'longitude' \n",
        "\n",
        "'patrol_boro_nm'\n",
        "\n",
        "**We can consider the primary key along with this**\n",
        "**\"cad_evnt_id\"**\n"
      ],
      "metadata": {
        "id": "paHwx8COfUAn"
      }
    },
    {
      "cell_type": "code",
      "source": [
        "interested_columns_1=['cad_evnt_id', 'incident_date', 'boro_nm', 'latitude', 'longitude', 'patrl_boro_nm']\n",
        "df_spark=get_area_of_interest(df_spark, interested_columns_1)"
      ],
      "metadata": {
        "id": "GymGzo9SfMN8"
      },
      "execution_count": null,
      "outputs": []
    },
    {
      "cell_type": "markdown",
      "source": [
        "## b. Lets pass the dataset through the preprocessing pipeline"
      ],
      "metadata": {
        "id": "5Ey6YlZ1fdDz"
      }
    },
    {
      "cell_type": "code",
      "source": [
        "df_temp=df_spark.rdd"
      ],
      "metadata": {
        "id": "AFEqyoG1fZSD"
      },
      "execution_count": null,
      "outputs": []
    },
    {
      "cell_type": "markdown",
      "source": [
        "1. Date and Time"
      ],
      "metadata": {
        "id": "PCwMqIgNfjOT"
      }
    },
    {
      "cell_type": "code",
      "source": [
        "pandasDF.head()"
      ],
      "metadata": {
        "colab": {
          "base_uri": "https://localhost:8080/",
          "height": 394
        },
        "id": "E8Rr0augwset",
        "outputId": "d2d97a4e-6398-40d2-cbc3-675bf943a950"
      },
      "execution_count": null,
      "outputs": [
        {
          "output_type": "execute_result",
          "data": {
            "text/html": [
              "<div>\n",
              "<style scoped>\n",
              "    .dataframe tbody tr th:only-of-type {\n",
              "        vertical-align: middle;\n",
              "    }\n",
              "\n",
              "    .dataframe tbody tr th {\n",
              "        vertical-align: top;\n",
              "    }\n",
              "\n",
              "    .dataframe thead th {\n",
              "        text-align: right;\n",
              "    }\n",
              "</style>\n",
              "<table border=\"1\" class=\"dataframe\">\n",
              "  <thead>\n",
              "    <tr style=\"text-align: right;\">\n",
              "      <th></th>\n",
              "      <th>objectid</th>\n",
              "      <th>cad_evnt_id</th>\n",
              "      <th>create_date</th>\n",
              "      <th>incident_date</th>\n",
              "      <th>incident_time</th>\n",
              "      <th>nypd_pct_cd</th>\n",
              "      <th>boro_nm</th>\n",
              "      <th>patrl_boro_nm</th>\n",
              "      <th>geo_cd_x</th>\n",
              "      <th>geo_cd_y</th>\n",
              "      <th>radio_code</th>\n",
              "      <th>typ_desc</th>\n",
              "      <th>cip_jobs</th>\n",
              "      <th>add_ts</th>\n",
              "      <th>disp_ts</th>\n",
              "      <th>arrivd_ts</th>\n",
              "      <th>closng_ts</th>\n",
              "      <th>latitude</th>\n",
              "      <th>longitude</th>\n",
              "    </tr>\n",
              "  </thead>\n",
              "  <tbody>\n",
              "    <tr>\n",
              "      <th>0</th>\n",
              "      <td>1168025</td>\n",
              "      <td>66231134</td>\n",
              "      <td>2020-02-17</td>\n",
              "      <td>2020-02-17</td>\n",
              "      <td>1899-12-30</td>\n",
              "      <td>75</td>\n",
              "      <td>BROOKLYN</td>\n",
              "      <td>PATROL BORO BKLYN NORTH</td>\n",
              "      <td>1019935</td>\n",
              "      <td>186241</td>\n",
              "      <td>75D</td>\n",
              "      <td>VISIBILITY PATROL: DIRECTED</td>\n",
              "      <td>Non CIP</td>\n",
              "      <td>2020-02-17 03:29:46</td>\n",
              "      <td>2020-02-17 03:29:46</td>\n",
              "      <td>2020-02-17 03:29:47</td>\n",
              "      <td>2020-02-17 08:06:06</td>\n",
              "      <td>40.677802</td>\n",
              "      <td>-73.871348</td>\n",
              "    </tr>\n",
              "    <tr>\n",
              "      <th>1</th>\n",
              "      <td>1168032</td>\n",
              "      <td>66245081</td>\n",
              "      <td>2020-02-17</td>\n",
              "      <td>2020-02-17</td>\n",
              "      <td>1899-12-30</td>\n",
              "      <td>75</td>\n",
              "      <td>BROOKLYN</td>\n",
              "      <td>PATROL BORO BKLYN NORTH</td>\n",
              "      <td>1020080</td>\n",
              "      <td>184471</td>\n",
              "      <td>75D</td>\n",
              "      <td>VISIBILITY PATROL: DIRECTED</td>\n",
              "      <td>Non CIP</td>\n",
              "      <td>2020-02-17 15:55:38</td>\n",
              "      <td>2020-02-17 15:55:38</td>\n",
              "      <td>2020-02-17 15:55:39</td>\n",
              "      <td>2020-02-17 16:56:56</td>\n",
              "      <td>40.672943</td>\n",
              "      <td>-73.870835</td>\n",
              "    </tr>\n",
              "    <tr>\n",
              "      <th>2</th>\n",
              "      <td>1168036</td>\n",
              "      <td>66237379</td>\n",
              "      <td>2020-02-17</td>\n",
              "      <td>2020-02-17</td>\n",
              "      <td>1899-12-30</td>\n",
              "      <td>75</td>\n",
              "      <td>BROOKLYN</td>\n",
              "      <td>PATROL BORO BKLYN NORTH</td>\n",
              "      <td>1020214</td>\n",
              "      <td>183053</td>\n",
              "      <td>75D</td>\n",
              "      <td>VISIBILITY PATROL: DIRECTED</td>\n",
              "      <td>Non CIP</td>\n",
              "      <td>2020-02-17 10:30:54</td>\n",
              "      <td>2020-02-17 10:30:55</td>\n",
              "      <td>2020-02-17 10:30:56</td>\n",
              "      <td>2020-02-17 11:12:55</td>\n",
              "      <td>40.669050</td>\n",
              "      <td>-73.870359</td>\n",
              "    </tr>\n",
              "    <tr>\n",
              "      <th>3</th>\n",
              "      <td>1168037</td>\n",
              "      <td>66235273</td>\n",
              "      <td>2020-02-17</td>\n",
              "      <td>2020-02-17</td>\n",
              "      <td>1899-12-30</td>\n",
              "      <td>75</td>\n",
              "      <td>BROOKLYN</td>\n",
              "      <td>PATROL BORO BKLYN NORTH</td>\n",
              "      <td>1020386</td>\n",
              "      <td>188964</td>\n",
              "      <td>75D</td>\n",
              "      <td>VISIBILITY PATROL: DIRECTED</td>\n",
              "      <td>Non CIP</td>\n",
              "      <td>2020-02-17 08:56:49</td>\n",
              "      <td>2020-02-17 08:56:50</td>\n",
              "      <td>2020-02-17 08:56:51</td>\n",
              "      <td>2020-02-17 09:24:52</td>\n",
              "      <td>40.685274</td>\n",
              "      <td>-73.869707</td>\n",
              "    </tr>\n",
              "    <tr>\n",
              "      <th>4</th>\n",
              "      <td>1168046</td>\n",
              "      <td>66228375</td>\n",
              "      <td>2020-02-17</td>\n",
              "      <td>2020-02-17</td>\n",
              "      <td>1899-12-30</td>\n",
              "      <td>75</td>\n",
              "      <td>BROOKLYN</td>\n",
              "      <td>PATROL BORO BKLYN NORTH</td>\n",
              "      <td>1020963</td>\n",
              "      <td>177905</td>\n",
              "      <td>75D</td>\n",
              "      <td>VISIBILITY PATROL: DIRECTED</td>\n",
              "      <td>Non CIP</td>\n",
              "      <td>2020-02-17 00:26:47</td>\n",
              "      <td>2020-02-17 00:26:47</td>\n",
              "      <td>2020-02-17 00:26:48</td>\n",
              "      <td>2020-02-17 01:49:56</td>\n",
              "      <td>40.654917</td>\n",
              "      <td>-73.867687</td>\n",
              "    </tr>\n",
              "  </tbody>\n",
              "</table>\n",
              "</div>"
            ],
            "text/plain": [
              "   objectid  cad_evnt_id create_date  ...           closng_ts   latitude  longitude\n",
              "0   1168025     66231134  2020-02-17  ... 2020-02-17 08:06:06  40.677802 -73.871348\n",
              "1   1168032     66245081  2020-02-17  ... 2020-02-17 16:56:56  40.672943 -73.870835\n",
              "2   1168036     66237379  2020-02-17  ... 2020-02-17 11:12:55  40.669050 -73.870359\n",
              "3   1168037     66235273  2020-02-17  ... 2020-02-17 09:24:52  40.685274 -73.869707\n",
              "4   1168046     66228375  2020-02-17  ... 2020-02-17 01:49:56  40.654917 -73.867687\n",
              "\n",
              "[5 rows x 19 columns]"
            ]
          },
          "metadata": {},
          "execution_count": 127
        }
      ]
    },
    {
      "cell_type": "markdown",
      "source": [
        "### From data profiling we found that the date and time has no NULL Values"
      ],
      "metadata": {
        "id": "Cci1-UVX9aVM"
      }
    },
    {
      "cell_type": "code",
      "source": [
        "# checking date and time for null values\n",
        "\n",
        "df_temp_=df_temp.map(lambda x:(x, valid_date_check(x[1], \"yyyy-mm-dd\"))).filter(lambda x: x[1]==True)\n",
        "df_temp=df_temp_.map(lambda x: x[0])"
      ],
      "metadata": {
        "id": "eBrU_gyCfgG1"
      },
      "execution_count": null,
      "outputs": []
    },
    {
      "cell_type": "code",
      "source": [
        "df_temp.take(1)"
      ],
      "metadata": {
        "colab": {
          "base_uri": "https://localhost:8080/"
        },
        "id": "rcwXZBqo2spe",
        "outputId": "2b6ae686-4f05-4cd5-f348-b8cf95656795"
      },
      "execution_count": null,
      "outputs": [
        {
          "output_type": "execute_result",
          "data": {
            "text/plain": [
              "[Row(cad_evnt_id=66231134, incident_date=datetime.datetime(2020, 2, 17, 0, 0), boro_nm='BROOKLYN', latitude=40.67780157, longitude=-73.87134797, patrl_boro_nm='PATROL BORO BKLYN NORTH')]"
            ]
          },
          "metadata": {},
          "execution_count": 131
        }
      ]
    },
    {
      "cell_type": "markdown",
      "source": [
        "3. Geocoding"
      ],
      "metadata": {
        "id": "k0CryG30f201"
      }
    },
    {
      "cell_type": "code",
      "source": [
        "#geospacial attributes imputation\n",
        "\n",
        "df_temp=df_temp.toDF(schema=df_spark.schema)\n",
        "df_spk=reverse_geo_code_boros(df_temp, 'latitude', 'longitude', 'boro_nm', -2, -1)"
      ],
      "metadata": {
        "id": "UCaVenmIfn6V",
        "colab": {
          "base_uri": "https://localhost:8080/"
        },
        "outputId": "dfd5a465-db74-48bc-b47e-94887e240a50"
      },
      "execution_count": null,
      "outputs": [
        {
          "output_type": "stream",
          "name": "stdout",
          "text": [
            "___intializing Zip Code Look up ____\n",
            "____ imputing the points ____\n"
          ]
        }
      ]
    },
    {
      "cell_type": "markdown",
      "source": [
        "Lets profile the data now."
      ],
      "metadata": {
        "id": "-K1Yk9XSgcyi"
      }
    },
    {
      "cell_type": "code",
      "source": [
        "pandasDF = df_spk.toPandas()\n",
        "ds=stream(pandasDF)\n",
        "\n",
        "#Creating profile of our dataset\n",
        "profiles = ds.profile(default_profiler=DefaultColumnProfiler)\n",
        "profiles.stats()"
      ],
      "metadata": {
        "colab": {
          "base_uri": "https://localhost:8080/",
          "height": 235
        },
        "id": "Xnr8RCLtgZZg",
        "outputId": "db0ceb22-6755-4b9f-8e95-b8c3e7ee6180"
      },
      "execution_count": null,
      "outputs": [
        {
          "output_type": "execute_result",
          "data": {
            "text/html": [
              "<div>\n",
              "<style scoped>\n",
              "    .dataframe tbody tr th:only-of-type {\n",
              "        vertical-align: middle;\n",
              "    }\n",
              "\n",
              "    .dataframe tbody tr th {\n",
              "        vertical-align: top;\n",
              "    }\n",
              "\n",
              "    .dataframe thead th {\n",
              "        text-align: right;\n",
              "    }\n",
              "</style>\n",
              "<table border=\"1\" class=\"dataframe\">\n",
              "  <thead>\n",
              "    <tr style=\"text-align: right;\">\n",
              "      <th></th>\n",
              "      <th>total</th>\n",
              "      <th>empty</th>\n",
              "      <th>distinct</th>\n",
              "      <th>uniqueness</th>\n",
              "      <th>entropy</th>\n",
              "    </tr>\n",
              "  </thead>\n",
              "  <tbody>\n",
              "    <tr>\n",
              "      <th>cad_evnt_id</th>\n",
              "      <td>467</td>\n",
              "      <td>0</td>\n",
              "      <td>467</td>\n",
              "      <td>1.000000</td>\n",
              "      <td>8.867279</td>\n",
              "    </tr>\n",
              "    <tr>\n",
              "      <th>incident_date</th>\n",
              "      <td>467</td>\n",
              "      <td>0</td>\n",
              "      <td>7</td>\n",
              "      <td>0.014989</td>\n",
              "      <td>2.315489</td>\n",
              "    </tr>\n",
              "    <tr>\n",
              "      <th>boro_nm</th>\n",
              "      <td>467</td>\n",
              "      <td>0</td>\n",
              "      <td>2</td>\n",
              "      <td>0.004283</td>\n",
              "      <td>0.399457</td>\n",
              "    </tr>\n",
              "    <tr>\n",
              "      <th>latitude</th>\n",
              "      <td>467</td>\n",
              "      <td>0</td>\n",
              "      <td>236</td>\n",
              "      <td>0.505353</td>\n",
              "      <td>7.393382</td>\n",
              "    </tr>\n",
              "    <tr>\n",
              "      <th>longitude</th>\n",
              "      <td>467</td>\n",
              "      <td>0</td>\n",
              "      <td>236</td>\n",
              "      <td>0.505353</td>\n",
              "      <td>7.393382</td>\n",
              "    </tr>\n",
              "    <tr>\n",
              "      <th>patrl_boro_nm</th>\n",
              "      <td>467</td>\n",
              "      <td>0</td>\n",
              "      <td>2</td>\n",
              "      <td>0.004283</td>\n",
              "      <td>0.399457</td>\n",
              "    </tr>\n",
              "  </tbody>\n",
              "</table>\n",
              "</div>"
            ],
            "text/plain": [
              "               total  empty  distinct  uniqueness   entropy\n",
              "cad_evnt_id      467      0       467    1.000000  8.867279\n",
              "incident_date    467      0         7    0.014989  2.315489\n",
              "boro_nm          467      0         2    0.004283  0.399457\n",
              "latitude         467      0       236    0.505353  7.393382\n",
              "longitude        467      0       236    0.505353  7.393382\n",
              "patrl_boro_nm    467      0         2    0.004283  0.399457"
            ]
          },
          "metadata": {},
          "execution_count": 134
        }
      ]
    }
  ]
}