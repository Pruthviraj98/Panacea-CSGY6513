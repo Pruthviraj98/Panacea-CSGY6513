{
  "nbformat": 4,
  "nbformat_minor": 0,
  "metadata": {
    "colab": {
      "name": "Data_Cleaning_Profiling.ipynb",
      "provenance": [],
      "collapsed_sections": []
    },
    "kernelspec": {
      "display_name": "Python 3",
      "name": "python3"
    },
    "language_info": {
      "name": "python"
    }
  },
  "cells": [
    {
      "cell_type": "code",
      "metadata": {
        "colab": {
          "base_uri": "https://localhost:8080/"
        },
        "id": "BqZM48WuxIHr",
        "outputId": "3605f846-7c25-4e9b-b8c2-02fa8076799b"
      },
      "source": [
        "!pip install pyspark\n",
        "!pip install openclean"
      ],
      "execution_count": null,
      "outputs": [
        {
          "output_type": "stream",
          "name": "stdout",
          "text": [
            "Collecting pyspark\n",
            "  Downloading pyspark-3.2.0.tar.gz (281.3 MB)\n",
            "\u001b[K     |████████████████████████████████| 281.3 MB 38 kB/s \n",
            "\u001b[?25hCollecting py4j==0.10.9.2\n",
            "  Downloading py4j-0.10.9.2-py2.py3-none-any.whl (198 kB)\n",
            "\u001b[K     |████████████████████████████████| 198 kB 45.1 MB/s \n",
            "\u001b[?25hBuilding wheels for collected packages: pyspark\n",
            "  Building wheel for pyspark (setup.py) ... \u001b[?25l\u001b[?25hdone\n",
            "  Created wheel for pyspark: filename=pyspark-3.2.0-py2.py3-none-any.whl size=281805912 sha256=dd1eb9495c5ade99ca20cbee27062a7bde5c2fec90baf8ea444f72d31117840c\n",
            "  Stored in directory: /root/.cache/pip/wheels/0b/de/d2/9be5d59d7331c6c2a7c1b6d1a4f463ce107332b1ecd4e80718\n",
            "Successfully built pyspark\n",
            "Installing collected packages: py4j, pyspark\n",
            "Successfully installed py4j-0.10.9.2 pyspark-3.2.0\n",
            "Collecting openclean\n",
            "  Downloading openclean-0.2.1-py3-none-any.whl (5.2 kB)\n",
            "Collecting openclean-core==0.4.1\n",
            "  Downloading openclean_core-0.4.1-py3-none-any.whl (267 kB)\n",
            "\u001b[K     |████████████████████████████████| 267 kB 4.4 MB/s \n",
            "\u001b[?25hRequirement already satisfied: scipy in /usr/local/lib/python3.7/dist-packages (from openclean-core==0.4.1->openclean) (1.4.1)\n",
            "Requirement already satisfied: requests in /usr/local/lib/python3.7/dist-packages (from openclean-core==0.4.1->openclean) (2.23.0)\n",
            "Requirement already satisfied: python-dateutil in /usr/local/lib/python3.7/dist-packages (from openclean-core==0.4.1->openclean) (2.8.2)\n",
            "Requirement already satisfied: pandas>=1.0.0 in /usr/local/lib/python3.7/dist-packages (from openclean-core==0.4.1->openclean) (1.1.5)\n",
            "Collecting histore>=0.4.0\n",
            "  Downloading histore-0.4.1-py3-none-any.whl (109 kB)\n",
            "\u001b[K     |████████████████████████████████| 109 kB 53.7 MB/s \n",
            "\u001b[?25hCollecting jellyfish\n",
            "  Downloading jellyfish-0.8.9.tar.gz (137 kB)\n",
            "\u001b[K     |████████████████████████████████| 137 kB 48.5 MB/s \n",
            "\u001b[?25hRequirement already satisfied: dill in /usr/local/lib/python3.7/dist-packages (from openclean-core==0.4.1->openclean) (0.3.4)\n",
            "Requirement already satisfied: appdirs>=1.4.4 in /usr/local/lib/python3.7/dist-packages (from openclean-core==0.4.1->openclean) (1.4.4)\n",
            "Collecting flowserv-core>=0.8.0\n",
            "  Downloading flowserv_core-0.9.2-py3-none-any.whl (260 kB)\n",
            "\u001b[K     |████████████████████████████████| 260 kB 40.0 MB/s \n",
            "\u001b[?25hCollecting jsonschema>=3.2.0\n",
            "  Downloading jsonschema-4.2.1-py3-none-any.whl (69 kB)\n",
            "\u001b[K     |████████████████████████████████| 69 kB 6.1 MB/s \n",
            "\u001b[?25hCollecting refdata>=0.2.0\n",
            "  Downloading refdata-0.2.0-py3-none-any.whl (37 kB)\n",
            "Requirement already satisfied: scikit-learn in /usr/local/lib/python3.7/dist-packages (from openclean-core==0.4.1->openclean) (1.0.1)\n",
            "Requirement already satisfied: future in /usr/local/lib/python3.7/dist-packages (from openclean-core==0.4.1->openclean) (0.16.0)\n",
            "Collecting pyyaml-include\n",
            "  Downloading pyyaml_include-1.2.post2-py3-none-any.whl (20 kB)\n",
            "Collecting passlib\n",
            "  Downloading passlib-1.7.4-py2.py3-none-any.whl (525 kB)\n",
            "\u001b[K     |████████████████████████████████| 525 kB 39.0 MB/s \n",
            "\u001b[?25hCollecting paramiko\n",
            "  Downloading paramiko-2.8.0-py2.py3-none-any.whl (206 kB)\n",
            "\u001b[K     |████████████████████████████████| 206 kB 33.5 MB/s \n",
            "\u001b[?25hRequirement already satisfied: SQLAlchemy>=1.3.18 in /usr/local/lib/python3.7/dist-packages (from flowserv-core>=0.8.0->openclean-core==0.4.1->openclean) (1.4.27)\n",
            "Requirement already satisfied: Click in /usr/local/lib/python3.7/dist-packages (from flowserv-core>=0.8.0->openclean-core==0.4.1->openclean) (7.1.2)\n",
            "Collecting pyyaml>=5.1\n",
            "  Downloading PyYAML-6.0-cp37-cp37m-manylinux_2_5_x86_64.manylinux1_x86_64.manylinux_2_12_x86_64.manylinux2010_x86_64.whl (596 kB)\n",
            "\u001b[K     |████████████████████████████████| 596 kB 40.4 MB/s \n",
            "\u001b[?25hCollecting gitpython\n",
            "  Downloading GitPython-3.1.24-py3-none-any.whl (180 kB)\n",
            "\u001b[K     |████████████████████████████████| 180 kB 55.9 MB/s \n",
            "\u001b[?25hRequirement already satisfied: psutil in /usr/local/lib/python3.7/dist-packages (from histore>=0.4.0->openclean-core==0.4.1->openclean) (5.4.8)\n",
            "Requirement already satisfied: pyrsistent!=0.17.0,!=0.17.1,!=0.17.2,>=0.14.0 in /usr/local/lib/python3.7/dist-packages (from jsonschema>=3.2.0->openclean-core==0.4.1->openclean) (0.18.0)\n",
            "Requirement already satisfied: importlib-resources>=1.4.0 in /usr/local/lib/python3.7/dist-packages (from jsonschema>=3.2.0->openclean-core==0.4.1->openclean) (5.4.0)\n",
            "Requirement already satisfied: importlib-metadata in /usr/local/lib/python3.7/dist-packages (from jsonschema>=3.2.0->openclean-core==0.4.1->openclean) (4.8.2)\n",
            "Requirement already satisfied: attrs>=17.4.0 in /usr/local/lib/python3.7/dist-packages (from jsonschema>=3.2.0->openclean-core==0.4.1->openclean) (21.2.0)\n",
            "Requirement already satisfied: zipp>=3.1.0 in /usr/local/lib/python3.7/dist-packages (from importlib-resources>=1.4.0->jsonschema>=3.2.0->openclean-core==0.4.1->openclean) (3.6.0)\n",
            "Requirement already satisfied: numpy>=1.15.4 in /usr/local/lib/python3.7/dist-packages (from pandas>=1.0.0->openclean-core==0.4.1->openclean) (1.19.5)\n",
            "Requirement already satisfied: pytz>=2017.2 in /usr/local/lib/python3.7/dist-packages (from pandas>=1.0.0->openclean-core==0.4.1->openclean) (2018.9)\n",
            "Requirement already satisfied: six>=1.5 in /usr/local/lib/python3.7/dist-packages (from python-dateutil->openclean-core==0.4.1->openclean) (1.15.0)\n",
            "Requirement already satisfied: pooch>=1.3.0 in /usr/local/lib/python3.7/dist-packages (from refdata>=0.2.0->openclean-core==0.4.1->openclean) (1.5.2)\n",
            "Collecting tableprint\n",
            "  Downloading tableprint-0.9.1-py3-none-any.whl (6.8 kB)\n",
            "Collecting datasize>=1.0.0\n",
            "  Downloading datasize-1.0.0.tar.gz (149 kB)\n",
            "\u001b[K     |████████████████████████████████| 149 kB 46.9 MB/s \n",
            "\u001b[?25hRequirement already satisfied: packaging in /usr/local/lib/python3.7/dist-packages (from pooch>=1.3.0->refdata>=0.2.0->openclean-core==0.4.1->openclean) (21.3)\n",
            "Requirement already satisfied: greenlet!=0.4.17 in /usr/local/lib/python3.7/dist-packages (from SQLAlchemy>=1.3.18->flowserv-core>=0.8.0->openclean-core==0.4.1->openclean) (1.1.2)\n",
            "Collecting gitdb<5,>=4.0.1\n",
            "  Downloading gitdb-4.0.9-py3-none-any.whl (63 kB)\n",
            "\u001b[K     |████████████████████████████████| 63 kB 1.4 MB/s \n",
            "\u001b[?25hRequirement already satisfied: typing-extensions>=3.7.4.3 in /usr/local/lib/python3.7/dist-packages (from gitpython->flowserv-core>=0.8.0->openclean-core==0.4.1->openclean) (3.10.0.2)\n",
            "Collecting smmap<6,>=3.0.1\n",
            "  Downloading smmap-5.0.0-py3-none-any.whl (24 kB)\n",
            "Requirement already satisfied: pyparsing!=3.0.5,>=2.0.2 in /usr/local/lib/python3.7/dist-packages (from packaging->pooch>=1.3.0->refdata>=0.2.0->openclean-core==0.4.1->openclean) (3.0.6)\n",
            "Collecting pynacl>=1.0.1\n",
            "  Downloading PyNaCl-1.4.0-cp35-abi3-manylinux1_x86_64.whl (961 kB)\n",
            "\u001b[K     |████████████████████████████████| 961 kB 37.5 MB/s \n",
            "\u001b[?25hCollecting cryptography>=2.5\n",
            "  Downloading cryptography-36.0.0-cp36-abi3-manylinux_2_24_x86_64.whl (3.6 MB)\n",
            "\u001b[K     |████████████████████████████████| 3.6 MB 29.9 MB/s \n",
            "\u001b[?25hCollecting bcrypt>=3.1.3\n",
            "  Downloading bcrypt-3.2.0-cp36-abi3-manylinux2010_x86_64.whl (63 kB)\n",
            "\u001b[K     |████████████████████████████████| 63 kB 2.0 MB/s \n",
            "\u001b[?25hRequirement already satisfied: cffi>=1.1 in /usr/local/lib/python3.7/dist-packages (from bcrypt>=3.1.3->paramiko->flowserv-core>=0.8.0->openclean-core==0.4.1->openclean) (1.15.0)\n",
            "Requirement already satisfied: pycparser in /usr/local/lib/python3.7/dist-packages (from cffi>=1.1->bcrypt>=3.1.3->paramiko->flowserv-core>=0.8.0->openclean-core==0.4.1->openclean) (2.21)\n",
            "Collecting pyyaml>=5.1\n",
            "  Downloading PyYAML-5.4.1-cp37-cp37m-manylinux1_x86_64.whl (636 kB)\n",
            "\u001b[K     |████████████████████████████████| 636 kB 48.3 MB/s \n",
            "\u001b[?25hRequirement already satisfied: urllib3!=1.25.0,!=1.25.1,<1.26,>=1.21.1 in /usr/local/lib/python3.7/dist-packages (from requests->openclean-core==0.4.1->openclean) (1.24.3)\n",
            "Requirement already satisfied: certifi>=2017.4.17 in /usr/local/lib/python3.7/dist-packages (from requests->openclean-core==0.4.1->openclean) (2021.10.8)\n",
            "Requirement already satisfied: chardet<4,>=3.0.2 in /usr/local/lib/python3.7/dist-packages (from requests->openclean-core==0.4.1->openclean) (3.0.4)\n",
            "Requirement already satisfied: idna<3,>=2.5 in /usr/local/lib/python3.7/dist-packages (from requests->openclean-core==0.4.1->openclean) (2.10)\n",
            "Requirement already satisfied: joblib>=0.11 in /usr/local/lib/python3.7/dist-packages (from scikit-learn->openclean-core==0.4.1->openclean) (1.1.0)\n",
            "Requirement already satisfied: threadpoolctl>=2.0.0 in /usr/local/lib/python3.7/dist-packages (from scikit-learn->openclean-core==0.4.1->openclean) (3.0.0)\n",
            "Requirement already satisfied: wcwidth in /usr/local/lib/python3.7/dist-packages (from tableprint->refdata>=0.2.0->openclean-core==0.4.1->openclean) (0.2.5)\n",
            "Building wheels for collected packages: datasize, jellyfish\n",
            "  Building wheel for datasize (setup.py) ... \u001b[?25l\u001b[?25hdone\n",
            "  Created wheel for datasize: filename=datasize-1.0.0-py2.py3-none-any.whl size=155047 sha256=fd2c25c5cf16861169b7d4120e250e2a95ed600dfb35608db870835c5589b444\n",
            "  Stored in directory: /root/.cache/pip/wheels/f7/b5/32/d8836896da6aca7f9c5748670ea6110d1385c262bf3abcca30\n",
            "  Building wheel for jellyfish (setup.py) ... \u001b[?25l\u001b[?25hdone\n",
            "  Created wheel for jellyfish: filename=jellyfish-0.8.9-cp37-cp37m-linux_x86_64.whl size=73231 sha256=88f788880b33d2c4648297ddcf95bcaee706d5cfe87dca87859d193f987a6465\n",
            "  Stored in directory: /root/.cache/pip/wheels/32/a9/ef/5d8742e72deaf0d1de327a180d008c2c0299367581800ea73f\n",
            "Successfully built datasize jellyfish\n",
            "Installing collected packages: smmap, pyyaml, pynacl, gitdb, cryptography, bcrypt, tableprint, pyyaml-include, passlib, paramiko, jsonschema, gitpython, datasize, refdata, jellyfish, histore, flowserv-core, openclean-core, openclean\n",
            "  Attempting uninstall: pyyaml\n",
            "    Found existing installation: PyYAML 3.13\n",
            "    Uninstalling PyYAML-3.13:\n",
            "      Successfully uninstalled PyYAML-3.13\n",
            "  Attempting uninstall: jsonschema\n",
            "    Found existing installation: jsonschema 2.6.0\n",
            "    Uninstalling jsonschema-2.6.0:\n",
            "      Successfully uninstalled jsonschema-2.6.0\n",
            "\u001b[31mERROR: pip's dependency resolver does not currently take into account all the packages that are installed. This behaviour is the source of the following dependency conflicts.\n",
            "nbclient 0.5.8 requires jupyter-client>=6.1.5, but you have jupyter-client 5.3.5 which is incompatible.\u001b[0m\n",
            "Successfully installed bcrypt-3.2.0 cryptography-36.0.0 datasize-1.0.0 flowserv-core-0.9.2 gitdb-4.0.9 gitpython-3.1.24 histore-0.4.1 jellyfish-0.8.9 jsonschema-4.2.1 openclean-0.2.1 openclean-core-0.4.1 paramiko-2.8.0 passlib-1.7.4 pynacl-1.4.0 pyyaml-5.4.1 pyyaml-include-1.2.post2 refdata-0.2.0 smmap-5.0.0 tableprint-0.9.1\n"
          ]
        }
      ]
    },
    {
      "cell_type": "markdown",
      "metadata": {
        "id": "veLiiPE9mUAY"
      },
      "source": [
        "# New Section"
      ]
    },
    {
      "cell_type": "code",
      "metadata": {
        "id": "njQSr07Dc1O4"
      },
      "source": [
        "#importing packages required\n",
        "from pyspark import SparkContext, SparkConf\n",
        "from pyspark.sql import SparkSession\n",
        "import os\n",
        "import requests\n",
        "from six.moves import urllib\n",
        "import sys \n",
        "import pandas as pd\n",
        "import matplotlib \n",
        "import matplotlib as plt\n",
        "import numpy as np\n",
        "import scipy as sp\n",
        "import IPython\n",
        "from IPython import display\n",
        "import sklearn\n",
        "import random\n",
        "import time\n",
        "import warnings\n",
        "import re\n",
        "import matplotlib.pyplot as plt\n",
        "%matplotlib inline"
      ],
      "execution_count": null,
      "outputs": []
    },
    {
      "cell_type": "code",
      "metadata": {
        "id": "bjoAro6qcyOS",
        "colab": {
          "base_uri": "https://localhost:8080/"
        },
        "outputId": "f17df058-dfa9-4fba-88c1-7d63140b0253"
      },
      "source": [
        "#Downloading file from NYC Open Data\n",
        "fn_src = 'https://data.cityofnewyork.us/api/views/qgea-i56i/rows.csv?accessType=DOWNLOAD'\n",
        "fn_dst = 'NYPD_Complaint_Data_Historic.csv'\n",
        "\n",
        "from six.moves import urllib\n",
        "\n",
        "if os.path.isfile(fn_dst):\n",
        "    print('File %s has already been downloaded' % fn_dst)\n",
        "else:\n",
        "    print('Fetching file %s[2.4GB]. This may take a while...' % fn_dst)\n",
        "    urllib.request.urlretrieve(fn_src, fn_dst)\n",
        "    print('File %s has been downloaded' % fn_dst)"
      ],
      "execution_count": null,
      "outputs": [
        {
          "output_type": "stream",
          "name": "stdout",
          "text": [
            "Fetching file NYPD_Complaint_Data_Historic.csv[2.4GB]. This may take a while...\n",
            "File NYPD_Complaint_Data_Historic.csv has been downloaded\n"
          ]
        }
      ]
    },
    {
      "cell_type": "code",
      "metadata": {
        "id": "5bzyTuXgE_j9"
      },
      "source": [
        "#Creating Spark Session\n",
        "sc = SparkContext.getOrCreate();\n",
        "spark = SparkSession(sc)"
      ],
      "execution_count": null,
      "outputs": []
    },
    {
      "cell_type": "code",
      "metadata": {
        "id": "WjYxSVeWFDj8"
      },
      "source": [
        "#Reading the csv file\n",
        "df_spark=spark.read.option(\"header\",True).csv(\"/content/NYPD_Complaint_Data_Historic.csv\",inferSchema=True) # data set 1."
      ],
      "execution_count": null,
      "outputs": []
    },
    {
      "cell_type": "markdown",
      "metadata": {
        "id": "E5V7wUimEBaO"
      },
      "source": [
        "## Data Profiling"
      ]
    },
    {
      "cell_type": "code",
      "metadata": {
        "id": "-fcEmWMnDysg"
      },
      "source": [
        "#Using openclean for finding anomalies\n",
        "from openclean.pipeline import stream\n",
        "ds = stream(fn_dst)"
      ],
      "execution_count": null,
      "outputs": []
    },
    {
      "cell_type": "code",
      "metadata": {
        "id": "iy2jahcGhYNl"
      },
      "source": [
        "#Creating profile of our dataset\n",
        "from openclean.profiling.column import DefaultColumnProfiler\n",
        "profiles = ds.profile(default_profiler=DefaultColumnProfiler)"
      ],
      "execution_count": null,
      "outputs": []
    },
    {
      "cell_type": "code",
      "metadata": {
        "colab": {
          "base_uri": "https://localhost:8080/",
          "height": 1147
        },
        "id": "QM8dq12mhxIh",
        "outputId": "7e54e69c-8591-4d5b-8b3f-bc9ef58e23b1"
      },
      "source": [
        "#CMPLNT_NUM, RPT_DT, KY_CD, LAW_CAT_CD have no null values\n",
        "profiles.stats()"
      ],
      "execution_count": null,
      "outputs": [
        {
          "output_type": "execute_result",
          "data": {
            "text/html": [
              "<div>\n",
              "<style scoped>\n",
              "    .dataframe tbody tr th:only-of-type {\n",
              "        vertical-align: middle;\n",
              "    }\n",
              "\n",
              "    .dataframe tbody tr th {\n",
              "        vertical-align: top;\n",
              "    }\n",
              "\n",
              "    .dataframe thead th {\n",
              "        text-align: right;\n",
              "    }\n",
              "</style>\n",
              "<table border=\"1\" class=\"dataframe\">\n",
              "  <thead>\n",
              "    <tr style=\"text-align: right;\">\n",
              "      <th></th>\n",
              "      <th>total</th>\n",
              "      <th>empty</th>\n",
              "      <th>distinct</th>\n",
              "      <th>uniqueness</th>\n",
              "      <th>entropy</th>\n",
              "    </tr>\n",
              "  </thead>\n",
              "  <tbody>\n",
              "    <tr>\n",
              "      <th>CMPLNT_NUM</th>\n",
              "      <td>7375993</td>\n",
              "      <td>0</td>\n",
              "      <td>7373143</td>\n",
              "      <td>9.996136e-01</td>\n",
              "      <td>22.813633</td>\n",
              "    </tr>\n",
              "    <tr>\n",
              "      <th>CMPLNT_FR_DT</th>\n",
              "      <td>7375993</td>\n",
              "      <td>655</td>\n",
              "      <td>8606</td>\n",
              "      <td>1.166862e-03</td>\n",
              "      <td>12.425578</td>\n",
              "    </tr>\n",
              "    <tr>\n",
              "      <th>CMPLNT_FR_TM</th>\n",
              "      <td>7375993</td>\n",
              "      <td>48</td>\n",
              "      <td>1441</td>\n",
              "      <td>1.953648e-04</td>\n",
              "      <td>8.136466</td>\n",
              "    </tr>\n",
              "    <tr>\n",
              "      <th>CMPLNT_TO_DT</th>\n",
              "      <td>7375993</td>\n",
              "      <td>1704204</td>\n",
              "      <td>6825</td>\n",
              "      <td>1.203324e-03</td>\n",
              "      <td>12.417984</td>\n",
              "    </tr>\n",
              "    <tr>\n",
              "      <th>CMPLNT_TO_TM</th>\n",
              "      <td>7375993</td>\n",
              "      <td>1699541</td>\n",
              "      <td>1441</td>\n",
              "      <td>2.538558e-04</td>\n",
              "      <td>8.862856</td>\n",
              "    </tr>\n",
              "    <tr>\n",
              "      <th>ADDR_PCT_CD</th>\n",
              "      <td>7375993</td>\n",
              "      <td>2166</td>\n",
              "      <td>77</td>\n",
              "      <td>1.044234e-05</td>\n",
              "      <td>6.148690</td>\n",
              "    </tr>\n",
              "    <tr>\n",
              "      <th>RPT_DT</th>\n",
              "      <td>7375993</td>\n",
              "      <td>0</td>\n",
              "      <td>5479</td>\n",
              "      <td>7.428152e-04</td>\n",
              "      <td>12.405384</td>\n",
              "    </tr>\n",
              "    <tr>\n",
              "      <th>KY_CD</th>\n",
              "      <td>7375993</td>\n",
              "      <td>0</td>\n",
              "      <td>74</td>\n",
              "      <td>1.003255e-05</td>\n",
              "      <td>4.170727</td>\n",
              "    </tr>\n",
              "    <tr>\n",
              "      <th>OFNS_DESC</th>\n",
              "      <td>7375993</td>\n",
              "      <td>18823</td>\n",
              "      <td>71</td>\n",
              "      <td>9.650450e-06</td>\n",
              "      <td>4.006583</td>\n",
              "    </tr>\n",
              "    <tr>\n",
              "      <th>PD_CD</th>\n",
              "      <td>7375993</td>\n",
              "      <td>6278</td>\n",
              "      <td>432</td>\n",
              "      <td>5.861828e-05</td>\n",
              "      <td>5.913459</td>\n",
              "    </tr>\n",
              "    <tr>\n",
              "      <th>PD_DESC</th>\n",
              "      <td>7375993</td>\n",
              "      <td>6278</td>\n",
              "      <td>422</td>\n",
              "      <td>5.726137e-05</td>\n",
              "      <td>5.904814</td>\n",
              "    </tr>\n",
              "    <tr>\n",
              "      <th>CRM_ATPT_CPTD_CD</th>\n",
              "      <td>7375993</td>\n",
              "      <td>7</td>\n",
              "      <td>2</td>\n",
              "      <td>2.711502e-07</td>\n",
              "      <td>0.124481</td>\n",
              "    </tr>\n",
              "    <tr>\n",
              "      <th>LAW_CAT_CD</th>\n",
              "      <td>7375993</td>\n",
              "      <td>0</td>\n",
              "      <td>3</td>\n",
              "      <td>4.067249e-07</td>\n",
              "      <td>1.373922</td>\n",
              "    </tr>\n",
              "    <tr>\n",
              "      <th>BORO_NM</th>\n",
              "      <td>7375993</td>\n",
              "      <td>11329</td>\n",
              "      <td>5</td>\n",
              "      <td>6.789176e-07</td>\n",
              "      <td>2.162442</td>\n",
              "    </tr>\n",
              "    <tr>\n",
              "      <th>LOC_OF_OCCUR_DESC</th>\n",
              "      <td>7375993</td>\n",
              "      <td>1543800</td>\n",
              "      <td>5</td>\n",
              "      <td>8.573104e-07</td>\n",
              "      <td>1.241785</td>\n",
              "    </tr>\n",
              "    <tr>\n",
              "      <th>PREM_TYP_DESC</th>\n",
              "      <td>7375993</td>\n",
              "      <td>40745</td>\n",
              "      <td>74</td>\n",
              "      <td>1.008828e-05</td>\n",
              "      <td>3.579655</td>\n",
              "    </tr>\n",
              "    <tr>\n",
              "      <th>JURIS_DESC</th>\n",
              "      <td>7375993</td>\n",
              "      <td>0</td>\n",
              "      <td>25</td>\n",
              "      <td>3.389374e-06</td>\n",
              "      <td>0.668693</td>\n",
              "    </tr>\n",
              "    <tr>\n",
              "      <th>JURISDICTION_CODE</th>\n",
              "      <td>7375993</td>\n",
              "      <td>6278</td>\n",
              "      <td>25</td>\n",
              "      <td>3.392261e-06</td>\n",
              "      <td>0.668795</td>\n",
              "    </tr>\n",
              "    <tr>\n",
              "      <th>PARKS_NM</th>\n",
              "      <td>7375993</td>\n",
              "      <td>3229345</td>\n",
              "      <td>1206</td>\n",
              "      <td>2.908373e-04</td>\n",
              "      <td>0.110850</td>\n",
              "    </tr>\n",
              "    <tr>\n",
              "      <th>HADEVELOPT</th>\n",
              "      <td>7375993</td>\n",
              "      <td>7029181</td>\n",
              "      <td>279</td>\n",
              "      <td>8.044704e-04</td>\n",
              "      <td>7.277703</td>\n",
              "    </tr>\n",
              "    <tr>\n",
              "      <th>HOUSING_PSA</th>\n",
              "      <td>7375993</td>\n",
              "      <td>1241432</td>\n",
              "      <td>5103</td>\n",
              "      <td>8.318444e-04</td>\n",
              "      <td>1.216803</td>\n",
              "    </tr>\n",
              "    <tr>\n",
              "      <th>X_COORD_CD</th>\n",
              "      <td>7375993</td>\n",
              "      <td>17339</td>\n",
              "      <td>71343</td>\n",
              "      <td>9.695115e-03</td>\n",
              "      <td>14.595751</td>\n",
              "    </tr>\n",
              "    <tr>\n",
              "      <th>Y_COORD_CD</th>\n",
              "      <td>7375993</td>\n",
              "      <td>17339</td>\n",
              "      <td>73933</td>\n",
              "      <td>1.004708e-02</td>\n",
              "      <td>14.744968</td>\n",
              "    </tr>\n",
              "    <tr>\n",
              "      <th>SUSP_AGE_GROUP</th>\n",
              "      <td>7375993</td>\n",
              "      <td>4795235</td>\n",
              "      <td>111</td>\n",
              "      <td>4.301062e-05</td>\n",
              "      <td>2.113260</td>\n",
              "    </tr>\n",
              "    <tr>\n",
              "      <th>SUSP_RACE</th>\n",
              "      <td>7375993</td>\n",
              "      <td>3426694</td>\n",
              "      <td>8</td>\n",
              "      <td>2.025676e-06</td>\n",
              "      <td>2.224526</td>\n",
              "    </tr>\n",
              "    <tr>\n",
              "      <th>SUSP_SEX</th>\n",
              "      <td>7375993</td>\n",
              "      <td>3560008</td>\n",
              "      <td>3</td>\n",
              "      <td>7.861666e-07</td>\n",
              "      <td>1.323637</td>\n",
              "    </tr>\n",
              "    <tr>\n",
              "      <th>TRANSIT_DISTRICT</th>\n",
              "      <td>7375993</td>\n",
              "      <td>7212494</td>\n",
              "      <td>12</td>\n",
              "      <td>7.339494e-05</td>\n",
              "      <td>3.437520</td>\n",
              "    </tr>\n",
              "    <tr>\n",
              "      <th>Latitude</th>\n",
              "      <td>7375993</td>\n",
              "      <td>17339</td>\n",
              "      <td>205539</td>\n",
              "      <td>2.793160e-02</td>\n",
              "      <td>15.828371</td>\n",
              "    </tr>\n",
              "    <tr>\n",
              "      <th>Longitude</th>\n",
              "      <td>7375993</td>\n",
              "      <td>17339</td>\n",
              "      <td>201311</td>\n",
              "      <td>2.735704e-02</td>\n",
              "      <td>15.797580</td>\n",
              "    </tr>\n",
              "    <tr>\n",
              "      <th>Lat_Lon</th>\n",
              "      <td>7375993</td>\n",
              "      <td>17339</td>\n",
              "      <td>198552</td>\n",
              "      <td>2.698211e-02</td>\n",
              "      <td>15.677861</td>\n",
              "    </tr>\n",
              "    <tr>\n",
              "      <th>PATROL_BORO</th>\n",
              "      <td>7375993</td>\n",
              "      <td>6735</td>\n",
              "      <td>8</td>\n",
              "      <td>1.085591e-06</td>\n",
              "      <td>2.898560</td>\n",
              "    </tr>\n",
              "    <tr>\n",
              "      <th>STATION_NAME</th>\n",
              "      <td>7375993</td>\n",
              "      <td>7212494</td>\n",
              "      <td>372</td>\n",
              "      <td>2.275243e-03</td>\n",
              "      <td>7.617040</td>\n",
              "    </tr>\n",
              "    <tr>\n",
              "      <th>VIC_AGE_GROUP</th>\n",
              "      <td>7375993</td>\n",
              "      <td>1638445</td>\n",
              "      <td>202</td>\n",
              "      <td>3.520668e-05</td>\n",
              "      <td>2.201239</td>\n",
              "    </tr>\n",
              "    <tr>\n",
              "      <th>VIC_RACE</th>\n",
              "      <td>7375993</td>\n",
              "      <td>309</td>\n",
              "      <td>8</td>\n",
              "      <td>1.084645e-06</td>\n",
              "      <td>2.323077</td>\n",
              "    </tr>\n",
              "    <tr>\n",
              "      <th>VIC_SEX</th>\n",
              "      <td>7375993</td>\n",
              "      <td>308</td>\n",
              "      <td>5</td>\n",
              "      <td>6.779031e-07</td>\n",
              "      <td>1.846472</td>\n",
              "    </tr>\n",
              "  </tbody>\n",
              "</table>\n",
              "</div>"
            ],
            "text/plain": [
              "                     total    empty  distinct    uniqueness    entropy\n",
              "CMPLNT_NUM         7375993        0   7373143  9.996136e-01  22.813633\n",
              "CMPLNT_FR_DT       7375993      655      8606  1.166862e-03  12.425578\n",
              "CMPLNT_FR_TM       7375993       48      1441  1.953648e-04   8.136466\n",
              "CMPLNT_TO_DT       7375993  1704204      6825  1.203324e-03  12.417984\n",
              "CMPLNT_TO_TM       7375993  1699541      1441  2.538558e-04   8.862856\n",
              "ADDR_PCT_CD        7375993     2166        77  1.044234e-05   6.148690\n",
              "RPT_DT             7375993        0      5479  7.428152e-04  12.405384\n",
              "KY_CD              7375993        0        74  1.003255e-05   4.170727\n",
              "OFNS_DESC          7375993    18823        71  9.650450e-06   4.006583\n",
              "PD_CD              7375993     6278       432  5.861828e-05   5.913459\n",
              "PD_DESC            7375993     6278       422  5.726137e-05   5.904814\n",
              "CRM_ATPT_CPTD_CD   7375993        7         2  2.711502e-07   0.124481\n",
              "LAW_CAT_CD         7375993        0         3  4.067249e-07   1.373922\n",
              "BORO_NM            7375993    11329         5  6.789176e-07   2.162442\n",
              "LOC_OF_OCCUR_DESC  7375993  1543800         5  8.573104e-07   1.241785\n",
              "PREM_TYP_DESC      7375993    40745        74  1.008828e-05   3.579655\n",
              "JURIS_DESC         7375993        0        25  3.389374e-06   0.668693\n",
              "JURISDICTION_CODE  7375993     6278        25  3.392261e-06   0.668795\n",
              "PARKS_NM           7375993  3229345      1206  2.908373e-04   0.110850\n",
              "HADEVELOPT         7375993  7029181       279  8.044704e-04   7.277703\n",
              "HOUSING_PSA        7375993  1241432      5103  8.318444e-04   1.216803\n",
              "X_COORD_CD         7375993    17339     71343  9.695115e-03  14.595751\n",
              "Y_COORD_CD         7375993    17339     73933  1.004708e-02  14.744968\n",
              "SUSP_AGE_GROUP     7375993  4795235       111  4.301062e-05   2.113260\n",
              "SUSP_RACE          7375993  3426694         8  2.025676e-06   2.224526\n",
              "SUSP_SEX           7375993  3560008         3  7.861666e-07   1.323637\n",
              "TRANSIT_DISTRICT   7375993  7212494        12  7.339494e-05   3.437520\n",
              "Latitude           7375993    17339    205539  2.793160e-02  15.828371\n",
              "Longitude          7375993    17339    201311  2.735704e-02  15.797580\n",
              "Lat_Lon            7375993    17339    198552  2.698211e-02  15.677861\n",
              "PATROL_BORO        7375993     6735         8  1.085591e-06   2.898560\n",
              "STATION_NAME       7375993  7212494       372  2.275243e-03   7.617040\n",
              "VIC_AGE_GROUP      7375993  1638445       202  3.520668e-05   2.201239\n",
              "VIC_RACE           7375993      309         8  1.084645e-06   2.323077\n",
              "VIC_SEX            7375993      308         5  6.779031e-07   1.846472"
            ]
          },
          "metadata": {},
          "execution_count": 10
        }
      ]
    },
    {
      "cell_type": "code",
      "metadata": {
        "colab": {
          "base_uri": "https://localhost:8080/"
        },
        "id": "Wa5PmWYqh8uj",
        "outputId": "3f8bf45f-bfdf-4e72-d0cd-f387fb973197"
      },
      "source": [
        "# Print the most frequent values in column 'OFNS_DESC'\n",
        "\n",
        "profiles.column('OFNS_DESC').get('topValues')"
      ],
      "execution_count": null,
      "outputs": [
        {
          "output_type": "execute_result",
          "data": {
            "text/plain": [
              "[('PETIT LARCENY', 1244155),\n",
              " ('HARRASSMENT 2', 945389),\n",
              " ('ASSAULT 3 & RELATED OFFENSES', 774177),\n",
              " ('CRIMINAL MISCHIEF & RELATED OF', 744951),\n",
              " ('GRAND LARCENY', 638972),\n",
              " ('DANGEROUS DRUGS', 427058),\n",
              " ('OFF. AGNST PUB ORD SENSBLTY &', 383332),\n",
              " ('FELONY ASSAULT', 286085),\n",
              " ('ROBBERY', 266447),\n",
              " ('BURGLARY', 254292)]"
            ]
          },
          "metadata": {},
          "execution_count": 12
        }
      ]
    },
    {
      "cell_type": "code",
      "metadata": {
        "colab": {
          "base_uri": "https://localhost:8080/"
        },
        "id": "pDjHy_5IfG5-",
        "outputId": "9317bec8-750c-413c-b359-acfd25c6920c"
      },
      "source": [
        "#Finding outliers i complaint dates\n",
        "from openclean.profiling.anomalies.sklearn import DBSCANOutliers\n",
        "\n",
        "incident_dates = ds.distinct('CMPLNT_FR_DT')\n",
        "DBSCANOutliers().find(incident_dates)"
      ],
      "execution_count": null,
      "outputs": [
        {
          "output_type": "execute_result",
          "data": {
            "text/plain": [
              "['']"
            ]
          },
          "metadata": {},
          "execution_count": 13
        }
      ]
    },
    {
      "cell_type": "code",
      "metadata": {
        "colab": {
          "base_uri": "https://localhost:8080/"
        },
        "id": "4Nq7wempDysi",
        "outputId": "3e7b1478-25bd-458e-9b92-a36b7cc04780"
      },
      "source": [
        "incident_end_dates = ds.distinct('CMPLNT_TO_DT')\n",
        "DBSCANOutliers().find(incident_end_dates)"
      ],
      "execution_count": null,
      "outputs": [
        {
          "output_type": "execute_result",
          "data": {
            "text/plain": [
              "['']"
            ]
          },
          "metadata": {},
          "execution_count": 14
        }
      ]
    },
    {
      "cell_type": "code",
      "metadata": {
        "colab": {
          "base_uri": "https://localhost:8080/"
        },
        "id": "ERJiaeiLDysi",
        "outputId": "eef19290-ddc4-4c07-f95b-dfddcc1e297c"
      },
      "source": [
        "#Finding outliers \n",
        "DBSCANOutliers(eps=0.05).find(incident_dates)"
      ],
      "execution_count": null,
      "outputs": [
        {
          "output_type": "execute_result",
          "data": {
            "text/plain": [
              "['',\n",
              " '08/25/1973',\n",
              " '01/01/2005',\n",
              " '12/31/2005',\n",
              " '05/26/1983',\n",
              " '02/22/2020',\n",
              " '01/01/2011',\n",
              " '12/30/2005',\n",
              " '01/01/2012',\n",
              " '03/14/2017',\n",
              " '02/02/2020',\n",
              " '12/27/2010',\n",
              " '01/01/2010',\n",
              " '03/28/1967',\n",
              " '02/20/2020']"
            ]
          },
          "metadata": {},
          "execution_count": 15
        }
      ]
    },
    {
      "cell_type": "code",
      "metadata": {
        "colab": {
          "base_uri": "https://localhost:8080/"
        },
        "id": "sWc_kAgkDysj",
        "outputId": "bab537c0-71f7-43da-b0e4-5caffc73f20b"
      },
      "source": [
        "DBSCANOutliers(eps=0.05).find(incident_end_dates)"
      ],
      "execution_count": null,
      "outputs": [
        {
          "output_type": "execute_result",
          "data": {
            "text/plain": [
              "['', '03/28/1967']"
            ]
          },
          "metadata": {},
          "execution_count": 16
        }
      ]
    },
    {
      "cell_type": "markdown",
      "metadata": {
        "id": "L-7JM6aWXzgV"
      },
      "source": [
        "## Checking if there are redundant rows. If present, remove them."
      ]
    },
    {
      "cell_type": "code",
      "metadata": {
        "colab": {
          "base_uri": "https://localhost:8080/"
        },
        "id": "thAENVuyFaK7",
        "outputId": "e685f66b-d8a8-42a3-950f-bd95cb88d012"
      },
      "source": [
        "# checking for Duplicate rows in our dataset.\n",
        "df_spark.count() - df_spark.distinct().count()"
      ],
      "execution_count": null,
      "outputs": [
        {
          "output_type": "execute_result",
          "data": {
            "text/plain": [
              "0"
            ]
          },
          "metadata": {},
          "execution_count": 17
        }
      ]
    },
    {
      "cell_type": "code",
      "metadata": {
        "colab": {
          "base_uri": "https://localhost:8080/"
        },
        "id": "a79K8iFsFtK6",
        "outputId": "cbb5da0e-1b5c-40cc-b4a3-ece7e623e18a"
      },
      "source": [
        "df_spark.printSchema()"
      ],
      "execution_count": null,
      "outputs": [
        {
          "output_type": "stream",
          "name": "stdout",
          "text": [
            "root\n",
            " |-- CMPLNT_NUM: integer (nullable = true)\n",
            " |-- CMPLNT_FR_DT: string (nullable = true)\n",
            " |-- CMPLNT_FR_TM: string (nullable = true)\n",
            " |-- CMPLNT_TO_DT: string (nullable = true)\n",
            " |-- CMPLNT_TO_TM: string (nullable = true)\n",
            " |-- ADDR_PCT_CD: integer (nullable = true)\n",
            " |-- RPT_DT: string (nullable = true)\n",
            " |-- KY_CD: integer (nullable = true)\n",
            " |-- OFNS_DESC: string (nullable = true)\n",
            " |-- PD_CD: integer (nullable = true)\n",
            " |-- PD_DESC: string (nullable = true)\n",
            " |-- CRM_ATPT_CPTD_CD: string (nullable = true)\n",
            " |-- LAW_CAT_CD: string (nullable = true)\n",
            " |-- BORO_NM: string (nullable = true)\n",
            " |-- LOC_OF_OCCUR_DESC: string (nullable = true)\n",
            " |-- PREM_TYP_DESC: string (nullable = true)\n",
            " |-- JURIS_DESC: string (nullable = true)\n",
            " |-- JURISDICTION_CODE: integer (nullable = true)\n",
            " |-- PARKS_NM: string (nullable = true)\n",
            " |-- HADEVELOPT: string (nullable = true)\n",
            " |-- HOUSING_PSA: string (nullable = true)\n",
            " |-- X_COORD_CD: integer (nullable = true)\n",
            " |-- Y_COORD_CD: integer (nullable = true)\n",
            " |-- SUSP_AGE_GROUP: string (nullable = true)\n",
            " |-- SUSP_RACE: string (nullable = true)\n",
            " |-- SUSP_SEX: string (nullable = true)\n",
            " |-- TRANSIT_DISTRICT: integer (nullable = true)\n",
            " |-- Latitude: double (nullable = true)\n",
            " |-- Longitude: double (nullable = true)\n",
            " |-- Lat_Lon: string (nullable = true)\n",
            " |-- PATROL_BORO: string (nullable = true)\n",
            " |-- STATION_NAME: string (nullable = true)\n",
            " |-- VIC_AGE_GROUP: string (nullable = true)\n",
            " |-- VIC_RACE: string (nullable = true)\n",
            " |-- VIC_SEX: string (nullable = true)\n",
            "\n"
          ]
        }
      ]
    },
    {
      "cell_type": "markdown",
      "metadata": {
        "id": "l9-7LLBEXq_x"
      },
      "source": [
        "## Removing the redundant columns"
      ]
    },
    {
      "cell_type": "code",
      "metadata": {
        "colab": {
          "base_uri": "https://localhost:8080/"
        },
        "id": "4DrO6RDuGJku",
        "outputId": "6be535a1-650d-444d-c1f6-8e3ecb081b5d"
      },
      "source": [
        "#Check if there are redundant columns for latitude and longitude\n",
        "print(\"Lat Lon column samples: \")\n",
        "print(df_spark.select(\"Lat_Lon\").show(10))\n",
        "print(\"Latitude column samples: \")\n",
        "print(df_spark.select(\"Latitude\").show(10))\n",
        "print(\"Longitude column samples: \")\n",
        "print(df_spark.select(\"Longitude\").show(10))"
      ],
      "execution_count": null,
      "outputs": [
        {
          "output_type": "stream",
          "name": "stdout",
          "text": [
            "Lat Lon column samples: \n",
            "+--------------------+\n",
            "|             Lat_Lon|\n",
            "+--------------------+\n",
            "|(40.8209267970000...|\n",
            "|(40.8857014060000...|\n",
            "|(40.7422811560000...|\n",
            "|(40.8753114510000...|\n",
            "|(40.698827283, -7...|\n",
            "|(40.7207588210000...|\n",
            "|(40.6959583620000...|\n",
            "|(40.6115700660000...|\n",
            "|(40.8402341380000...|\n",
            "|(40.7728745600000...|\n",
            "+--------------------+\n",
            "only showing top 10 rows\n",
            "\n",
            "None\n",
            "Latitude column samples: \n",
            "+------------------+\n",
            "|          Latitude|\n",
            "+------------------+\n",
            "| 40.82092679700002|\n",
            "|40.885701406000074|\n",
            "| 40.74228115600005|\n",
            "| 40.87531145100007|\n",
            "|      40.698827283|\n",
            "| 40.72075882100006|\n",
            "|40.695958362000056|\n",
            "| 40.61157006600007|\n",
            "| 40.84023413800003|\n",
            "| 40.77287456000005|\n",
            "+------------------+\n",
            "only showing top 10 rows\n",
            "\n",
            "None\n",
            "Longitude column samples: \n",
            "+------------------+\n",
            "|         Longitude|\n",
            "+------------------+\n",
            "|-73.94332421899996|\n",
            "|-73.86164032499995|\n",
            "|      -73.81982408|\n",
            "|-73.84754521099995|\n",
            "|     -73.938819047|\n",
            "|-73.98046642299995|\n",
            "|-73.93763162199998|\n",
            "|-73.74736517199995|\n",
            "|-73.91768411399994|\n",
            "|-73.98954212299998|\n",
            "+------------------+\n",
            "only showing top 10 rows\n",
            "\n",
            "None\n"
          ]
        }
      ]
    },
    {
      "cell_type": "markdown",
      "metadata": {
        "id": "7aMXWfmZHTL1"
      },
      "source": [
        "We saw that the coordinates are redundant. So, we will remove the Latitude and Longitude columns"
      ]
    },
    {
      "cell_type": "code",
      "metadata": {
        "id": "nZhx_ANfHN5a"
      },
      "source": [
        "df_spark=df_spark.drop(\"Latitude\")\n",
        "df_spark=df_spark.drop(\"Longitude\")"
      ],
      "execution_count": null,
      "outputs": []
    },
    {
      "cell_type": "markdown",
      "metadata": {
        "id": "B_5W6BRudDKA"
      },
      "source": [
        "# Cleaning the data if complaint number is invalid- \n"
      ]
    },
    {
      "cell_type": "code",
      "metadata": {
        "id": "L6LW5-5UdDKB"
      },
      "source": [
        "#Checking if the complaint number is valid\n",
        "df2 = df_spark.filter(df_spark.CMPLNT_NUM.isNull()).drop()"
      ],
      "execution_count": null,
      "outputs": []
    },
    {
      "cell_type": "code",
      "metadata": {
        "colab": {
          "base_uri": "https://localhost:8080/"
        },
        "id": "c2UwK1B4dDKC",
        "outputId": "8a792c0f-4ad5-4b17-9c84-df97c7671faf"
      },
      "source": [
        "#We knew this from our profile analysis through openclean\n",
        "df2.count()"
      ],
      "execution_count": null,
      "outputs": [
        {
          "output_type": "execute_result",
          "data": {
            "text/plain": [
              "0"
            ]
          },
          "metadata": {},
          "execution_count": 22
        }
      ]
    },
    {
      "cell_type": "code",
      "metadata": {
        "id": "gMO9vo9rdDKD"
      },
      "source": [
        "df_spark = df_spark.subtract(df2)"
      ],
      "execution_count": null,
      "outputs": []
    },
    {
      "cell_type": "markdown",
      "metadata": {
        "id": "sB8q5gaQcDCT"
      },
      "source": [
        "# Cleaning the data if jurisdiction code is invalid- \n"
      ]
    },
    {
      "cell_type": "code",
      "metadata": {
        "id": "JIsOwfJ_cLD8"
      },
      "source": [
        "#Checking the validity of Jurisdiction code of the offense registered\n",
        "df2 = df_spark.filter(df_spark.JURISDICTION_CODE.isNull()).drop()"
      ],
      "execution_count": null,
      "outputs": []
    },
    {
      "cell_type": "code",
      "metadata": {
        "colab": {
          "base_uri": "https://localhost:8080/"
        },
        "id": "pKG5NhyvcK4j",
        "outputId": "a7e14520-840f-424a-eab5-5f564f0c1add"
      },
      "source": [
        "df2.count()"
      ],
      "execution_count": null,
      "outputs": [
        {
          "output_type": "execute_result",
          "data": {
            "text/plain": [
              "6278"
            ]
          },
          "metadata": {},
          "execution_count": 25
        }
      ]
    },
    {
      "cell_type": "code",
      "metadata": {
        "id": "WcI5Wb6FcLOm"
      },
      "source": [
        "#Filtering invalid jurisdiction code\n",
        "df_spark = df_spark.subtract(df2)"
      ],
      "execution_count": null,
      "outputs": []
    },
    {
      "cell_type": "markdown",
      "metadata": {
        "id": "RxYCgjE6cr4e"
      },
      "source": [
        "# Cleaning the data if precinct is invalid- \n"
      ]
    },
    {
      "cell_type": "code",
      "metadata": {
        "id": "18dbyG2Tcr4g"
      },
      "source": [
        "#Checking if it belongs to valid precinct\n",
        "df3 = df_spark.filter(df_spark.ADDR_PCT_CD.isNull()).drop()"
      ],
      "execution_count": null,
      "outputs": []
    },
    {
      "cell_type": "code",
      "metadata": {
        "colab": {
          "base_uri": "https://localhost:8080/"
        },
        "id": "t3GkkuYvcr4g",
        "outputId": "e2ce155d-0964-4769-8636-175bad13d782"
      },
      "source": [
        "df3.count()"
      ],
      "execution_count": null,
      "outputs": [
        {
          "output_type": "execute_result",
          "data": {
            "text/plain": [
              "384"
            ]
          },
          "metadata": {},
          "execution_count": 28
        }
      ]
    },
    {
      "cell_type": "code",
      "metadata": {
        "id": "hSqyh57Acr4h"
      },
      "source": [
        "df_spark = df_spark.subtract(df3)"
      ],
      "execution_count": null,
      "outputs": []
    },
    {
      "cell_type": "markdown",
      "metadata": {
        "id": "BdjoiTPd92mm"
      },
      "source": [
        "# Cleaning the columns associated with the dates- \n",
        "1. CMPLNT_FR_DT\n",
        "2. CMPLNT_TO_DT\n",
        "3. RPT_DT"
      ]
    },
    {
      "cell_type": "code",
      "metadata": {
        "id": "VcaN_ejwOLVw"
      },
      "source": [
        "df_temp=df_spark.rdd"
      ],
      "execution_count": null,
      "outputs": []
    },
    {
      "cell_type": "code",
      "metadata": {
        "id": "FCnmpX4aNn6U"
      },
      "source": [
        "#Deleting invalid dates\n",
        "import re\n",
        "import datetime\n",
        "def valid_date_check(date):\n",
        "  if date==None or date==\" \" or date==\"\":\n",
        "      return False\n",
        "  else:\n",
        "    date_cpy=date\n",
        "    date=date.split(\"/\")\n",
        "    try:\n",
        "      month=int(date[0])\n",
        "      day= int(date[1])\n",
        "      year=int(date[2])\n",
        "      if year>=2006 and year<=2020:\n",
        "        try:\n",
        "          refined_date=datetime.datetime(year, month, day)\n",
        "          return True\n",
        "        except:\n",
        "          return False\n",
        "      else:\n",
        "        return False\n",
        "    except:\n",
        "      return False"
      ],
      "execution_count": null,
      "outputs": []
    },
    {
      "cell_type": "code",
      "metadata": {
        "id": "9fsc_zxEm34X"
      },
      "source": [
        "#filter the dates with proper format for Column-2 (CMPLNT_FR_DT)\n",
        "df_temp=df_temp.map(lambda x:(x, valid_date_check(x[1]))).filter(lambda x: x[1]==True)\n",
        "temp=df_temp.map(lambda x: x[0])"
      ],
      "execution_count": null,
      "outputs": []
    },
    {
      "cell_type": "code",
      "metadata": {
        "id": "ADXT0RAQ7ucv"
      },
      "source": [
        "#filter the dates with proper format for Column-4 (CMPLNT_TO_DT)\n",
        "date_filtered_df=temp.map(lambda x:(x, valid_date_check(x[3]))).filter(lambda x: x[1]==True)\n",
        "temp=date_filtered_df.map(lambda x: x[0])"
      ],
      "execution_count": null,
      "outputs": []
    },
    {
      "cell_type": "code",
      "metadata": {
        "colab": {
          "base_uri": "https://localhost:8080/"
        },
        "id": "vEl25XRn5Nxd",
        "outputId": "876ec953-0912-44ef-e113-7e6027fc570f"
      },
      "source": [
        "temp.count()"
      ],
      "execution_count": null,
      "outputs": [
        {
          "output_type": "execute_result",
          "data": {
            "text/plain": [
              "5656479"
            ]
          },
          "metadata": {},
          "execution_count": 34
        }
      ]
    },
    {
      "cell_type": "code",
      "metadata": {
        "colab": {
          "base_uri": "https://localhost:8080/"
        },
        "id": "Zz7NJcCtYYRW",
        "outputId": "2e471b6e-e87a-4ae1-db8a-4711de8993cf"
      },
      "source": [
        "temp=date_filtered_df.map(lambda x: x[0])\n",
        "temp.take(10)"
      ],
      "execution_count": null,
      "outputs": [
        {
          "output_type": "execute_result",
          "data": {
            "text/plain": [
              "[Row(CMPLNT_NUM=413124026, CMPLNT_FR_DT='10/27/2019', CMPLNT_FR_TM='21:24:00', CMPLNT_TO_DT='10/27/2019', CMPLNT_TO_TM='21:24:00', ADDR_PCT_CD=20, RPT_DT='10/27/2019', KY_CD=351, OFNS_DESC='CRIMINAL MISCHIEF & RELATED OF', PD_CD=259, PD_DESC='CRIMINAL MISCHIEF,UNCLASSIFIED 4', CRM_ATPT_CPTD_CD='COMPLETED', LAW_CAT_CD='MISDEMEANOR', BORO_NM='MANHATTAN', LOC_OF_OCCUR_DESC='INSIDE', PREM_TYP_DESC='RESIDENCE - PUBLIC HOUSING', JURIS_DESC='N.Y. HOUSING POLICE', JURISDICTION_CODE=2, PARKS_NM=None, HADEVELOPT=None, HOUSING_PSA='45504.0', X_COORD_CD=988046, Y_COORD_CD=221545, SUSP_AGE_GROUP='25-44', SUSP_RACE='BLACK', SUSP_SEX='M', TRANSIT_DISTRICT=None, Lat_Lon='(40.774773578000065, -73.98629598399998)', PATROL_BORO='PATROL BORO MAN NORTH', STATION_NAME=None, VIC_AGE_GROUP='25-44', VIC_RACE='WHITE HISPANIC', VIC_SEX='F'),\n",
              " Row(CMPLNT_NUM=629183008, CMPLNT_FR_DT='10/04/2019', CMPLNT_FR_TM='21:00:00', CMPLNT_TO_DT='10/04/2019', CMPLNT_TO_TM='23:00:00', ADDR_PCT_CD=1, RPT_DT='10/06/2019', KY_CD=341, OFNS_DESC='PETIT LARCENY', PD_CD=338, PD_DESC='LARCENY,PETIT FROM BUILDING,UN', CRM_ATPT_CPTD_CD='COMPLETED', LAW_CAT_CD='MISDEMEANOR', BORO_NM='MANHATTAN', LOC_OF_OCCUR_DESC='INSIDE', PREM_TYP_DESC='RESTAURANT/DINER', JURIS_DESC='N.Y. POLICE DEPT', JURISDICTION_CODE=0, PARKS_NM=None, HADEVELOPT=None, HOUSING_PSA=None, X_COORD_CD=983316, Y_COORD_CD=202390, SUSP_AGE_GROUP=None, SUSP_RACE=None, SUSP_SEX=None, TRANSIT_DISTRICT=None, Lat_Lon='(40.722198683000045, -74.00337099599993)', PATROL_BORO='PATROL BORO MAN SOUTH', STATION_NAME=None, VIC_AGE_GROUP='UNKNOWN', VIC_RACE='UNKNOWN', VIC_SEX='F'),\n",
              " Row(CMPLNT_NUM=772195073, CMPLNT_FR_DT='09/08/2019', CMPLNT_FR_TM='15:15:00', CMPLNT_TO_DT='09/08/2019', CMPLNT_TO_TM='15:33:00', ADDR_PCT_CD=63, RPT_DT='09/08/2019', KY_CD=578, OFNS_DESC='HARRASSMENT 2', PD_CD=638, PD_DESC='HARASSMENT,SUBD 3,4,5', CRM_ATPT_CPTD_CD='COMPLETED', LAW_CAT_CD='VIOLATION', BORO_NM='BROOKLYN', LOC_OF_OCCUR_DESC='INSIDE', PREM_TYP_DESC='RESIDENCE-HOUSE', JURIS_DESC='N.Y. POLICE DEPT', JURISDICTION_CODE=0, PARKS_NM=None, HADEVELOPT=None, HOUSING_PSA=None, X_COORD_CD=1000521, Y_COORD_CD=168264, SUSP_AGE_GROUP='25-44', SUSP_RACE='WHITE', SUSP_SEX='M', TRANSIT_DISTRICT=None, Lat_Lon='(40.62851560000007, -73.94138369799998)', PATROL_BORO='PATROL BORO BKLYN SOUTH', STATION_NAME=None, VIC_AGE_GROUP='25-44', VIC_RACE='WHITE', VIC_SEX='F'),\n",
              " Row(CMPLNT_NUM=276452318, CMPLNT_FR_DT='09/05/2019', CMPLNT_FR_TM='10:00:00', CMPLNT_TO_DT='09/05/2019', CMPLNT_TO_TM='14:30:00', ADDR_PCT_CD=23, RPT_DT='09/05/2019', KY_CD=109, OFNS_DESC='GRAND LARCENY', PD_CD=421, PD_DESC='LARCENY,GRAND FROM VEHICLE/MOTORCYCLE', CRM_ATPT_CPTD_CD='COMPLETED', LAW_CAT_CD='FELONY', BORO_NM='MANHATTAN', LOC_OF_OCCUR_DESC='FRONT OF', PREM_TYP_DESC='RESIDENCE - PUBLIC HOUSING', JURIS_DESC='N.Y. HOUSING POLICE', JURISDICTION_CODE=2, PARKS_NM=None, HADEVELOPT=None, HOUSING_PSA='664.0', X_COORD_CD=999211, Y_COORD_CD=229699, SUSP_AGE_GROUP='UNKNOWN', SUSP_RACE='UNKNOWN', SUSP_SEX='U', TRANSIT_DISTRICT=None, Lat_Lon='(40.79714228700004, -73.94596657399995)', PATROL_BORO='PATROL BORO MAN NORTH', STATION_NAME=None, VIC_AGE_GROUP='25-44', VIC_RACE='BLACK HISPANIC', VIC_SEX='F'),\n",
              " Row(CMPLNT_NUM=552329494, CMPLNT_FR_DT='08/31/2019', CMPLNT_FR_TM='08:00:00', CMPLNT_TO_DT='08/31/2019', CMPLNT_TO_TM='08:10:00', ADDR_PCT_CD=83, RPT_DT='08/31/2019', KY_CD=351, OFNS_DESC='CRIMINAL MISCHIEF & RELATED OF', PD_CD=259, PD_DESC='CRIMINAL MISCHIEF,UNCLASSIFIED 4', CRM_ATPT_CPTD_CD='COMPLETED', LAW_CAT_CD='MISDEMEANOR', BORO_NM='BROOKLYN', LOC_OF_OCCUR_DESC='FRONT OF', PREM_TYP_DESC='RESIDENCE-HOUSE', JURIS_DESC='N.Y. POLICE DEPT', JURISDICTION_CODE=0, PARKS_NM=None, HADEVELOPT=None, HOUSING_PSA=None, X_COORD_CD=1007479, Y_COORD_CD=191348, SUSP_AGE_GROUP='UNKNOWN', SUSP_RACE='UNKNOWN', SUSP_SEX='U', TRANSIT_DISTRICT=None, Lat_Lon='(40.691860562000045, -73.91623736899999)', PATROL_BORO='PATROL BORO BKLYN NORTH', STATION_NAME=None, VIC_AGE_GROUP='45-64', VIC_RACE='BLACK', VIC_SEX='F'),\n",
              " Row(CMPLNT_NUM=844318101, CMPLNT_FR_DT='11/18/2019', CMPLNT_FR_TM='19:15:00', CMPLNT_TO_DT='11/18/2019', CMPLNT_TO_TM='19:30:00', ADDR_PCT_CD=13, RPT_DT='11/19/2019', KY_CD=109, OFNS_DESC='GRAND LARCENY', PD_CD=438, PD_DESC='LARCENY,GRAND FROM BUILDING (NON-RESIDENCE) UNATTENDED', CRM_ATPT_CPTD_CD='COMPLETED', LAW_CAT_CD='FELONY', BORO_NM='MANHATTAN', LOC_OF_OCCUR_DESC='INSIDE', PREM_TYP_DESC='GYM/FITNESS FACILITY', JURIS_DESC='N.Y. POLICE DEPT', JURISDICTION_CODE=0, PARKS_NM=None, HADEVELOPT=None, HOUSING_PSA=None, X_COORD_CD=988397, Y_COORD_CD=209060, SUSP_AGE_GROUP=None, SUSP_RACE=None, SUSP_SEX=None, TRANSIT_DISTRICT=None, Lat_Lon='(40.74050527800006, -73.985036397)', PATROL_BORO='PATROL BORO MAN SOUTH', STATION_NAME=None, VIC_AGE_GROUP='25-44', VIC_RACE='UNKNOWN', VIC_SEX='F'),\n",
              " Row(CMPLNT_NUM=486119790, CMPLNT_FR_DT='08/31/2019', CMPLNT_FR_TM='16:00:00', CMPLNT_TO_DT='08/31/2019', CMPLNT_TO_TM='18:00:00', ADDR_PCT_CD=61, RPT_DT='09/01/2019', KY_CD=341, OFNS_DESC='PETIT LARCENY', PD_CD=333, PD_DESC='LARCENY,PETIT FROM STORE-SHOPL', CRM_ATPT_CPTD_CD='COMPLETED', LAW_CAT_CD='MISDEMEANOR', BORO_NM='BROOKLYN', LOC_OF_OCCUR_DESC='INSIDE', PREM_TYP_DESC='CHAIN STORE', JURIS_DESC='N.Y. POLICE DEPT', JURISDICTION_CODE=0, PARKS_NM=None, HADEVELOPT=None, HOUSING_PSA=None, X_COORD_CD=998332, Y_COORD_CD=153604, SUSP_AGE_GROUP='UNKNOWN', SUSP_RACE='BLACK', SUSP_SEX='F', TRANSIT_DISTRICT=None, Lat_Lon='(40.58828065300003, -73.94930033099996)', PATROL_BORO='PATROL BORO BKLYN SOUTH', STATION_NAME=None, VIC_AGE_GROUP='UNKNOWN', VIC_RACE='UNKNOWN', VIC_SEX='D'),\n",
              " Row(CMPLNT_NUM=929708554, CMPLNT_FR_DT='08/03/2019', CMPLNT_FR_TM='12:00:00', CMPLNT_TO_DT='08/03/2019', CMPLNT_TO_TM='13:45:00', ADDR_PCT_CD=19, RPT_DT='08/03/2019', KY_CD=109, OFNS_DESC='GRAND LARCENY', PD_CD=438, PD_DESC='LARCENY,GRAND FROM BUILDING (NON-RESIDENCE) UNATTENDED', CRM_ATPT_CPTD_CD='COMPLETED', LAW_CAT_CD='FELONY', BORO_NM='MANHATTAN', LOC_OF_OCCUR_DESC=None, PREM_TYP_DESC='OTHER', JURIS_DESC='N.Y. POLICE DEPT', JURISDICTION_CODE=0, PARKS_NM=None, HADEVELOPT=None, HOUSING_PSA=None, X_COORD_CD=998117, Y_COORD_CD=219619, SUSP_AGE_GROUP=None, SUSP_RACE=None, SUSP_SEX=None, TRANSIT_DISTRICT=None, Lat_Lon='(40.769477151000046, -73.94993859399995)', PATROL_BORO='PATROL BORO MAN NORTH', STATION_NAME=None, VIC_AGE_GROUP='25-44', VIC_RACE='WHITE', VIC_SEX='M'),\n",
              " Row(CMPLNT_NUM=742115651, CMPLNT_FR_DT='07/10/2019', CMPLNT_FR_TM='18:30:00', CMPLNT_TO_DT='07/10/2019', CMPLNT_TO_TM='18:40:00', ADDR_PCT_CD=69, RPT_DT='07/10/2019', KY_CD=344, OFNS_DESC='ASSAULT 3 & RELATED OFFENSES', PD_CD=101, PD_DESC='ASSAULT 3', CRM_ATPT_CPTD_CD='COMPLETED', LAW_CAT_CD='MISDEMEANOR', BORO_NM='BROOKLYN', LOC_OF_OCCUR_DESC='INSIDE', PREM_TYP_DESC='RESIDENCE - PUBLIC HOUSING', JURIS_DESC='N.Y. HOUSING POLICE', JURISDICTION_CODE=2, PARKS_NM=None, HADEVELOPT=None, HOUSING_PSA='227.0', X_COORD_CD=1012833, Y_COORD_CD=175130, SUSP_AGE_GROUP='UNKNOWN', SUSP_RACE='BLACK', SUSP_SEX='M', TRANSIT_DISTRICT=None, Lat_Lon='(40.64733012700003, -73.89699955599998)', PATROL_BORO='PATROL BORO BKLYN SOUTH', STATION_NAME=None, VIC_AGE_GROUP='25-44', VIC_RACE='BLACK', VIC_SEX='F'),\n",
              " Row(CMPLNT_NUM=258880599, CMPLNT_FR_DT='06/15/2019', CMPLNT_FR_TM='12:00:00', CMPLNT_TO_DT='06/15/2019', CMPLNT_TO_TM='15:00:00', ADDR_PCT_CD=60, RPT_DT='06/15/2019', KY_CD=578, OFNS_DESC='HARRASSMENT 2', PD_CD=638, PD_DESC='HARASSMENT,SUBD 3,4,5', CRM_ATPT_CPTD_CD='COMPLETED', LAW_CAT_CD='VIOLATION', BORO_NM='BROOKLYN', LOC_OF_OCCUR_DESC=None, PREM_TYP_DESC='PARK/PLAYGROUND', JURIS_DESC='N.Y. POLICE DEPT', JURISDICTION_CODE=0, PARKS_NM='CONEY ISLAND BEACH & BOARDWALK', HADEVELOPT=None, HOUSING_PSA=None, X_COORD_CD=990784, Y_COORD_CD=149362, SUSP_AGE_GROUP='25-44', SUSP_RACE='WHITE HISPANIC', SUSP_SEX='M', TRANSIT_DISTRICT=None, Lat_Lon='(40.576645978000045, -73.97648039599994)', PATROL_BORO='PATROL BORO BKLYN SOUTH', STATION_NAME=None, VIC_AGE_GROUP='25-44', VIC_RACE='WHITE', VIC_SEX='M')]"
            ]
          },
          "metadata": {},
          "execution_count": 35
        }
      ]
    },
    {
      "cell_type": "markdown",
      "metadata": {
        "id": "7114-8soWAbX"
      },
      "source": [
        "## Cleaning the columns associated with the Time-\n",
        "\n",
        "1. CMPLNT_FR_TM\n",
        "2. CMPLNT_TO_TM"
      ]
    },
    {
      "cell_type": "code",
      "metadata": {
        "id": "F3qcF8tj_FLu"
      },
      "source": [
        "#Deleting invalid time\n",
        "def valid_time_check(time):\n",
        "  if time==None or time==\" \" or time==\"\":\n",
        "    return False\n",
        "  else :\n",
        "    cpy_time=time\n",
        "    time=time.split(\":\")\n",
        "    try:\n",
        "      hour=int(time[0])\n",
        "      mins=int(time[1])\n",
        "      secs= int(time[2])\n",
        "      # if hours is 24 then change it to 0 hours\n",
        "      if hour == 24 and mins== 0 and secs == 0:\n",
        "        hour=0\n",
        "      try:\n",
        "        newTime= datetime.time(hour,mins,secs)\n",
        "        return True\n",
        "      except :\n",
        "        return False\n",
        "    except:\n",
        "      return False"
      ],
      "execution_count": null,
      "outputs": []
    },
    {
      "cell_type": "code",
      "metadata": {
        "id": "y8yRBlLQG5mR"
      },
      "source": [
        "#filter the time with proper format for Column-3 (CMPLNT_FR_TM)\n",
        "fr_time_filtered_df=temp.map(lambda x:(x, valid_time_check(x[2]))).filter(lambda x: x[1]==True)\n",
        "temp=fr_time_filtered_df.map(lambda x: x[0])"
      ],
      "execution_count": null,
      "outputs": []
    },
    {
      "cell_type": "code",
      "metadata": {
        "id": "2tAWGmZgW_8S"
      },
      "source": [
        "#filter the dates with proper format for Column-5 (CMPLNT_TO_TM)\n",
        "to_time_filtered_df=temp.map(lambda x:(x, valid_time_check(x[4]))).filter(lambda x: x[1]==True)\n",
        "temp=to_time_filtered_df.map(lambda x: x[0])"
      ],
      "execution_count": null,
      "outputs": []
    },
    {
      "cell_type": "code",
      "metadata": {
        "colab": {
          "base_uri": "https://localhost:8080/"
        },
        "id": "6is2FyAecPIo",
        "outputId": "cef606e0-3b4f-4f5a-b53c-3ad05a50f6b6"
      },
      "source": [
        "temp.count()"
      ],
      "execution_count": null,
      "outputs": [
        {
          "output_type": "execute_result",
          "data": {
            "text/plain": [
              "5655465"
            ]
          },
          "metadata": {},
          "execution_count": 39
        }
      ]
    },
    {
      "cell_type": "markdown",
      "metadata": {
        "id": "_J9cjHirkLVh"
      },
      "source": [
        "# Cleaning the columns associated with the Level of offence-\n",
        "1. LAW_CAT_CD"
      ]
    },
    {
      "cell_type": "code",
      "metadata": {
        "id": "02JZeUgdiXUc"
      },
      "source": [
        "#offense should belong to one of the categories- 'FELONY',\"MISDEMEANOR\",\"VIOLATION\"\n",
        "def level_of_offence_check(offence):\n",
        "    if offence==\"\" or offence==\" \" or offence==None:\n",
        "        return False\n",
        "    else:\n",
        "        crimes_list=['FELONY',\"MISDEMEANOR\",\"VIOLATION\"]\n",
        "        if offence not in crimes_list:\n",
        "            return False\n",
        "        else :\n",
        "            return True"
      ],
      "execution_count": null,
      "outputs": []
    },
    {
      "cell_type": "code",
      "metadata": {
        "id": "JxMDxLBHlzmK"
      },
      "source": [
        "#Filtering offence\n",
        "offense_filtered_df=temp.map(lambda x:(x, level_of_offence_check(x[12]))).filter(lambda x: x[1]==True)\n",
        "temp=offense_filtered_df.map(lambda x: x[0])"
      ],
      "execution_count": null,
      "outputs": []
    },
    {
      "cell_type": "markdown",
      "metadata": {
        "id": "4NotQm3im8Uv"
      },
      "source": [
        "\n",
        "# Cleaning the columns associated with the valid borough name-\n",
        "1. BORO_NM"
      ]
    },
    {
      "cell_type": "code",
      "metadata": {
        "id": "16iwSCkDnN0b"
      },
      "source": [
        "#Complaint should be registered in a valid NYC borough\n",
        "def valid_borough_check(borough):\n",
        "    if borough==None or borough==\"\" or borough==\" \":\n",
        "        return False\n",
        "    else:\n",
        "        borough_names=[\"MANHATTAN\",'BRONX',\"BROOKLYN\",\"QUEENS\",\"STATEN ISLAND\"]\n",
        "        if borough not in borough_names:\n",
        "            return False\n",
        "        else :\n",
        "            return True"
      ],
      "execution_count": null,
      "outputs": []
    },
    {
      "cell_type": "code",
      "metadata": {
        "id": "kVBIJZmWm2K3"
      },
      "source": [
        "borough_filtered_df=temp.map(lambda x:(x, valid_borough_check(x[13]))).filter(lambda x: x[1]==True)\n",
        "temp=borough_filtered_df.map(lambda x: x[0])"
      ],
      "execution_count": null,
      "outputs": []
    },
    {
      "cell_type": "markdown",
      "metadata": {
        "id": "AfI1t0Yoob1B"
      },
      "source": [
        "# Cleaning the columns associated with the valid location of occurance-\n",
        "\n",
        "1. LOC_OF_OCC_DEC"
      ]
    },
    {
      "cell_type": "code",
      "metadata": {
        "id": "2ONXgIMrnyRA"
      },
      "source": [
        "#Offence should have occured at some place\n",
        "def valid_location_check(loc):\n",
        "    if loc is \"\" or loc is \" \":\n",
        "        return False\n",
        "    else:\n",
        "        loc_list=['FRONT OF','OPPOSITE OF','REAR OF','INSIDE','OUTSIDE']\n",
        "        if loc not in loc_list:\n",
        "            return False\n",
        "        else :\n",
        "            return True"
      ],
      "execution_count": null,
      "outputs": []
    },
    {
      "cell_type": "code",
      "metadata": {
        "id": "Yn_uIoJgn5o0"
      },
      "source": [
        "location_filtered_df=temp.map(lambda x:(x, valid_location_check(x[14]))).filter(lambda x: x[1]==True)\n",
        "temp=location_filtered_df.map(lambda x: x[0])"
      ],
      "execution_count": null,
      "outputs": []
    },
    {
      "cell_type": "markdown",
      "metadata": {
        "id": "-Cvsq8EZ2ky_"
      },
      "source": [
        "# Cleaning the columns associated with the valid crimes(attempted or completed)-\n",
        "\n",
        "1. CRM_ATPT_CPTD_CD"
      ]
    },
    {
      "cell_type": "code",
      "metadata": {
        "id": "isHPsXm62kzA"
      },
      "source": [
        "#Crime should either be attempted or completed\n",
        "def cmplt_attmpt_check(attmpt):\n",
        "    if attmpt is \"\" or attmpt is \" \":\n",
        "        return False\n",
        "    else:\n",
        "        attmpt_code_list=['COMPLETED',\"ATTEMPTED\"]\n",
        "        if attmpt not in attmpt_code_list:\n",
        "            return False\n",
        "        else:\n",
        "            return True"
      ],
      "execution_count": null,
      "outputs": []
    },
    {
      "cell_type": "code",
      "metadata": {
        "id": "9ZYO2_Jk2kzB"
      },
      "source": [
        "crime_filtered_df=temp.map(lambda x:(x, cmplt_attmpt_check(x[11]))).filter(lambda x: x[1]==True)\n",
        "temp=crime_filtered_df.map(lambda x: x[0])"
      ],
      "execution_count": null,
      "outputs": []
    },
    {
      "cell_type": "markdown",
      "metadata": {
        "id": "cCmf1Y8y3o-H"
      },
      "source": [
        "# Cleaning the columns associated with the valid Latitude and Longitude-\n",
        "\n",
        "1. Lat_Lon"
      ]
    },
    {
      "cell_type": "code",
      "metadata": {
        "id": "GpsIoAc-3o-i"
      },
      "source": [
        "#Checking the validity of coordinates\n",
        "class Point:\n",
        "    def __init__(self,x,y):\n",
        "        self.x = x\n",
        "        self.y = y\n",
        "#Bounding Box LatLong details for NYC\n",
        "lat_max=40.917577\n",
        "lat_min=40.477399\n",
        "\n",
        "long_max=-73.700009\n",
        "long_min=-74.25909\n",
        "#Function to check if lat long values present in NYC's Bounding Box\n",
        "def is_present_nyc(point):\n",
        "    if(point.x<lat_min or point.x>lat_max):\n",
        "      return False\n",
        "    if(point.y<long_min or point.y> long_max):\n",
        "      return False\n",
        "    return True\n",
        "\n",
        "#Function to check validity of Lat Long values x[23]\n",
        "def to_check_lat_long(x):\n",
        "    if x== None or x== \" \"or x==\"\\t\":\n",
        "        return False\n",
        "    x=x.strip(\"'\")\n",
        "    x=x.replace(\"(\",\"\")\n",
        "    x=x.replace(\")\",\"\")\n",
        "    lat,lon=x.split(\",\")\n",
        "    lat=lat.strip()\n",
        "    lon=lon.strip()\n",
        "    try:\n",
        "        lat=float(lat)\n",
        "        lon=float(lon)\n",
        "        if is_present_nyc(Point(lat,lon)) :\n",
        "            return True\n",
        "        else:\n",
        "            return False\n",
        "    except:\n",
        "        return False"
      ],
      "execution_count": null,
      "outputs": []
    },
    {
      "cell_type": "code",
      "metadata": {
        "id": "i6dYbskW3o-j"
      },
      "source": [
        "#Filtering the latitude and longitude that is invalid or is outside NYC\n",
        "latlong_filtered_df=temp.map(lambda x:(x, to_check_lat_long(x[27]))).filter(lambda x: x[1]==True)\n",
        "temp=latlong_filtered_df.map(lambda x: x[0])"
      ],
      "execution_count": null,
      "outputs": []
    },
    {
      "cell_type": "markdown",
      "metadata": {
        "id": "o9i0SwEtrdau"
      },
      "source": [
        "# Cleaning the columns associated with suspect and victim's age group-\n",
        "\n",
        "1. SUSP_AGE_GROUP\n",
        "2. VIC_AGE_GROUP"
      ]
    },
    {
      "cell_type": "code",
      "metadata": {
        "id": "bdTVGXM6lDkp"
      },
      "source": [
        "#Checking if age is not negative or greater than 100\n",
        "def to_check_age(x):\n",
        "    if x != None and x != \" \":\n",
        "        try:\n",
        "          x=x.split(\"-\")[0]\n",
        "          age = int(x)\n",
        "          if age<0 or age>100:\n",
        "            return False\n",
        "          else:\n",
        "            return True\n",
        "        except:\n",
        "          return True\n",
        "    return True"
      ],
      "execution_count": null,
      "outputs": []
    },
    {
      "cell_type": "code",
      "metadata": {
        "id": "RJBAt5IMlDJX"
      },
      "source": [
        "#Filtering invalid age of suspect\n",
        "suspect_age_filtered_df=temp.map(lambda x:(x, to_check_age(x[23]))).filter(lambda x: x[1]==True)\n",
        "temp=suspect_age_filtered_df.map(lambda x: x[0])"
      ],
      "execution_count": null,
      "outputs": []
    },
    {
      "cell_type": "code",
      "metadata": {
        "id": "kIpSjtUVm3bt"
      },
      "source": [
        "#Filtering invalid age of victim\n",
        "victim_age_filtered_df=temp.map(lambda x:(x, to_check_age(x[30]))).filter(lambda x: x[1]==True)\n",
        "temp=victim_age_filtered_df.map(lambda x: x[0])"
      ],
      "execution_count": null,
      "outputs": []
    },
    {
      "cell_type": "code",
      "metadata": {
        "id": "Cu9iW3D8iw3G",
        "colab": {
          "base_uri": "https://localhost:8080/"
        },
        "outputId": "ad3b73cc-2b68-4285-9cc0-27124b4edf36"
      },
      "source": [
        "#Count of filtered or cleaned data available\n",
        "temp.count()"
      ],
      "execution_count": null,
      "outputs": [
        {
          "output_type": "execute_result",
          "data": {
            "text/plain": [
              "4496605"
            ]
          },
          "metadata": {},
          "execution_count": 53
        }
      ]
    }
  ]
}